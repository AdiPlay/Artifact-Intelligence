{
 "cells": [
  {
   "cell_type": "code",
   "execution_count": 66,
   "id": "f0343177",
   "metadata": {},
   "outputs": [
    {
     "name": "stdout",
     "output_type": "stream",
     "text": [
      "2.11.0\n"
     ]
    }
   ],
   "source": [
    "# Adrian Kokoszka 19727\n",
    "# importowanie potrzebnych bibliotek\n",
    "import tensorflow as tf #biblioteka tensorflow, aby móc korzystać z funkcji związanych z uczeniem maszynowym\n",
    "import numpy as np #biblioteka numpy, aby móc korzystać z funkcji związanych z obliczeniami numerycznymi\n",
    "import matplotlib.pyplot as plt #biblioteka matplotlib, aby móc korzystać z funkcji związanych z rysowaniem wykresów\n",
    "from mpl_toolkits.mplot3d import Axes3D #biblioteka do rysowania wykresów 3D\n",
    "print(tf.__version__) #sprawdzenie wersji biblioteki tensorflow\n"
   ]
  },
  {
   "cell_type": "code",
   "execution_count": 67,
   "id": "c1248afb",
   "metadata": {},
   "outputs": [
    {
     "name": "stdout",
     "output_type": "stream",
     "text": [
      "(1000, 2)\n"
     ]
    }
   ],
   "source": [
    "observations=1000 #ilość obserwacji\n",
    "xs = np.random.uniform(low=-10,high=10, size=(observations,1)) #losowanie wartości z zakresu od -10 do 10 i zapisanie ich do tablicy xs\n",
    "xz = np.random.uniform(low=-10,high=10, size=(observations,1)) #losowanie wartości z zakresu od -10 do 10 i zapisanie ich do tablicy xz\n",
    "inputs=np.column_stack((xs,xz)) #łączenie dwóch tablic w jedną\n",
    "print(inputs.shape) #wypisanie rozmiaru tablicy, w tym przypadku 1000 wierszy i 2 kolumny"
   ]
  },
  {
   "cell_type": "code",
   "execution_count": 68,
   "id": "9ea57064",
   "metadata": {},
   "outputs": [
    {
     "name": "stdout",
     "output_type": "stream",
     "text": [
      "(1000, 1)\n"
     ]
    }
   ],
   "source": [
    "noise = np.random.uniform(low=-1,high=1, size=(observations,1)) # losowanie wartości szumu z zakresu od -1 do 1 i zapisanie ich do tablicy noise\n",
    "targets = 2*xs - 3*xz + 5 + noise #funkcja liniowa, która ma być wyznaczona przez sieć neuronową \n",
    "np.savez('TF_dataset', inputs=inputs, targets=targets)# zapisanie danych do pliku .npz\n",
    "print(targets.shape) # wypisanie rozmiaru tablicy, w tym przypadku 1000 wierszy i 1 kolumna"
   ]
  },
  {
   "cell_type": "code",
   "execution_count": 69,
   "id": "8fea3fc4",
   "metadata": {},
   "outputs": [
    {
     "data": {
      "image/png": "[encoded data removed]",
      "text/plain": [
       "<Figure size 432x288 with 1 Axes>"
      ]
     },
     "metadata": {
      "needs_background": "light"
     },
     "output_type": "display_data"
    }
   ],
   "source": [
    "targets = targets.reshape(observations,) #zmiana rozmiaru tablicy targets bez zmiany jej zawartości\n",
    "xs = xs.reshape(observations,) #zmiana rozmiaru tablicy xs, bez zmiany jej zawartości\n",
    "xz = xz.reshape(observations,) #zmiana rozmiaru tablicy xz bez zmiany jej zawartości\n",
    "fig = plt.figure() #tworzenie wykresu\n",
    "ax = fig.add_subplot(111, projection='3d') #wyswietlanie wykresu w trzech wymiarach\n",
    "ax.plot(xs,xz,targets) #rysowanie wykresu\n",
    "ax.set_xlabel('xs') #podpisanie osi x\n",
    "ax.set_ylabel('zs') #podpisanie osi y\n",
    "ax.set_zlabel('Targets') #podpisanie osi z\n",
    "ax.view_init(azim=100) #ustawienie kąta widzenia wykresu na 100 stopni\n",
    "plt.show() #wyświetlenie wykresu"
   ]
  },
  {
   "cell_type": "code",
   "execution_count": 70,
   "id": "9dd88368",
   "metadata": {},
   "outputs": [
    {
     "name": "stdout",
     "output_type": "stream",
     "text": [
      "[[-0.09260147]\n",
      " [ 0.06073318]] [-0.02994002]\n"
     ]
    }
   ],
   "source": [
    "init_range = 0.1 #zakres losowania wartości początkowych\n",
    "weights = np.random.uniform(low=-init_range,high=init_range, size=(2,1)) #losowanie wag z zakresu -0.1 do 0.1 i zapisanie ich do tablicy weights\n",
    "biases = np.random.uniform(low=-init_range,high=init_range, size=1) #losowanie biasów z zakresu -0.1 do 0.1 i zapisanie ich do tablicy biases\n",
    "print(weights,biases)   #wypisanie wartości początkowych weights i biases"
   ]
  },
  {
   "cell_type": "code",
   "execution_count": 71,
   "id": "0fd1230f",
   "metadata": {},
   "outputs": [
    {
     "name": "stdout",
     "output_type": "stream",
     "text": [
      "241.7449327572902\n",
      "36.2344395445423\n",
      "14.463004659081577\n",
      "11.782531727385814\n",
      "11.103054124505304\n",
      "10.647714233093232\n",
      "10.230941638200209\n",
      "9.832789713819777\n",
      "9.450598656099952\n",
      "9.083536363054682\n",
      "8.730983804304975\n",
      "8.39236530036721\n",
      "8.06712990770037\n",
      "7.754748666305081\n",
      "7.454713544093116\n",
      "7.166536590056768\n",
      "6.889749138528192\n",
      "6.623901046751612\n",
      "6.368559962786177\n",
      "6.123310622364177\n",
      "5.887754173541514\n",
      "5.661507528039974\n",
      "5.4442027382261475\n",
      "5.235486398713793\n",
      "5.035019071616405\n",
      "4.8424747345153225\n",
      "4.657540250245554\n",
      "4.479914857637035\n",
      "4.3093096823831605\n",
      "4.145447267240999\n",
      "3.988061120799279\n",
      "3.836895284080196\n",
      "3.6917039142702612\n",
      "3.5522508849031813\n",
      "3.4183094018445592\n",
      "3.2896616344538696\n",
      "3.1660983613238747\n",
      "3.047418630021343\n",
      "2.9334294302756945\n",
      "2.823945380084082\n",
      "2.718788424222419\n",
      "2.617787544672031\n",
      "2.520778482491\n",
      "2.4276034706778766\n",
      "2.338110977593318\n",
      "2.252155460522355\n",
      "2.169597128976542\n",
      "2.090301717350997\n",
      "2.0141402665666495\n",
      "1.9409889143425276\n",
      "1.8707286937570624\n",
      "1.8032453397707433\n",
      "1.7384291033955188\n",
      "1.6761745732087057\n",
      "1.6163805039211139\n",
      "1.5589496517206345\n",
      "1.5037886161234477\n",
      "1.450807688075709\n",
      "1.3999207040586255\n",
      "1.3510449059597036\n",
      "1.30410080648223\n",
      "1.259012059874127\n",
      "1.2157053377659508\n",
      "1.174110209916071\n",
      "1.1341590296691306\n",
      "1.0957868239414819\n",
      "1.058931187554674\n",
      "1.0235321817451688\n",
      "0.9895322366852084\n",
      "0.9568760578563109\n",
      "0.9255105361231367\n",
      "0.8953846613614616\n",
      "0.8664494394998026\n",
      "0.8386578128397653\n",
      "0.8119645835255553\n",
      "0.7863263400381504\n",
      "0.7617013865946403\n",
      "0.73804967533786\n",
      "0.7153327412060921\n",
      "0.6935136393768689\n",
      "0.6725568851831663\n",
      "0.65242839640426\n",
      "0.6330954378374097\n",
      "0.6145265680601992\n",
      "0.5966915882969758\n",
      "0.5795614933062215\n",
      "0.5631084242089764\n",
      "0.5473056231816129\n",
      "0.5321273899392662\n",
      "0.5175490399391517\n",
      "0.5035468642357956\n",
      "0.49009809092289663\n",
      "0.4771808480990983\n",
      "0.46477412829745335\n",
      "0.45285775432073044\n",
      "0.4414123464269933\n",
      "0.430419290812098\n",
      "0.41986070933783504\n",
      "0.4097194304565038\n",
      "0.39997896128461524\n"
     ]
    }
   ],
   "source": [
    "targets = targets.reshape(observations,1) #Przekształcenie tablicy targets do postaci 1000 wierszy (obserwacji) i 1 kolumny\n",
    "eta = 0.02 #współczynnik uczenia sieci neuronowej \n",
    "for i in range (100): #pętla wykonująca się 100 razy \n",
    "    outputs = np.dot(inputs, weights) + biases #obliczenie wartości wyjściowej sieci neuronowej \n",
    "    deltas = outputs - targets #obliczenie wartości błędu sieci neuronowej \n",
    "    \n",
    "    loss = np.sum(deltas ** 2)/2/observations #obliczenie wartości funkcji kosztu\n",
    "    print(loss) #wypisanie wartości funkcji kosztu     \n",
    "    \n",
    "    deltas_scaled = deltas/observations #obliczenie wartości błędu sieci neuronowej \n",
    "    weights = weights - eta * np.dot(inputs.T, deltas_scaled) #obliczenie nowych wartości weights, które są wykorzystywane w kolejnej iteracji pętli \n",
    "    biases = biases - eta * np.sum(deltas_scaled) #obliczenie nowych wartości biases, które są wykorzystywane w kolejnej iteracji pętli\n",
    "    "
   ]
  },
  {
   "cell_type": "code",
   "execution_count": 72,
   "id": "a8383f56",
   "metadata": {},
   "outputs": [
    {
     "name": "stdout",
     "output_type": "stream",
     "text": [
      "[[ 1.9915436 ]\n",
      " [-2.99524921]] [4.343558]\n"
     ]
    }
   ],
   "source": [
    "print (weights, biases) #wypisanie wartości weights i biases po 100 iteracjach pętli"
   ]
  },
  {
   "cell_type": "code",
   "execution_count": 73,
   "id": "6a93752c",
   "metadata": {},
   "outputs": [
    {
     "data": {
      "image/png": "[encoded data removed]",
      "text/plain": [
       "<Figure size 432x288 with 1 Axes>"
      ]
     },
     "metadata": {
      "needs_background": "light"
     },
     "output_type": "display_data"
    }
   ],
   "source": [
    "plt.plot(outputs, targets, color='orange') #rysowanie wykresu, gdzie osie x i y to outputs i targets\n",
    "plt.xlabel('outputs') #podpisanie osi x\n",
    "plt.ylabel('targets') #podpisanie osi y\n",
    "plt.show() #wyświetlenie wykresu"
   ]
  },
  {
   "cell_type": "code",
   "execution_count": null,
   "id": "d24c8b37-c027-4d2e-9399-bb6464506232",
   "metadata": {},
   "outputs": [],
   "source": []
  }
 ],
 "metadata": {
  "kernelspec": {
   "display_name": "Python 3 (ipykernel)",
   "language": "python",
   "name": "python3"
  },
  "language_info": {
   "codemirror_mode": {
    "name": "ipython",
    "version": 3
   },
   "file_extension": ".py",
   "mimetype": "text/x-python",
   "name": "python",
   "nbconvert_exporter": "python",
   "pygments_lexer": "ipython3",
   "version": "3.9.12"
  }
 },
 "nbformat": 4,
 "nbformat_minor": 5
}
