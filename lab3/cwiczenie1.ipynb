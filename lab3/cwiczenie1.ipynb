{
 "cells": [
  {
   "cell_type": "code",
   "execution_count": 1,
   "id": "f0343177",
   "metadata": {},
   "outputs": [
    {
     "name": "stdout",
     "output_type": "stream",
     "text": [
      "2.11.0\n"
     ]
    }
   ],
   "source": [
    "# Adrian Kokoszka 19727\n",
    "# importowanie potrzebnych bibliotek\n",
    "import tensorflow as tf #biblioteka tensorflow\n",
    "import numpy as np #biblioteka numpy, aby móc korzystać z funkcji związanych z obliczeniami matematycznymi\n",
    "import matplotlib.pyplot as plt #biblioteka matplotlib, aby móc korzystać z funkcji związanych z rysowaniem wykresów\n",
    "from mpl_toolkits.mplot3d import Axes3D #biblioteka do rysowania wykresów 3D\n",
    "print(tf.__version__) #sprawdzenie wersji biblioteki tensorflow\n"
   ]
  },
  {
   "cell_type": "code",
   "execution_count": 2,
   "id": "c1248afb",
   "metadata": {},
   "outputs": [
    {
     "name": "stdout",
     "output_type": "stream",
     "text": [
      "(1000, 2)\n"
     ]
    }
   ],
   "source": [
    "observations=1000 #ilość obserwacji\n",
    "xs = np.random.uniform(low=-10,high=10, size=(observations,1)) #losowanie wartości z zakresu od -10 do 10 i zapisanie ich do tablicy xs\n",
    "xz = np.random.uniform(low=-10,high=10, size=(observations,1)) #losowanie wartości z zakresu od -10 do 10 i zapisanie ich do tablicy xz\n",
    "inputs=np.column_stack((xs,xz)) #łączenie dwóch tablic w jedną\n",
    "print(inputs.shape) #wypisanie rozmiaru tablicy, w tym przypadku 1000 wierszy i 2 kolumny"
   ]
  },
  {
   "cell_type": "code",
   "execution_count": 3,
   "id": "9ea57064",
   "metadata": {},
   "outputs": [
    {
     "name": "stdout",
     "output_type": "stream",
     "text": [
      "(1000, 1)\n"
     ]
    }
   ],
   "source": [
    "noise = np.random.uniform(low=-1,high=1, size=(observations,1)) # losowanie wartości szumu z zakresu od -1 do 1 i zapisanie ich do tablicy noise\n",
    "targets = 2*xs - 3*xz + 5 + noise #funkcja liniowa, która ma być wyznaczona przez sieć neuronową \n",
    "np.savez('TF_dataset', inputs=inputs, targets=targets)# zapisanie danych do pliku .npz\n",
    "print(targets.shape) # wypisanie rozmiaru tablicy, w tym przypadku 1000 wierszy i 1 kolumna"
   ]
  },
  {
   "cell_type": "code",
   "execution_count": 4,
   "id": "8fea3fc4",
   "metadata": {},
   "outputs": [
    {
     "data": {
      "image/png": "[encoded data removed]",
      "text/plain": [
       "<Figure size 432x288 with 1 Axes>"
      ]
     },
     "metadata": {
      "needs_background": "light"
     },
     "output_type": "display_data"
    }
   ],
   "source": [
    "targets = targets.reshape(observations,) #zmiana rozmiaru tablicy targets bez zmiany jej zawartości\n",
    "xs = xs.reshape(observations,) #zmiana rozmiaru tablicy xs, bez zmiany jej zawartości\n",
    "xz = xz.reshape(observations,) #zmiana rozmiaru tablicy xz bez zmiany jej zawartości\n",
    "fig = plt.figure() #tworzenie wykresu\n",
    "ax = fig.add_subplot(111, projection='3d') #wyswietlanie wykresu w trzech wymiarach\n",
    "ax.plot(xs,xz,targets) #rysowanie wykresu\n",
    "ax.set_xlabel('xs') #podpisanie osi x\n",
    "ax.set_ylabel('zs') #podpisanie osi y\n",
    "ax.set_zlabel('Targets') #podpisanie osi z\n",
    "ax.view_init(azim=100) #ustawienie kąta widzenia wykresu na 100 stopni\n",
    "plt.show() #wyświetlenie wykresu"
   ]
  },
  {
   "cell_type": "code",
   "execution_count": 5,
   "id": "9dd88368",
   "metadata": {},
   "outputs": [
    {
     "name": "stdout",
     "output_type": "stream",
     "text": [
      "[[0.07235325]\n",
      " [0.03127739]] [0.08300823]\n"
     ]
    }
   ],
   "source": [
    "init_range = 0.1 #zakres losowania wartości początkowych\n",
    "weights = np.random.uniform(low=-init_range,high=init_range, size=(2,1)) #losowanie wagi z zakresu -0.1 do 0.1 i zapisanie do tablicy weights\n",
    "biases = np.random.uniform(low=-init_range,high=init_range, size=1) #losowanie odchylenia z zakresu -0.1 do 0.1 i zapisanie do tablicy biases\n",
    "print(weights,biases)   #wypisanie wartości początkowych wag i odchylenia"
   ]
  },
  {
   "cell_type": "code",
   "execution_count": 6,
   "id": "0fd1230f",
   "metadata": {},
   "outputs": [
    {
     "name": "stdout",
     "output_type": "stream",
     "text": [
      "221.83755684234075\n",
      "37.238681954449675\n",
      "14.444718197761715\n",
      "11.279338894310431\n",
      "10.520774551651119\n",
      "10.071592248821213\n",
      "9.674554950915478\n",
      "9.297476371833302\n",
      "8.93584607400312\n",
      "8.588591224328075\n",
      "8.255085501139131\n",
      "7.934777664081876\n",
      "7.627144570083628\n",
      "7.33168456486944\n",
      "7.047915943782937\n",
      "6.775376075770523\n",
      "6.513620637716749\n",
      "6.262222888616823\n",
      "6.020772973675793\n",
      "5.788877256097301\n",
      "5.566157675332943\n",
      "5.35225113072819\n",
      "5.146808889557862\n",
      "4.949496018485716\n",
      "4.759990837521223\n",
      "4.577984395583362\n",
      "4.40317996681639\n",
      "4.235292566836452\n",
      "4.074048488120353\n",
      "3.9191848537790634\n",
      "3.7704491889884215\n",
      "3.627599009378404\n",
      "3.4904014257098357\n",
      "3.3586327641940996\n",
      "3.2320782018368464\n",
      "3.1105314162111704\n",
      "2.993794249089295\n",
      "2.8816763833844017\n",
      "2.7739950328759018\n",
      "2.6705746442122913\n",
      "2.5712466107058027\n",
      "2.4758489974522218\n",
      "2.3842262773277434\n",
      "2.2962290774324603\n",
      "2.211713935567094\n",
      "2.130543066346001\n",
      "2.0525841365650668\n",
      "1.9777100494583388\n",
      "1.9057987374916512\n",
      "1.8367329633554166\n",
      "1.770400128832146\n",
      "1.7066920912271186\n",
      "1.6455049870628955\n",
      "1.586739062750262\n",
      "1.5302985119595358\n",
      "1.4760913194271175\n",
      "1.4240291109426177\n",
      "1.3740270092720257\n",
      "1.3260034957819902\n",
      "1.2798802775396685\n",
      "1.2355821596714214\n",
      "1.1930369227723086\n",
      "1.1521752051664889\n",
      "1.1129303898265948\n",
      "1.0752384957677144\n",
      "1.0390380737389324\n",
      "1.004270106042354\n",
      "0.9708779103163149\n",
      "0.9388070471258892\n",
      "0.9080052312100554\n",
      "0.8784222462408146\n",
      "0.8500098629553061\n",
      "0.8227217605274416\n",
      "0.796513451050868\n",
      "0.7713422070101503\n",
      "0.7471669916219296\n",
      "0.7239483919324783\n",
      "0.7016485545626056\n",
      "0.6802311239951322\n",
      "0.6596611833043419\n",
      "0.6399051972307747\n",
      "0.6209309575085494\n",
      "0.6027075303560988\n",
      "0.5852052060446984\n",
      "0.5683954504625677\n",
      "0.5522508585955948\n",
      "0.5367451098488241\n",
      "0.5218529251358845\n",
      "0.5075500256663905\n",
      "0.4938130933641272\n",
      "0.48061973285149373\n",
      "0.4679484349382319\n",
      "0.4557785415548957\n",
      "0.4440902120739253\n",
      "0.4328643909633803\n",
      "0.42208277672063277\n",
      "0.4117277920353496\n",
      "0.40178255513313244\n",
      "0.39223085225309\n",
      "0.38305711121447433\n"
     ]
    }
   ],
   "source": [
    "targets = targets.reshape(observations,1) #Przekształcenie tablicy targets do postaci 1000 wierszy (obserwacji) i 1 kolumny\n",
    "eta = 0.02 #współczynnik uczenia \n",
    "for i in range (100): #pętla wykonująca się 100 razy \n",
    "    outputs = np.dot(inputs, weights) + biases #obliczenie wartości wyjściowej sieci neuronowej \n",
    "    deltas = outputs - targets #obliczenie wartości błędu sieci neuronowej \n",
    "    \n",
    "    loss = np.sum(deltas ** 2)/2/observations #obliczenie wartości funkcji kosztu\n",
    "    print(loss) #wypisanie wartości funkcji kosztu     \n",
    "    \n",
    "    deltas_scaled = deltas/observations #obliczenie wartości deltas_scaled dzieląc wartości deltas przez ilość obserwacji\n",
    "    weights = weights - eta * np.dot(inputs.T, deltas_scaled) #obliczenie nowych wartości weights, które są wykorzystywane w kolejnej iteracji pętli \n",
    "    biases = biases - eta * np.sum(deltas_scaled) #obliczenie nowych wartości odchylenia, które są wykorzystywane w kolejnej iteracji pętli\n",
    "    "
   ]
  },
  {
   "cell_type": "code",
   "execution_count": 7,
   "id": "a8383f56",
   "metadata": {},
   "outputs": [
    {
     "name": "stdout",
     "output_type": "stream",
     "text": [
      "[[ 1.9916347 ]\n",
      " [-3.00590554]] [4.34917437]\n"
     ]
    }
   ],
   "source": [
    "print (weights, biases) #wypisanie wartości wag i odchyleń po 100 powtórzeniach pętli"
   ]
  },
  {
   "cell_type": "code",
   "execution_count": 8,
   "id": "6a93752c",
   "metadata": {},
   "outputs": [
    {
     "data": {
      "image/png": "[encoded data removed]",
      "text/plain": [
       "<Figure size 432x288 with 1 Axes>"
      ]
     },
     "metadata": {
      "needs_background": "light"
     },
     "output_type": "display_data"
    }
   ],
   "source": [
    "plt.plot(outputs, targets, color='orange') #rysowanie wykresu, gdzie osie x i y to kolejno outputs i targets\n",
    "plt.xlabel('outputs') #podpisanie osi x jako outputs\n",
    "plt.ylabel('targets') #podpisanie osi y jako targets\n",
    "plt.show() #wyświetlenie wykresu"
   ]
  },
  {
   "cell_type": "code",
   "execution_count": null,
   "id": "d24c8b37-c027-4d2e-9399-bb6464506232",
   "metadata": {},
   "outputs": [],
   "source": []
  }
 ],
 "metadata": {
  "kernelspec": {
   "display_name": "Python 3 (ipykernel)",
   "language": "python",
   "name": "python3"
  },
  "language_info": {
   "codemirror_mode": {
    "name": "ipython",
    "version": 3
   },
   "file_extension": ".py",
   "mimetype": "text/x-python",
   "name": "python",
   "nbconvert_exporter": "python",
   "pygments_lexer": "ipython3",
   "version": "3.9.12"
  }
 },
 "nbformat": 4,
 "nbformat_minor": 5
}
