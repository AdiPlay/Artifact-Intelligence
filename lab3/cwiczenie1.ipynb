{
 "cells": [
  {
   "cell_type": "code",
   "execution_count": 9,
   "id": "f0343177",
   "metadata": {},
   "outputs": [
    {
     "name": "stdout",
     "output_type": "stream",
     "text": [
      "2.11.0\n"
     ]
    }
   ],
   "source": [
    "# Adrian Kokoszka 19727\n",
    "# importowanie potrzebnych bibliotek\n",
    "import tensorflow as tf #biblioteka tensorflow, aby móc korzystać z funkcji związanych z uczeniem maszynowym\n",
    "import numpy as np #biblioteka numpy, aby móc korzystać z funkcji związanych z obliczeniami numerycznymi\n",
    "import matplotlib.pyplot as plt #biblioteka matplotlib, aby móc korzystać z funkcji związanych z rysowaniem wykresów\n",
    "from mpl_toolkits.mplot3d import Axes3D #biblioteka do rysowania wykresów 3D\n",
    "print(tf.__version__) #sprawdzenie wersji biblioteki tensorflow\n"
   ]
  },
  {
   "cell_type": "code",
   "execution_count": 10,
   "id": "c1248afb",
   "metadata": {},
   "outputs": [
    {
     "name": "stdout",
     "output_type": "stream",
     "text": [
      "(1000, 2)\n"
     ]
    }
   ],
   "source": [
    "observations=1000 #ilość obserwacji\n",
    "xs = np.random.uniform(low=-10,high=10, size=(observations,1)) #losowanie wartości z zakresu od -10 do 10 i zapisanie ich do tablicy xs\n",
    "xz = np.random.uniform(low=-10,high=10, size=(observations,1)) #losowanie wartości z zakresu od -10 do 10 i zapisanie ich do tablicy xz\n",
    "inputs=np.column_stack((xs,xz)) #łączenie dwóch tablic w jedną\n",
    "print(inputs.shape) #wypisanie rozmiaru tablicy, w tym przypadku 1000 wierszy i 2 kolumny"
   ]
  },
  {
   "cell_type": "code",
   "execution_count": 11,
   "id": "9ea57064",
   "metadata": {},
   "outputs": [
    {
     "name": "stdout",
     "output_type": "stream",
     "text": [
      "(1000, 1)\n"
     ]
    }
   ],
   "source": [
    "noise = np.random.uniform(low=-1,high=1, size=(observations,1)) # losowanie wartości szumu z zakresu od -1 do 1 i zapisanie ich do tablicy noise\n",
    "targets = 2*xs - 3*xz + 5 + noise #funkcja liniowa, która ma być wyznaczona przez sieć neuronową \n",
    "np.savez('TF_dataset', inputs=inputs, targets=targets)# zapisanie danych do pliku .npz\n",
    "print(targets.shape) # wypisanie rozmiaru tablicy, w tym przypadku 1000 wierszy i 1 kolumna"
   ]
  },
  {
   "cell_type": "code",
   "execution_count": 12,
   "id": "8fea3fc4",
   "metadata": {},
   "outputs": [
    {
     "data": {
      "image/png": "[encoded data removed]",
      "text/plain": [
       "<Figure size 432x288 with 1 Axes>"
      ]
     },
     "metadata": {
      "needs_background": "light"
     },
     "output_type": "display_data"
    }
   ],
   "source": [
    "targets = targets.reshape(observations,) #zmiana rozmiaru tablicy targets bez zmiany jej zawartości\n",
    "xs = xs.reshape(observations,) #zmiana rozmiaru tablicy xs bez zmiany jej zawartości\n",
    "xz = xz.reshape(observations,) #zmiana rozmiaru tablicy xz bez zmiany jej zawartości\n",
    "fig = plt.figure() #tworzenie wykresu\n",
    "ax = fig.add_subplot(111, projection='3d') #wyswietlanie wykresu w trzech wymiarach\n",
    "ax.plot(xs,xz,targets) #rysowanie wykresu\n",
    "ax.set_xlabel('xs') #podpisanie osi x\n",
    "ax.set_ylabel('zs') #podpisanie osi y\n",
    "ax.set_zlabel('Targets') #podpisanie osi z\n",
    "ax.view_init(azim=100) #zmiana kąta widzenia wykresu o 100 stopni\n",
    "plt.show() #wyświetlenie wykresu"
   ]
  },
  {
   "cell_type": "code",
   "execution_count": 13,
   "id": "9dd88368",
   "metadata": {},
   "outputs": [
    {
     "name": "stdout",
     "output_type": "stream",
     "text": [
      "[[ 0.09338525]\n",
      " [-0.02231573]] [0.02637758]\n"
     ]
    }
   ],
   "source": [
    "init_range = 0.1 #zakres losowania wartości początkowych\n",
    "weights = np.random.uniform(low=-init_range,high=init_range, size=(2,1)) #losowanie wartości z rozkładu jednostajnego z zakresu od -0.1 do 0.1 i zapisanie ich do tablicy weights\n",
    "biases = np.random.uniform(low=-init_range,high=init_range, size=1) #losowanie wartości z rozkładu jednostajnego z zakresu od -0.1 do 0.1 i zapisanie ich do tablicy biases\n",
    "print(weights,biases)   #wypisanie wartości początkowych weights i biases"
   ]
  },
  {
   "cell_type": "code",
   "execution_count": 14,
   "id": "0fd1230f",
   "metadata": {},
   "outputs": [
    {
     "name": "stdout",
     "output_type": "stream",
     "text": [
      "242.4675398053102\n",
      "27.845082403251673\n",
      "12.674097636990364\n",
      "11.175942953777533\n",
      "10.664266835404094\n",
      "10.2423489238053\n",
      "9.842763025966532\n",
      "9.459496974905223\n",
      "9.09145341184673\n",
      "8.737986055102729\n",
      "8.398513256379971\n",
      "8.072480455505273\n",
      "7.759355496393595\n",
      "7.458627342948971\n",
      "7.16980519738191\n",
      "6.892417693608011\n",
      "6.626012127296022\n",
      "6.3701537169609725\n",
      "6.124424894378646\n",
      "5.888424623101148\n",
      "5.66176774395383\n",
      "5.444084346444535\n",
      "5.235019165059105\n",
      "5.034230999457926\n",
      "4.841392157627255\n",
      "4.65618792107649\n",
      "4.478316031208624\n",
      "4.307486196025594\n",
      "4.143419616363459\n",
      "3.9858485308842027\n",
      "3.834515779081604\n",
      "3.6891743815879563\n",
      "3.5495871370966823\n",
      "3.415526235243039\n",
      "3.2867728848111133\n",
      "3.1631169566603083\n",
      "3.044356640788594\n",
      "2.930298116972827\n",
      "2.820755238448616\n",
      "2.7155492281135003\n",
      "2.6145083867576044\n",
      "2.517467812845649\n",
      "2.424269133392921\n",
      "2.3347602454960614\n",
      "2.248795068096776\n",
      "2.1662333035733936\n",
      "2.0869402087711366\n",
      "2.0107863750974486\n",
      "1.9376475173234862\n",
      "1.8674042707470722\n",
      "1.7999419963861047\n",
      "1.7351505938844625\n",
      "1.6729243218250909\n",
      "1.613161625156978\n",
      "1.5557649694544324\n",
      "1.500640681738107\n",
      "1.4476987975980244\n",
      "1.396852914369103\n",
      "1.3480200501195307\n",
      "1.3011205082218937\n",
      "1.2560777472860067\n",
      "1.212818256241175\n",
      "1.171271434364037\n",
      "1.131369476056161\n",
      "1.0930472601833885\n",
      "1.0562422437962729\n",
      "1.0208943600582039\n",
      "0.9869459202146241\n",
      "0.9543415194433282\n",
      "0.9230279464322156\n",
      "0.8929540965369124\n",
      "0.8640708883765325\n",
      "0.8363311837314632\n",
      "0.8096897106124484\n",
      "0.7841029893754093\n",
      "0.759529261761425\n",
      "0.735928422746063\n",
      "0.7132619550868364\n",
      "0.6914928664619643\n",
      "0.6705856290978459\n",
      "0.6505061217867252\n",
      "0.6312215741999002\n",
      "0.612700513405618\n",
      "0.5949127125043494\n",
      "0.5778291412976251\n",
      "0.5614219189099268\n",
      "0.5456642682863012\n",
      "0.5305304724914431\n",
      "0.5159958327389242\n",
      "0.5020366280820672\n",
      "0.4886300767006842\n",
      "0.4757542987205003\n",
      "0.4633882805045696\n",
      "0.45151184035842107\n",
      "0.44010559559296325\n",
      "0.42915093089137374\n",
      "0.4186299679283776\n",
      "0.408525536192309\n",
      "0.3988211449623457\n",
      "0.3895009563951821\n"
     ]
    }
   ],
   "source": [
    "targets = targets.reshape(observations,1) #!!!!!!!!!!!!!!!!!!!!!!!!!!!!!!!!!!!!!!!!!!!!!!! przeksztalcic z powrotem \n",
    "eta = 0.02 #współczynnik uczenia sieci neuronowej \n",
    "for i in range (100): #pętla wykonująca się 100 razy \n",
    "    outputs = np.dot(inputs, weights) + biases #obliczenie wartości wyjściowej sieci neuronowej \n",
    "    deltas = outputs - targets #obliczenie wartości błędu sieci neuronowej \n",
    "    \n",
    "    loss = np.sum(deltas ** 2)/2/observations #obliczenie wartości funkcji kosztu \n",
    "    print(loss) #wypisanie wartości funkcji kosztu     \n",
    "    \n",
    "    deltas_scaled = deltas/observations #obliczenie wartości błędu sieci neuronowej \n",
    "    weights = weights - eta * np.dot(inputs.T, deltas_scaled) #obliczenie nowych wartości weights, które są wykorzystywane w kolejnej iteracji pętli \n",
    "    biases = biases - eta * np.sum(deltas_scaled) #obliczenie nowych wartości biases, które są wykorzystywane w kolejnej iteracji pętli\n",
    "    "
   ]
  },
  {
   "cell_type": "code",
   "execution_count": 15,
   "id": "a8383f56",
   "metadata": {},
   "outputs": [
    {
     "name": "stdout",
     "output_type": "stream",
     "text": [
      "[[ 2.00616429]\n",
      " [-3.00008915]] [4.32787825]\n"
     ]
    }
   ],
   "source": [
    "print (weights, biases) #wypisanie wartości weights i biases po 100 iteracjach pętli"
   ]
  },
  {
   "cell_type": "code",
   "execution_count": 16,
   "id": "6a93752c",
   "metadata": {},
   "outputs": [
    {
     "data": {
      "image/png": "[encoded data removed]",
      "text/plain": [
       "<Figure size 432x288 with 1 Axes>"
      ]
     },
     "metadata": {
      "needs_background": "light"
     },
     "output_type": "display_data"
    }
   ],
   "source": [
    "plt.plot(outputs, targets, color='orange') #rysowanie wykresu, gdzie osie x i y to outputs i targets\n",
    "plt.xlabel('outputs') #podpisanie osi x\n",
    "plt.ylabel('targets') #podpisanie osi y\n",
    "plt.show() #wyświetlenie wykresu"
   ]
  },
  {
   "cell_type": "code",
   "execution_count": null,
   "id": "d24c8b37-c027-4d2e-9399-bb6464506232",
   "metadata": {},
   "outputs": [],
   "source": []
  }
 ],
 "metadata": {
  "kernelspec": {
   "display_name": "Python 3 (ipykernel)",
   "language": "python",
   "name": "python3"
  },
  "language_info": {
   "codemirror_mode": {
    "name": "ipython",
    "version": 3
   },
   "file_extension": ".py",
   "mimetype": "text/x-python",
   "name": "python",
   "nbconvert_exporter": "python",
   "pygments_lexer": "ipython3",
   "version": "3.9.12"
  }
 },
 "nbformat": 4,
 "nbformat_minor": 5
}
