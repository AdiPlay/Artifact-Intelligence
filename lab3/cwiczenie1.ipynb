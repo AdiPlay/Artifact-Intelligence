{
 "cells": [
  {
   "cell_type": "code",
   "execution_count": 74,
   "id": "f0343177",
   "metadata": {},
   "outputs": [
    {
     "name": "stdout",
     "output_type": "stream",
     "text": [
      "2.11.0\n"
     ]
    }
   ],
   "source": [
    "# Adrian Kokoszka 19727\n",
    "# importowanie potrzebnych bibliotek\n",
    "import tensorflow as tf #biblioteka tensorflow\n",
    "import numpy as np #biblioteka numpy, aby móc korzystać z funkcji związanych z obliczeniami matematycznymi\n",
    "import matplotlib.pyplot as plt #biblioteka matplotlib, aby móc korzystać z funkcji związanych z rysowaniem wykresów\n",
    "from mpl_toolkits.mplot3d import Axes3D #biblioteka do rysowania wykresów 3D\n",
    "print(tf.__version__) #sprawdzenie wersji biblioteki tensorflow\n"
   ]
  },
  {
   "cell_type": "code",
   "execution_count": 75,
   "id": "c1248afb",
   "metadata": {},
   "outputs": [
    {
     "name": "stdout",
     "output_type": "stream",
     "text": [
      "(1000, 2)\n"
     ]
    }
   ],
   "source": [
    "observations=1000 #ilość obserwacji\n",
    "xs = np.random.uniform(low=-10,high=10, size=(observations,1)) #losowanie wartości z zakresu od -10 do 10 i zapisanie ich do tablicy xs\n",
    "xz = np.random.uniform(low=-10,high=10, size=(observations,1)) #losowanie wartości z zakresu od -10 do 10 i zapisanie ich do tablicy xz\n",
    "inputs=np.column_stack((xs,xz)) #łączenie dwóch tablic w jedną\n",
    "print(inputs.shape) #wypisanie rozmiaru tablicy, w tym przypadku 1000 wierszy i 2 kolumny"
   ]
  },
  {
   "cell_type": "code",
   "execution_count": 76,
   "id": "9ea57064",
   "metadata": {},
   "outputs": [
    {
     "name": "stdout",
     "output_type": "stream",
     "text": [
      "(1000, 1)\n"
     ]
    }
   ],
   "source": [
    "noise = np.random.uniform(low=-1,high=1, size=(observations,1)) # losowanie wartości szumu z zakresu od -1 do 1 i zapisanie ich do tablicy noise\n",
    "targets = 2*xs - 3*xz + 5 + noise #funkcja liniowa, która ma być wyznaczona przez sieć neuronową \n",
    "np.savez('TF_dataset', inputs=inputs, targets=targets)# zapisanie danych do pliku .npz\n",
    "print(targets.shape) # wypisanie rozmiaru tablicy, w tym przypadku 1000 wierszy i 1 kolumna"
   ]
  },
  {
   "cell_type": "code",
   "execution_count": 77,
   "id": "8fea3fc4",
   "metadata": {},
   "outputs": [
    {
     "data": {
      "image/png": "[encoded data removed]",
      "text/plain": [
       "<Figure size 432x288 with 1 Axes>"
      ]
     },
     "metadata": {
      "needs_background": "light"
     },
     "output_type": "display_data"
    }
   ],
   "source": [
    "targets = targets.reshape(observations,) #zmiana rozmiaru tablicy targets bez zmiany jej zawartości\n",
    "xs = xs.reshape(observations,) #zmiana rozmiaru tablicy xs, bez zmiany jej zawartości\n",
    "xz = xz.reshape(observations,) #zmiana rozmiaru tablicy xz bez zmiany jej zawartości\n",
    "fig = plt.figure() #tworzenie wykresu\n",
    "ax = fig.add_subplot(111, projection='3d') #wyswietlanie wykresu w trzech wymiarach\n",
    "ax.plot(xs,xz,targets) #rysowanie wykresu\n",
    "ax.set_xlabel('xs') #podpisanie osi x\n",
    "ax.set_ylabel('zs') #podpisanie osi y\n",
    "ax.set_zlabel('Targets') #podpisanie osi z\n",
    "ax.view_init(azim=100) #ustawienie kąta widzenia wykresu na 100 stopni\n",
    "plt.show() #wyświetlenie wykresu"
   ]
  },
  {
   "cell_type": "code",
   "execution_count": 78,
   "id": "9dd88368",
   "metadata": {},
   "outputs": [
    {
     "name": "stdout",
     "output_type": "stream",
     "text": [
      "[[-0.05054002]\n",
      " [-0.01066265]] [-0.07589199]\n"
     ]
    }
   ],
   "source": [
    "init_range = 0.1 #zakres losowania wartości początkowych\n",
    "weights = np.random.uniform(low=-init_range,high=init_range, size=(2,1)) #losowanie wag z zakresu -0.1 do 0.1 i zapisanie ich do tablicy weights\n",
    "biases = np.random.uniform(low=-init_range,high=init_range, size=1) #losowanie biasów z zakresu -0.1 do 0.1 i zapisanie ich do tablicy biases\n",
    "print(weights,biases)   #wypisanie wartości początkowych weights i biases"
   ]
  },
  {
   "cell_type": "code",
   "execution_count": 79,
   "id": "0fd1230f",
   "metadata": {},
   "outputs": [
    {
     "name": "stdout",
     "output_type": "stream",
     "text": [
      "235.4870056223921\n",
      "34.10179682272782\n",
      "14.16103814504671\n",
      "11.806865403967928\n",
      "11.17233932239781\n",
      "10.720398437190008\n",
      "10.30157194982819\n",
      "9.900776211645672\n",
      "9.51596470150723\n",
      "9.146376487275203\n",
      "8.791397369310088\n",
      "8.450448720497846\n",
      "8.122975877562967\n",
      "7.808446205904599\n",
      "7.506348133248013\n",
      "7.216190307903007\n",
      "6.937500798660008\n",
      "6.669826327120139\n",
      "6.4127315304455355\n",
      "6.16579825325659\n",
      "5.928624867517292\n",
      "5.700825619301746\n",
      "5.482030001379396\n",
      "5.271882150598389\n",
      "5.070040269087095\n",
      "4.876176068332188\n",
      "4.689974235229305\n",
      "4.511131919237673\n",
      "4.33935823980468\n",
      "4.174373813259173\n",
      "4.015910298404053\n",
      "3.8637099600690106\n",
      "3.7175252499136113\n",
      "3.57711840379888\n",
      "3.4422610550725423\n",
      "3.3127338631389196\n",
      "3.1883261567094014\n",
      "3.068835591153216\n",
      "2.9540678193912133\n",
      "2.8438361757973807\n",
      "2.737961372593953\n",
      "2.636271208246337\n",
      "2.538600287383553\n",
      "2.444789751788641\n",
      "2.354687022021533\n",
      "2.268145549254107\n",
      "2.185024576913833\n",
      "2.105188911748296\n",
      "2.028508703938268\n",
      "1.9548592359016814\n",
      "1.884120719444985\n",
      "1.8161781009320013\n",
      "1.7509208741533382\n",
      "1.688242900592039\n",
      "1.6280422367931453\n",
      "1.5702209685563315\n",
      "1.5146850516820283\n",
      "1.461344159011914\n",
      "1.410111533515078\n",
      "1.360903847180845\n",
      "1.3136410654887782\n",
      "1.2682463172354366\n",
      "1.2246457695061412\n",
      "1.1827685075884116\n",
      "1.1425464196317539\n",
      "1.1039140858662049\n",
      "1.0668086721994385\n",
      "1.0311698280193957\n",
      "0.9969395880361942\n",
      "0.9640622780036849\n",
      "0.9324844241673039\n",
      "0.9021546662909506\n",
      "0.8730236741214201\n",
      "0.8450440671545301\n",
      "0.8181703375724523\n",
      "0.7923587762268873\n",
      "0.7675674015477225\n",
      "0.7437558912615252\n",
      "0.7208855168088255\n",
      "0.6989190803535154\n",
      "0.6778208542819182\n",
      "0.6575565230931111\n",
      "0.638093127586015\n",
      "0.6193990112524405\n",
      "0.6014437687889258\n",
      "0.5841981966436063\n",
      "0.5676342455177031\n",
      "0.5517249747443483\n",
      "0.5364445084705685\n",
      "0.5217679935711426\n",
      "0.5076715592258979\n",
      "0.49413227809468274\n",
      "0.48112812902687835\n",
      "0.46863796124479545\n",
      "0.45664145994269634\n",
      "0.4451191132455049\n",
      "0.4340521804734434\n",
      "0.42342266166099685\n",
      "0.4132132682806205\n",
      "0.4034073951235752\n"
     ]
    }
   ],
   "source": [
    "targets = targets.reshape(observations,1) #Przekształcenie tablicy targets do postaci 1000 wierszy (obserwacji) i 1 kolumny\n",
    "eta = 0.02 #współczynnik uczenia \n",
    "for i in range (100): #pętla wykonująca się 100 razy \n",
    "    outputs = np.dot(inputs, weights) + biases #obliczenie wartości wyjściowej sieci neuronowej \n",
    "    deltas = outputs - targets #obliczenie wartości błędu sieci neuronowej \n",
    "    \n",
    "    loss = np.sum(deltas ** 2)/2/observations #obliczenie wartości funkcji kosztu\n",
    "    print(loss) #wypisanie wartości funkcji kosztu     \n",
    "    \n",
    "    deltas_scaled = deltas/observations #obliczenie wartości błędu sieci neuronowej \n",
    "    weights = weights - eta * np.dot(inputs.T, deltas_scaled) #obliczenie nowych wartości weights, które są wykorzystywane w kolejnej iteracji pętli \n",
    "    biases = biases - eta * np.sum(deltas_scaled) #obliczenie nowych wartości biases, które są wykorzystywane w kolejnej iteracji pętli\n",
    "    "
   ]
  },
  {
   "cell_type": "code",
   "execution_count": 80,
   "id": "a8383f56",
   "metadata": {},
   "outputs": [
    {
     "name": "stdout",
     "output_type": "stream",
     "text": [
      "[[ 2.00385851]\n",
      " [-2.99852704]] [4.30688383]\n"
     ]
    }
   ],
   "source": [
    "print (weights, biases) #wypisanie wartości weights i biases po 100 powtórzeniach pętli"
   ]
  },
  {
   "cell_type": "code",
   "execution_count": 81,
   "id": "6a93752c",
   "metadata": {},
   "outputs": [
    {
     "data": {
      "image/png": "[encoded data removed]",
      "text/plain": [
       "<Figure size 432x288 with 1 Axes>"
      ]
     },
     "metadata": {
      "needs_background": "light"
     },
     "output_type": "display_data"
    }
   ],
   "source": [
    "plt.plot(outputs, targets, color='orange') #rysowanie wykresu, gdzie osie x i y to kolejno outputs i targets\n",
    "plt.xlabel('outputs') #podpisanie osi x jako outputs\n",
    "plt.ylabel('targets') #podpisanie osi y jako targets\n",
    "plt.show() #wyświetlenie wykresu"
   ]
  },
  {
   "cell_type": "code",
   "execution_count": null,
   "id": "d24c8b37-c027-4d2e-9399-bb6464506232",
   "metadata": {},
   "outputs": [],
   "source": []
  }
 ],
 "metadata": {
  "kernelspec": {
   "display_name": "Python 3 (ipykernel)",
   "language": "python",
   "name": "python3"
  },
  "language_info": {
   "codemirror_mode": {
    "name": "ipython",
    "version": 3
   },
   "file_extension": ".py",
   "mimetype": "text/x-python",
   "name": "python",
   "nbconvert_exporter": "python",
   "pygments_lexer": "ipython3",
   "version": "3.9.12"
  }
 },
 "nbformat": 4,
 "nbformat_minor": 5
}
