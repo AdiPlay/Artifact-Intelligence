{
 "cells": [
  {
   "cell_type": "code",
   "execution_count": 98,
   "id": "f0343177",
   "metadata": {},
   "outputs": [
    {
     "name": "stdout",
     "output_type": "stream",
     "text": [
      "2.11.0\n"
     ]
    }
   ],
   "source": [
    "# Adrian Kokoszka 19727\n",
    "# importowanie potrzebnych bibliotek\n",
    "import tensorflow as tf #biblioteka tensorflow\n",
    "import numpy as np #biblioteka numpy, aby móc korzystać z funkcji związanych z obliczeniami matematycznymi\n",
    "import matplotlib.pyplot as plt #biblioteka matplotlib, aby móc korzystać z funkcji związanych z rysowaniem wykresów\n",
    "from mpl_toolkits.mplot3d import Axes3D #biblioteka do rysowania wykresów 3D\n",
    "print(tf.__version__) #sprawdzenie wersji biblioteki tensorflow\n"
   ]
  },
  {
   "cell_type": "code",
   "execution_count": 99,
   "id": "c1248afb",
   "metadata": {},
   "outputs": [
    {
     "name": "stdout",
     "output_type": "stream",
     "text": [
      "(1000, 2)\n"
     ]
    }
   ],
   "source": [
    "observations=1000 #ilość obserwacji\n",
    "xs = np.random.uniform(low=-10,high=10, size=(observations,1)) #losowanie wartości z zakresu od -10 do 10 i zapisanie ich do tablicy xs\n",
    "xz = np.random.uniform(low=-10,high=10, size=(observations,1)) #losowanie wartości z zakresu od -10 do 10 i zapisanie ich do tablicy xz\n",
    "inputs=np.column_stack((xs,xz)) #łączenie dwóch tablic w jedną\n",
    "print(inputs.shape) #wypisanie rozmiaru tablicy, w tym przypadku 1000 wierszy i 2 kolumny"
   ]
  },
  {
   "cell_type": "code",
   "execution_count": 100,
   "id": "9ea57064",
   "metadata": {},
   "outputs": [
    {
     "name": "stdout",
     "output_type": "stream",
     "text": [
      "(1000, 1)\n"
     ]
    }
   ],
   "source": [
    "noise = np.random.uniform(low=-1,high=1, size=(observations,1)) # losowanie wartości szumu z zakresu od -1 do 1 i zapisanie ich do tablicy noise\n",
    "targets = 2*xs - 3*xz + 5 + noise #funkcja liniowa, która ma być wyznaczona przez sieć neuronową \n",
    "np.savez('TF_dataset', inputs=inputs, targets=targets)# zapisanie danych do pliku .npz\n",
    "print(targets.shape) # wypisanie rozmiaru tablicy, w tym przypadku 1000 wierszy i 1 kolumna"
   ]
  },
  {
   "cell_type": "code",
   "execution_count": 101,
   "id": "8fea3fc4",
   "metadata": {},
   "outputs": [
    {
     "data": {
      "image/png": "[encoded data removed]",
      "text/plain": [
       "<Figure size 432x288 with 1 Axes>"
      ]
     },
     "metadata": {
      "needs_background": "light"
     },
     "output_type": "display_data"
    }
   ],
   "source": [
    "targets = targets.reshape(observations,) #zmiana rozmiaru tablicy targets bez zmiany jej zawartości\n",
    "xs = xs.reshape(observations,) #zmiana rozmiaru tablicy xs, bez zmiany jej zawartości\n",
    "xz = xz.reshape(observations,) #zmiana rozmiaru tablicy xz bez zmiany jej zawartości\n",
    "fig = plt.figure() #tworzenie wykresu\n",
    "ax = fig.add_subplot(111, projection='3d') #wyswietlanie wykresu w trzech wymiarach\n",
    "ax.plot(xs,xz,targets) #rysowanie wykresu\n",
    "ax.set_xlabel('xs') #podpisanie osi x\n",
    "ax.set_ylabel('zs') #podpisanie osi y\n",
    "ax.set_zlabel('Targets') #podpisanie osi z\n",
    "ax.view_init(azim=100) #ustawienie kąta widzenia wykresu na 100 stopni\n",
    "plt.show() #wyświetlenie wykresu"
   ]
  },
  {
   "cell_type": "code",
   "execution_count": 102,
   "id": "9dd88368",
   "metadata": {},
   "outputs": [
    {
     "name": "stdout",
     "output_type": "stream",
     "text": [
      "[[0.03306124]\n",
      " [0.07190653]] [0.0372069]\n"
     ]
    }
   ],
   "source": [
    "init_range = 0.1 #zakres losowania wartości początkowych\n",
    "weights = np.random.uniform(low=-init_range,high=init_range, size=(2,1)) #losowanie wag z zakresu -0.1 do 0.1 i zapisanie ich do tablicy weights\n",
    "biases = np.random.uniform(low=-init_range,high=init_range, size=1) #losowanie biasów z zakresu -0.1 do 0.1 i zapisanie ich do tablicy biases\n",
    "print(weights,biases)   #wypisanie wartości początkowych weights i biases"
   ]
  },
  {
   "cell_type": "code",
   "execution_count": 103,
   "id": "0fd1230f",
   "metadata": {},
   "outputs": [
    {
     "name": "stdout",
     "output_type": "stream",
     "text": [
      "225.32962118176542\n",
      "39.37275159337189\n",
      "15.238517239321572\n",
      "11.591134466804732\n",
      "10.713101207674175\n",
      "10.235920688371795\n",
      "9.829733001804366\n",
      "9.44709181673665\n",
      "9.080643495802102\n",
      "8.728818496786829\n",
      "8.39090440094945\n",
      "8.066332416520746\n",
      "7.754573013295817\n",
      "7.4551200121688455\n",
      "7.167487571691018\n",
      "6.891209080443248\n",
      "6.625836353519738\n",
      "6.3709388986853\n",
      "6.126103217033778\n",
      "5.890932132058939\n",
      "5.665044145327099\n",
      "5.4480728176009725\n",
      "5.239666174395443\n",
      "5.039486134998605\n",
      "4.847207964031671\n",
      "4.662519744657815\n",
      "4.48512187258553\n",
      "4.314726570045569\n",
      "4.1510574189530764\n",
      "3.9938489124975978\n",
      "3.8428460244335207\n",
      "3.6978037953722707\n",
      "3.558486935405138\n",
      "3.4246694424120774\n",
      "3.296134235437322\n",
      "3.1726728025370705\n",
      "3.0540848625279384\n",
      "2.940178040087517\n",
      "2.8307675536799177\n",
      "2.725675915800122\n",
      "2.6247326450507895\n",
      "2.527773989584522\n",
      "2.434642661462891\n",
      "2.3451875815013516\n",
      "2.2592636341860635\n",
      "2.176731432265115\n",
      "2.097457090632208\n",
      "2.0213120091360137\n",
      "1.9481726639628825\n",
      "1.8779204072544573\n",
      "1.810441274635156\n",
      "1.7456258003372782\n",
      "1.6833688396238027\n",
      "1.6235693982208728\n",
      "1.566130468483197\n",
      "1.510958872026648\n",
      "1.4579651085727336\n",
      "1.407063210759768\n",
      "1.3581706046851916\n",
      "1.3112079759528117\n",
      "1.266099141007685\n",
      "1.2227709235498778\n",
      "1.1811530358266704\n",
      "1.1411779646105928\n",
      "1.1027808616783514\n",
      "1.065899438612964\n",
      "1.0304738657584598\n",
      "0.9964466751632128\n",
      "0.9637626673544867\n",
      "0.932368821792928\n",
      "0.9022142108617732\n",
      "0.8732499172512203\n",
      "0.8454289546039602\n",
      "0.8187061912931287\n",
      "0.7930382772090316\n",
      "0.7683835734358813\n",
      "0.744702084704453\n",
      "0.7219553945110999\n",
      "0.7001066027978613\n",
      "0.6791202660925778\n",
      "0.658962340011901\n",
      "0.6396001240339346\n",
      "0.6210022084509044\n",
      "0.6031384234158063\n",
      "0.585979790000384\n",
      "0.5694984731850281\n",
      "0.5536677367043499\n",
      "0.5384618996751637\n",
      "0.5238562949365351\n",
      "0.5098272290343041\n",
      "0.49635194378516767\n",
      "0.48340857935798304\n",
      "0.4709761388123789\n",
      "0.4590344540371808\n",
      "0.4475641530333581\n",
      "0.43654662848845044\n",
      "0.4259640075914756\n",
      "0.4157991230393608\n",
      "0.40603548518785454\n",
      "0.39665725530175977\n"
     ]
    }
   ],
   "source": [
    "targets = targets.reshape(observations,1) #Przekształcenie tablicy targets do postaci 1000 wierszy (obserwacji) i 1 kolumny\n",
    "eta = 0.02 #współczynnik uczenia \n",
    "for i in range (100): #pętla wykonująca się 100 razy \n",
    "    outputs = np.dot(inputs, weights) + biases #obliczenie wartości wyjściowej sieci neuronowej \n",
    "    deltas = outputs - targets #obliczenie wartości błędu sieci neuronowej \n",
    "    \n",
    "    loss = np.sum(deltas ** 2)/2/observations #obliczenie wartości funkcji kosztu\n",
    "    print(loss) #wypisanie wartości funkcji kosztu     \n",
    "    \n",
    "    deltas_scaled = deltas/observations #obliczenie wartości deltas_scaled dzieląc wartości deltas przez ilość obserwacji\n",
    "    weights = weights - eta * np.dot(inputs.T, deltas_scaled) #obliczenie nowych wartości weights, które są wykorzystywane w kolejnej iteracji pętli \n",
    "    biases = biases - eta * np.sum(deltas_scaled) #obliczenie nowych wartości biases, które są wykorzystywane w kolejnej iteracji pętli\n",
    "    "
   ]
  },
  {
   "cell_type": "code",
   "execution_count": 104,
   "id": "a8383f56",
   "metadata": {},
   "outputs": [
    {
     "name": "stdout",
     "output_type": "stream",
     "text": [
      "[[ 2.00381417]\n",
      " [-2.99423143]] [4.34110681]\n"
     ]
    }
   ],
   "source": [
    "print (weights, biases) #wypisanie wartości weights i biases po 100 powtórzeniach pętli"
   ]
  },
  {
   "cell_type": "code",
   "execution_count": 105,
   "id": "6a93752c",
   "metadata": {},
   "outputs": [
    {
     "data": {
      "image/png": "[encoded data removed]",
      "text/plain": [
       "<Figure size 432x288 with 1 Axes>"
      ]
     },
     "metadata": {
      "needs_background": "light"
     },
     "output_type": "display_data"
    }
   ],
   "source": [
    "plt.plot(outputs, targets, color='orange') #rysowanie wykresu, gdzie osie x i y to kolejno outputs i targets\n",
    "plt.xlabel('outputs') #podpisanie osi x jako outputs\n",
    "plt.ylabel('targets') #podpisanie osi y jako targets\n",
    "plt.show() #wyświetlenie wykresu"
   ]
  },
  {
   "cell_type": "code",
   "execution_count": null,
   "id": "d24c8b37-c027-4d2e-9399-bb6464506232",
   "metadata": {},
   "outputs": [],
   "source": []
  }
 ],
 "metadata": {
  "kernelspec": {
   "display_name": "Python 3 (ipykernel)",
   "language": "python",
   "name": "python3"
  },
  "language_info": {
   "codemirror_mode": {
    "name": "ipython",
    "version": 3
   },
   "file_extension": ".py",
   "mimetype": "text/x-python",
   "name": "python",
   "nbconvert_exporter": "python",
   "pygments_lexer": "ipython3",
   "version": "3.9.12"
  }
 },
 "nbformat": 4,
 "nbformat_minor": 5
}
