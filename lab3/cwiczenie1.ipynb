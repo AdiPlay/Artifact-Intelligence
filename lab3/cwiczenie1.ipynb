{
 "cells": [
  {
   "cell_type": "code",
   "execution_count": 106,
   "id": "f0343177",
   "metadata": {},
   "outputs": [
    {
     "name": "stdout",
     "output_type": "stream",
     "text": [
      "2.11.0\n"
     ]
    }
   ],
   "source": [
    "# Adrian Kokoszka 19727\n",
    "# importowanie potrzebnych bibliotek\n",
    "import tensorflow as tf #biblioteka tensorflow\n",
    "import numpy as np #biblioteka numpy, aby móc korzystać z funkcji związanych z obliczeniami matematycznymi\n",
    "import matplotlib.pyplot as plt #biblioteka matplotlib, aby móc korzystać z funkcji związanych z rysowaniem wykresów\n",
    "from mpl_toolkits.mplot3d import Axes3D #biblioteka do rysowania wykresów 3D\n",
    "print(tf.__version__) #sprawdzenie wersji biblioteki tensorflow\n"
   ]
  },
  {
   "cell_type": "code",
   "execution_count": 107,
   "id": "c1248afb",
   "metadata": {},
   "outputs": [
    {
     "name": "stdout",
     "output_type": "stream",
     "text": [
      "(1000, 2)\n"
     ]
    }
   ],
   "source": [
    "observations=1000 #ilość obserwacji\n",
    "xs = np.random.uniform(low=-10,high=10, size=(observations,1)) #losowanie wartości z zakresu od -10 do 10 i zapisanie ich do tablicy xs\n",
    "xz = np.random.uniform(low=-10,high=10, size=(observations,1)) #losowanie wartości z zakresu od -10 do 10 i zapisanie ich do tablicy xz\n",
    "inputs=np.column_stack((xs,xz)) #łączenie dwóch tablic w jedną\n",
    "print(inputs.shape) #wypisanie rozmiaru tablicy, w tym przypadku 1000 wierszy i 2 kolumny"
   ]
  },
  {
   "cell_type": "code",
   "execution_count": 108,
   "id": "9ea57064",
   "metadata": {},
   "outputs": [
    {
     "name": "stdout",
     "output_type": "stream",
     "text": [
      "(1000, 1)\n"
     ]
    }
   ],
   "source": [
    "noise = np.random.uniform(low=-1,high=1, size=(observations,1)) # losowanie wartości szumu z zakresu od -1 do 1 i zapisanie ich do tablicy noise\n",
    "targets = 2*xs - 3*xz + 5 + noise #funkcja liniowa, która ma być wyznaczona przez sieć neuronową \n",
    "np.savez('TF_dataset', inputs=inputs, targets=targets)# zapisanie danych do pliku .npz\n",
    "print(targets.shape) # wypisanie rozmiaru tablicy, w tym przypadku 1000 wierszy i 1 kolumna"
   ]
  },
  {
   "cell_type": "code",
   "execution_count": 109,
   "id": "8fea3fc4",
   "metadata": {},
   "outputs": [
    {
     "data": {
      "image/png": "[encoded data removed]",
      "text/plain": [
       "<Figure size 432x288 with 1 Axes>"
      ]
     },
     "metadata": {
      "needs_background": "light"
     },
     "output_type": "display_data"
    }
   ],
   "source": [
    "targets = targets.reshape(observations,) #zmiana rozmiaru tablicy targets bez zmiany jej zawartości\n",
    "xs = xs.reshape(observations,) #zmiana rozmiaru tablicy xs, bez zmiany jej zawartości\n",
    "xz = xz.reshape(observations,) #zmiana rozmiaru tablicy xz bez zmiany jej zawartości\n",
    "fig = plt.figure() #tworzenie wykresu\n",
    "ax = fig.add_subplot(111, projection='3d') #wyswietlanie wykresu w trzech wymiarach\n",
    "ax.plot(xs,xz,targets) #rysowanie wykresu\n",
    "ax.set_xlabel('xs') #podpisanie osi x\n",
    "ax.set_ylabel('zs') #podpisanie osi y\n",
    "ax.set_zlabel('Targets') #podpisanie osi z\n",
    "ax.view_init(azim=100) #ustawienie kąta widzenia wykresu na 100 stopni\n",
    "plt.show() #wyświetlenie wykresu"
   ]
  },
  {
   "cell_type": "code",
   "execution_count": 110,
   "id": "9dd88368",
   "metadata": {},
   "outputs": [
    {
     "name": "stdout",
     "output_type": "stream",
     "text": [
      "[[0.0033705 ]\n",
      " [0.09864253]] [-0.09122773]\n"
     ]
    }
   ],
   "source": [
    "init_range = 0.1 #zakres losowania wartości początkowych\n",
    "weights = np.random.uniform(low=-init_range,high=init_range, size=(2,1)) #losowanie wagi z zakresu -0.1 do 0.1 i zapisanie do tablicy weights\n",
    "biases = np.random.uniform(low=-init_range,high=init_range, size=1) #losowanie odchylenia z zakresu -0.1 do 0.1 i zapisanie do tablicy biases\n",
    "print(weights,biases)   #wypisanie wartości początkowych wag i odchylenia"
   ]
  },
  {
   "cell_type": "code",
   "execution_count": 111,
   "id": "0fd1230f",
   "metadata": {},
   "outputs": [
    {
     "name": "stdout",
     "output_type": "stream",
     "text": [
      "231.23127651835836\n",
      "39.798716611413724\n",
      "15.462055166458388\n",
      "12.00830636264627\n",
      "11.1825447050718\n",
      "10.701456303169202\n",
      "10.278528176135604\n",
      "9.87725332823896\n",
      "9.492482795693599\n",
      "9.123024207106244\n",
      "8.768203589801074\n",
      "8.427432858664513\n",
      "8.100154655825856\n",
      "7.785834627410942\n",
      "7.483959694385214\n",
      "7.194037107238165\n",
      "6.915593628102412\n",
      "6.648174756583876\n",
      "6.39134398767038\n",
      "6.144682099202046\n",
      "5.907786467575935\n",
      "5.680270410547366\n",
      "5.461762556052499\n",
      "5.251906236021629\n",
      "5.0503589041936365\n",
      "4.856791576981348\n",
      "4.670888296475077\n",
      "4.492345614707868\n",
      "4.320872098340566\n",
      "4.156187852958253\n",
      "3.998024066201537\n",
      "3.846122568986976\n",
      "3.700235414100394\n",
      "3.5601244714752576\n",
      "3.425561039495475\n",
      "3.296325471688166\n",
      "3.17220681819702\n",
      "3.0530024814510783\n",
      "2.938517885466859\n",
      "2.8285661582440085\n",
      "2.722967826736126\n",
      "2.6215505238987795\n",
      "2.5241487073366105\n",
      "2.4306033890902206\n",
      "2.34076187612179\n",
      "2.2544775210758545\n",
      "2.171609482908363\n",
      "2.0920224969933296\n",
      "2.0155866543317993\n",
      "1.9421771895027713\n",
      "1.8716742770099073\n",
      "1.8039628356916304\n",
      "1.7389323408753754\n",
      "1.6764766439693104\n",
      "1.6164937991971178\n",
      "1.558885897192976\n",
      "1.5035589051851348\n",
      "1.4504225135072066\n",
      "1.3993899881866523\n",
      "1.3503780293698355\n",
      "1.3033066353525395\n",
      "1.2580989719940343\n",
      "1.2146812473015185\n",
      "1.1729825909802247\n",
      "1.1329349387525822\n",
      "1.0944729212576163\n",
      "1.0575337573492254\n",
      "1.0220571516191812\n",
      "0.9879851959775691\n",
      "0.9552622751300169\n",
      "0.9238349757974422\n",
      "0.8936519995301168\n",
      "0.8646640789737473\n",
      "0.8368238974508906\n",
      "0.810086011726442\n",
      "0.7844067778311193\n",
      "0.7597442798218742\n",
      "0.7360582613629318\n",
      "0.7133100600158111\n",
      "0.6914625441310192\n",
      "0.6704800522384637\n",
      "0.6503283348376019\n",
      "0.6309744984923441\n",
      "0.6123869521394465\n",
      "0.5945353555227492\n",
      "0.5773905696690966\n",
      "0.560924609325097\n",
      "0.5451105972770892\n",
      "0.5299227204797514\n",
      "0.5153361879217355\n",
      "0.5013271901595627\n",
      "0.48787286045372025\n",
      "0.4749512374435201\n",
      "0.46254122929980696\n",
      "0.4506225792969798\n",
      "0.4391758327481596\n",
      "0.42818230524950446\n",
      "0.4176240521818544\n",
      "0.40748383941992133\n",
      "0.39774511520120187\n"
     ]
    }
   ],
   "source": [
    "targets = targets.reshape(observations,1) #Przekształcenie tablicy targets do postaci 1000 wierszy (obserwacji) i 1 kolumny\n",
    "eta = 0.02 #współczynnik uczenia \n",
    "for i in range (100): #pętla wykonująca się 100 razy \n",
    "    outputs = np.dot(inputs, weights) + biases #obliczenie wartości wyjściowej sieci neuronowej \n",
    "    deltas = outputs - targets #obliczenie wartości błędu sieci neuronowej \n",
    "    \n",
    "    loss = np.sum(deltas ** 2)/2/observations #obliczenie wartości funkcji kosztu\n",
    "    print(loss) #wypisanie wartości funkcji kosztu     \n",
    "    \n",
    "    deltas_scaled = deltas/observations #obliczenie wartości deltas_scaled dzieląc wartości deltas przez ilość obserwacji\n",
    "    weights = weights - eta * np.dot(inputs.T, deltas_scaled) #obliczenie nowych wartości weights, które są wykorzystywane w kolejnej iteracji pętli \n",
    "    biases = biases - eta * np.sum(deltas_scaled) #obliczenie nowych wartości odchylenia, które są wykorzystywane w kolejnej iteracji pętli\n",
    "    "
   ]
  },
  {
   "cell_type": "code",
   "execution_count": 112,
   "id": "a8383f56",
   "metadata": {},
   "outputs": [
    {
     "name": "stdout",
     "output_type": "stream",
     "text": [
      "[[ 1.99727464]\n",
      " [-2.99898783]] [4.30483458]\n"
     ]
    }
   ],
   "source": [
    "print (weights, biases) #wypisanie wartości wag i odchyleń po 100 powtórzeniach pętli"
   ]
  },
  {
   "cell_type": "code",
   "execution_count": 113,
   "id": "6a93752c",
   "metadata": {},
   "outputs": [
    {
     "data": {
      "image/png": "[encoded data removed]",
      "text/plain": [
       "<Figure size 432x288 with 1 Axes>"
      ]
     },
     "metadata": {
      "needs_background": "light"
     },
     "output_type": "display_data"
    }
   ],
   "source": [
    "plt.plot(outputs, targets, color='orange') #rysowanie wykresu, gdzie osie x i y to kolejno outputs i targets\n",
    "plt.xlabel('outputs') #podpisanie osi x jako outputs\n",
    "plt.ylabel('targets') #podpisanie osi y jako targets\n",
    "plt.show() #wyświetlenie wykresu"
   ]
  },
  {
   "cell_type": "code",
   "execution_count": null,
   "id": "d24c8b37-c027-4d2e-9399-bb6464506232",
   "metadata": {},
   "outputs": [],
   "source": []
  }
 ],
 "metadata": {
  "kernelspec": {
   "display_name": "Python 3 (ipykernel)",
   "language": "python",
   "name": "python3"
  },
  "language_info": {
   "codemirror_mode": {
    "name": "ipython",
    "version": 3
   },
   "file_extension": ".py",
   "mimetype": "text/x-python",
   "name": "python",
   "nbconvert_exporter": "python",
   "pygments_lexer": "ipython3",
   "version": "3.9.12"
  }
 },
 "nbformat": 4,
 "nbformat_minor": 5
}
