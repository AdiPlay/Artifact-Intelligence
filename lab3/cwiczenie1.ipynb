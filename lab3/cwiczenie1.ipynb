{
 "cells": [
  {
   "cell_type": "code",
   "execution_count": 36,
   "id": "f0343177",
   "metadata": {},
   "outputs": [
    {
     "name": "stdout",
     "output_type": "stream",
     "text": [
      "2.11.0\n"
     ]
    }
   ],
   "source": [
    "# Adrian Kokoszka 19727\n",
    "# importowanie potrzebnych bibliotek\n",
    "import tensorflow as tf #biblioteka tensorflow, aby móc korzystać z funkcji związanych z uczeniem maszynowym\n",
    "import numpy as np #biblioteka numpy, aby móc korzystać z funkcji związanych z obliczeniami numerycznymi\n",
    "import matplotlib.pyplot as plt #biblioteka matplotlib, aby móc korzystać z funkcji związanych z rysowaniem wykresów\n",
    "from mpl_toolkits.mplot3d import Axes3D #biblioteka do rysowania wykresów 3D\n",
    "print(tf.__version__) #sprawdzenie wersji biblioteki tensorflow\n"
   ]
  },
  {
   "cell_type": "code",
   "execution_count": 37,
   "id": "c1248afb",
   "metadata": {},
   "outputs": [
    {
     "name": "stdout",
     "output_type": "stream",
     "text": [
      "(1000, 2)\n"
     ]
    }
   ],
   "source": [
    "observations=1000 #ilość obserwacji\n",
    "xs = np.random.uniform(low=-10,high=10, size=(observations,1)) #losowanie wartości z rozkładu jednostajnego z zakresu od -10 do 10 i zapisanie ich do tablicy xs\n",
    "xz = np.random.uniform(low=-10,high=10, size=(observations,1)) #losowanie wartości z rozkładu jednostajnego z zakresu od -10 do 10 i zapisanie ich do tablicy xz\n",
    "inputs=np.column_stack((xs,xz)) #łączenie dwóch tablic w jedną\n",
    "print(inputs.shape) #wypisanie rozmiaru tablicy, w tym przypadku 1000 wierszy i 2 kolumny"
   ]
  },
  {
   "cell_type": "code",
   "execution_count": 38,
   "id": "9ea57064",
   "metadata": {},
   "outputs": [
    {
     "name": "stdout",
     "output_type": "stream",
     "text": [
      "(1000, 1)\n"
     ]
    }
   ],
   "source": [
    "noise = np.random.uniform(low=-1,high=1, size=(observations,1)) # losowanie wartości z rozkładu jednostajnego\n",
    "targets = 2*xs - 3*xz + 5 + noise #funkcja liniowa, która ma być wyznaczona przez sieć neuronową \n",
    "np.savez('TF_dataset', inputs=inputs, targets=targets)# zapisanie danych do pliku .npz\n",
    "print(targets.shape) # wypisanie rozmiaru tablicy, w tym przypadku 1000 wierszy i 1 kolumna"
   ]
  },
  {
   "cell_type": "code",
   "execution_count": 39,
   "id": "8fea3fc4",
   "metadata": {},
   "outputs": [
    {
     "data": {
      "image/png": "[encoded data removed]",
      "text/plain": [
       "<Figure size 432x288 with 1 Axes>"
      ]
     },
     "metadata": {
      "needs_background": "light"
     },
     "output_type": "display_data"
    }
   ],
   "source": [
    "targets = targets.reshape(observations,) #zmiana rozmiaru tablicy targets bez zmiany jej zawartości\n",
    "xs = xs.reshape(observations,) #zmiana rozmiaru tablicy xs bez zmiany jej zawartości\n",
    "xz = xz.reshape(observations,) #zmiana rozmiaru tablicy xz bez zmiany jej zawartości\n",
    "fig = plt.figure() #tworzenie wykresu\n",
    "ax = fig.add_subplot(111, projection='3d') #wyswietlanie wykresu w trzech wymiarach\n",
    "ax.plot(xs,xz,targets) #rysowanie wykresu\n",
    "ax.set_xlabel('xs') #podpisanie osi x\n",
    "ax.set_ylabel('zs') #podpisanie osi y\n",
    "ax.set_zlabel('Targets') #podpisanie osi z\n",
    "ax.view_init(azim=100) #zmiana kąta widzenia wykresu o 100 stopni\n",
    "plt.show() #wyświetlenie wykresu"
   ]
  },
  {
   "cell_type": "code",
   "execution_count": 40,
   "id": "9dd88368",
   "metadata": {},
   "outputs": [
    {
     "name": "stdout",
     "output_type": "stream",
     "text": [
      "[[0.03573052]\n",
      " [0.03458492]] [0.07100184]\n"
     ]
    }
   ],
   "source": [
    "init_range = 0.1 #zakres losowania wartości początkowych\n",
    "weights = np.random.uniform(low=-init_range,high=init_range, size=(2,1)) #losowanie wartości z rozkładu jednostajnego z zakresu od -0.1 do 0.1 i zapisanie ich do tablicy weights\n",
    "biases = np.random.uniform(low=-init_range,high=init_range, size=1) #losowanie wartości z rozkładu jednostajnego z zakresu od -0.1 do 0.1 i zapisanie ich do tablicy biases\n",
    "print(weights,biases)   #wypisanie wartości początkowych weights i biases"
   ]
  },
  {
   "cell_type": "code",
   "execution_count": 41,
   "id": "0fd1230f",
   "metadata": {},
   "outputs": [
    {
     "name": "stdout",
     "output_type": "stream",
     "text": [
      "233.84679572764009\n",
      "34.40585863910458\n",
      "13.80758040529053\n",
      "11.316488779819348\n",
      "10.677352664240846\n",
      "10.241773565657676\n",
      "9.841596015934602\n",
      "9.45909610655679\n",
      "9.091904891291342\n",
      "8.739245765839263\n",
      "8.400526685343522\n",
      "8.075194868668484\n",
      "7.762721025504702\n",
      "7.462596955597597\n",
      "7.174334561995906\n",
      "6.897465040484484\n",
      "6.631538115398044\n",
      "6.376121307146386\n",
      "6.130799228848638\n",
      "5.895172910783323\n",
      "5.66885915153972\n",
      "5.451489894813584\n",
      "5.24271163083356\n",
      "5.042184821444738\n",
      "4.849583347914388\n",
      "4.664593980561845\n",
      "4.48691586934998\n",
      "4.316260054609817\n",
      "4.1523489971025604\n",
      "3.994916126654788\n",
      "3.843705408632739\n",
      "3.6984709275506686\n",
      "3.5589764871360483\n",
      "3.4249952262012466\n",
      "3.2963092496969195\n",
      "3.1727092743471537\n",
      "3.0539942882899975\n",
      "2.939971224169885\n",
      "2.830454645150284\n",
      "2.7252664433359373\n",
      "2.624235550114233\n",
      "2.5271976579446283\n",
      "2.433994953143664\n",
      "2.3444758592310233\n",
      "2.258494790419198\n",
      "2.1759119148458748\n",
      "2.096592927164011\n",
      "2.020408830119707\n",
      "1.9472357247627028\n",
      "1.8769546089482891\n",
      "1.8094511838029412\n",
      "1.7446156678389404\n",
      "1.682342618415636\n",
      "1.622530760257057\n",
      "1.5650828207469163\n",
      "1.5099053717331954\n",
      "1.4569086775850226\n",
      "1.4060065492547236\n",
      "1.35711620410772\n",
      "1.3101581312923207\n",
      "1.2650559624304265\n",
      "1.2217363474188891\n",
      "1.1801288351395123\n",
      "1.140165758883701\n",
      "1.1017821263054224\n",
      "1.064915513723514\n",
      "1.0295059646014293\n",
      "0.9954958920393367\n",
      "0.9628299851199685\n",
      "0.9314551189559311\n",
      "0.9013202682921775\n",
      "0.8723764245231289\n",
      "0.8445765159894918\n",
      "0.8178753314251606\n",
      "0.7922294464296824\n",
      "0.767597152846725\n",
      "0.7439383909336954\n",
      "0.7212146842121772\n",
      "0.6993890768932588\n",
      "0.6784260737759678\n",
      "0.6582915825210705\n",
      "0.6389528582063694\n",
      "0.6203784500733062\n",
      "0.60253815037829\n",
      "0.5854029452655375\n",
      "0.5689449675815582\n",
      "0.5531374515545229\n",
      "0.5379546892648264\n",
      "0.5233719888360454\n",
      "0.5093656342782912\n",
      "0.4959128469186661\n",
      "0.4829917483560782\n",
      "0.47058132488018317\n",
      "0.4586613932965794\n",
      "0.4472125681026803\n",
      "0.4362162299608768\n",
      "0.42565449541772776\n",
      "0.41551018781992144\n",
      "0.405766809379714\n",
      "0.3964085143444155\n"
     ]
    }
   ],
   "source": [
    "targets = targets.reshape(observations,1) #!!!!!!!!!!!!!!!!!!!!!!!!!!!!!!!!!!!!!!!!!!!!!!! przeksztalcic z powrotem \n",
    "eta = 0.02 #współczynnik uczenia sieci neuronowej \n",
    "for i in range (100): #pętla wykonująca się 100 razy \n",
    "    outputs = np.dot(inputs, weights) + biases #obliczenie wartości wyjściowej sieci neuronowej \n",
    "    deltas = outputs - targets #obliczenie wartości błędu sieci neuronowej \n",
    "    \n",
    "    loss = np.sum(deltas ** 2)/2/observations #obliczenie wartości funkcji kosztu \n",
    "    print(loss) #wypisanie wartości funkcji kosztu     \n",
    "    \n",
    "    deltas_scaled = deltas/observations #obliczenie wartości błędu sieci neuronowej \n",
    "    weights = weights - eta * np.dot(inputs.T, deltas_scaled) #obliczenie nowych wartości weights, które są wykorzystywane w kolejnej iteracji pętli \n",
    "    biases = biases - eta * np.sum(deltas_scaled) #obliczenie nowych wartości biases, które są wykorzystywane w kolejnej iteracji pętli\n",
    "    "
   ]
  },
  {
   "cell_type": "code",
   "execution_count": 42,
   "id": "a8383f56",
   "metadata": {},
   "outputs": [
    {
     "name": "stdout",
     "output_type": "stream",
     "text": [
      "[[ 2.00026109]\n",
      " [-2.99802591]] [4.36994088]\n"
     ]
    }
   ],
   "source": [
    "print (weights, biases) #wypisanie wartości weights i biases po 100 iteracjach pętli"
   ]
  },
  {
   "cell_type": "code",
   "execution_count": 43,
   "id": "6a93752c",
   "metadata": {},
   "outputs": [
    {
     "data": {
      "image/png": "[encoded data removed]",
      "text/plain": [
       "<Figure size 432x288 with 1 Axes>"
      ]
     },
     "metadata": {
      "needs_background": "light"
     },
     "output_type": "display_data"
    }
   ],
   "source": [
    "plt.plot(outputs, targets, color='orange') #rysowanie wykresu, gdzie osie x i y to outputs i targets\n",
    "plt.xlabel('outputs') #podpisanie osi x\n",
    "plt.ylabel('targets') #podpisanie osi y\n",
    "plt.show() #wyświetlenie wykresu"
   ]
  },
  {
   "cell_type": "code",
   "execution_count": null,
   "id": "d24c8b37-c027-4d2e-9399-bb6464506232",
   "metadata": {},
   "outputs": [],
   "source": []
  }
 ],
 "metadata": {
  "kernelspec": {
   "display_name": "Python 3 (ipykernel)",
   "language": "python",
   "name": "python3"
  },
  "language_info": {
   "codemirror_mode": {
    "name": "ipython",
    "version": 3
   },
   "file_extension": ".py",
   "mimetype": "text/x-python",
   "name": "python",
   "nbconvert_exporter": "python",
   "pygments_lexer": "ipython3",
   "version": "3.9.12"
  }
 },
 "nbformat": 4,
 "nbformat_minor": 5
}
