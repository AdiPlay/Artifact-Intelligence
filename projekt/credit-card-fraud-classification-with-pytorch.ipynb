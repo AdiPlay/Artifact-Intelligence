{
 "cells": [
  {
   "attachments": {},
   "cell_type": "markdown",
   "id": "af2bd477",
   "metadata": {
    "papermill": {
     "duration": 0.007537,
     "end_time": "2022-06-27T20:48:12.652408",
     "exception": false,
     "start_time": "2022-06-27T20:48:12.644871",
     "status": "completed"
    },
    "tags": []
   },
   "source": [
    "# **Credit Card Fraud Classification with Deep Learning (PyTorch)**"
   ]
  },
  {
   "attachments": {},
   "cell_type": "markdown",
   "id": "73216be7",
   "metadata": {
    "papermill": {
     "duration": 0.00622,
     "end_time": "2022-06-27T20:48:12.665167",
     "exception": false,
     "start_time": "2022-06-27T20:48:12.658947",
     "status": "completed"
    },
    "tags": []
   },
   "source": [
    "## **1- Data Preprocessing**"
   ]
  },
  {
   "attachments": {},
   "cell_type": "markdown",
   "id": "c8c537a3",
   "metadata": {
    "papermill": {
     "duration": 0.006722,
     "end_time": "2022-06-27T20:48:12.678351",
     "exception": false,
     "start_time": "2022-06-27T20:48:12.671629",
     "status": "completed"
    },
    "tags": []
   },
   "source": [
    "### 1.1-Importing Libraries"
   ]
  },
  {
   "cell_type": "code",
   "execution_count": 1,
   "id": "40fbd051",
   "metadata": {
    "_cell_guid": "b1076dfc-b9ad-4769-8c92-a6c4dae69d19",
    "_uuid": "8f2839f25d086af736a60e9eeb907d3b93b6e0e5",
    "execution": {
     "iopub.execute_input": "2022-06-27T20:48:12.692433Z",
     "iopub.status.busy": "2022-06-27T20:48:12.691992Z",
     "iopub.status.idle": "2022-06-27T20:48:15.603254Z",
     "shell.execute_reply": "2022-06-27T20:48:15.599169Z"
    },
    "papermill": {
     "duration": 2.924516,
     "end_time": "2022-06-27T20:48:15.609060",
     "exception": false,
     "start_time": "2022-06-27T20:48:12.684544",
     "status": "completed"
    },
    "tags": []
   },
   "outputs": [
    {
     "name": "stdout",
     "output_type": "stream",
     "text": [
      "./card_transdata.csv\n",
      "./credit-card-fraud-classification-with-pytorch.ipynb\n"
     ]
    }
   ],
   "source": [
    "# This Python 3 environment comes with many helpful analytics libraries installed\n",
    "# It is defined by the kaggle/python Docker image: https://github.com/kaggle/docker-python\n",
    "# For example, here's several helpful packages to load\n",
    "\n",
    "\n",
    "import os\n",
    "import time\n",
    "\n",
    "import pandas as pd\n",
    "import numpy as np\n",
    "import matplotlib.pyplot as plt\n",
    "\n",
    "import seaborn as sns\n",
    "from imblearn.over_sampling import SMOTE\n",
    "from collections import Counter\n",
    "\n",
    "from sklearn.svm import LinearSVC\n",
    "from sklearn.naive_bayes import GaussianNB\n",
    "from sklearn.neighbors import KNeighborsClassifier\n",
    "from sklearn.ensemble import RandomForestClassifier\n",
    "from sklearn.metrics import confusion_matrix, classification_report, accuracy_score, mean_squared_error, f1_score\n",
    "from sklearn.model_selection import train_test_split\n",
    "from sklearn.preprocessing import StandardScaler\n",
    "from sklearn.datasets import make_classification\n",
    "#from sklearn.metrics import plot_confusion_matrix\n",
    "\n",
    "import torch\n",
    "from torch.nn import ReLU, Linear, BatchNorm1d, Dropout, Sequential, Module, BCEWithLogitsLoss\n",
    "import torch.optim as optim\n",
    "from torch.utils.data import Dataset, DataLoader\n",
    "\n",
    "# Input data files are available in the read-only \"../input/\" directory\n",
    "# For example, running this (by clicking run or pressing Shift+Enter) will list all files under the input directory\n",
    "\n",
    "import os\n",
    "for dirname, _, filenames in os.walk('./'):\n",
    "    for filename in filenames:\n",
    "        print(os.path.join(dirname, filename))\n",
    "\n",
    "# You can write up to 20GB to the current directory (/kaggle/working/) that gets preserved as output when you create a version using \"Save & Run All\" \n",
    "# You can also write temporary files to /kaggle/temp/, but they won't be saved outside of the current session"
   ]
  },
  {
   "attachments": {},
   "cell_type": "markdown",
   "id": "374aaf57",
   "metadata": {
    "papermill": {
     "duration": 0.013369,
     "end_time": "2022-06-27T20:48:15.638184",
     "exception": false,
     "start_time": "2022-06-27T20:48:15.624815",
     "status": "completed"
    },
    "tags": []
   },
   "source": [
    "### 1.2- Improting Dataset"
   ]
  },
  {
   "cell_type": "code",
   "execution_count": 2,
   "id": "387e8a96",
   "metadata": {
    "execution": {
     "iopub.execute_input": "2022-06-27T20:48:15.659098Z",
     "iopub.status.busy": "2022-06-27T20:48:15.658215Z",
     "iopub.status.idle": "2022-06-27T20:48:17.567365Z",
     "shell.execute_reply": "2022-06-27T20:48:17.566465Z"
    },
    "papermill": {
     "duration": 1.921094,
     "end_time": "2022-06-27T20:48:17.569868",
     "exception": false,
     "start_time": "2022-06-27T20:48:15.648774",
     "status": "completed"
    },
    "tags": []
   },
   "outputs": [
    {
     "data": {
      "text/html": [
       "<div>\n",
       "<style scoped>\n",
       "    .dataframe tbody tr th:only-of-type {\n",
       "        vertical-align: middle;\n",
       "    }\n",
       "\n",
       "    .dataframe tbody tr th {\n",
       "        vertical-align: top;\n",
       "    }\n",
       "\n",
       "    .dataframe thead th {\n",
       "        text-align: right;\n",
       "    }\n",
       "</style>\n",
       "<table border=\"1\" class=\"dataframe\">\n",
       "  <thead>\n",
       "    <tr style=\"text-align: right;\">\n",
       "      <th></th>\n",
       "      <th>distance_from_home</th>\n",
       "      <th>distance_from_last_transaction</th>\n",
       "      <th>ratio_to_median_purchase_price</th>\n",
       "      <th>repeat_retailer</th>\n",
       "      <th>used_chip</th>\n",
       "      <th>used_pin_number</th>\n",
       "      <th>online_order</th>\n",
       "      <th>fraud</th>\n",
       "    </tr>\n",
       "  </thead>\n",
       "  <tbody>\n",
       "    <tr>\n",
       "      <th>0</th>\n",
       "      <td>57.877857</td>\n",
       "      <td>0.311140</td>\n",
       "      <td>1.945940</td>\n",
       "      <td>1.0</td>\n",
       "      <td>1.0</td>\n",
       "      <td>0.0</td>\n",
       "      <td>0.0</td>\n",
       "      <td>0.0</td>\n",
       "    </tr>\n",
       "    <tr>\n",
       "      <th>1</th>\n",
       "      <td>10.829943</td>\n",
       "      <td>0.175592</td>\n",
       "      <td>1.294219</td>\n",
       "      <td>1.0</td>\n",
       "      <td>0.0</td>\n",
       "      <td>0.0</td>\n",
       "      <td>0.0</td>\n",
       "      <td>0.0</td>\n",
       "    </tr>\n",
       "    <tr>\n",
       "      <th>2</th>\n",
       "      <td>5.091079</td>\n",
       "      <td>0.805153</td>\n",
       "      <td>0.427715</td>\n",
       "      <td>1.0</td>\n",
       "      <td>0.0</td>\n",
       "      <td>0.0</td>\n",
       "      <td>1.0</td>\n",
       "      <td>0.0</td>\n",
       "    </tr>\n",
       "    <tr>\n",
       "      <th>3</th>\n",
       "      <td>2.247564</td>\n",
       "      <td>5.600044</td>\n",
       "      <td>0.362663</td>\n",
       "      <td>1.0</td>\n",
       "      <td>1.0</td>\n",
       "      <td>0.0</td>\n",
       "      <td>1.0</td>\n",
       "      <td>0.0</td>\n",
       "    </tr>\n",
       "    <tr>\n",
       "      <th>4</th>\n",
       "      <td>44.190936</td>\n",
       "      <td>0.566486</td>\n",
       "      <td>2.222767</td>\n",
       "      <td>1.0</td>\n",
       "      <td>1.0</td>\n",
       "      <td>0.0</td>\n",
       "      <td>1.0</td>\n",
       "      <td>0.0</td>\n",
       "    </tr>\n",
       "    <tr>\n",
       "      <th>5</th>\n",
       "      <td>5.586408</td>\n",
       "      <td>13.261073</td>\n",
       "      <td>0.064768</td>\n",
       "      <td>1.0</td>\n",
       "      <td>0.0</td>\n",
       "      <td>0.0</td>\n",
       "      <td>0.0</td>\n",
       "      <td>0.0</td>\n",
       "    </tr>\n",
       "    <tr>\n",
       "      <th>6</th>\n",
       "      <td>3.724019</td>\n",
       "      <td>0.956838</td>\n",
       "      <td>0.278465</td>\n",
       "      <td>1.0</td>\n",
       "      <td>0.0</td>\n",
       "      <td>0.0</td>\n",
       "      <td>1.0</td>\n",
       "      <td>0.0</td>\n",
       "    </tr>\n",
       "    <tr>\n",
       "      <th>7</th>\n",
       "      <td>4.848247</td>\n",
       "      <td>0.320735</td>\n",
       "      <td>1.273050</td>\n",
       "      <td>1.0</td>\n",
       "      <td>0.0</td>\n",
       "      <td>1.0</td>\n",
       "      <td>0.0</td>\n",
       "      <td>0.0</td>\n",
       "    </tr>\n",
       "    <tr>\n",
       "      <th>8</th>\n",
       "      <td>0.876632</td>\n",
       "      <td>2.503609</td>\n",
       "      <td>1.516999</td>\n",
       "      <td>0.0</td>\n",
       "      <td>0.0</td>\n",
       "      <td>0.0</td>\n",
       "      <td>0.0</td>\n",
       "      <td>0.0</td>\n",
       "    </tr>\n",
       "    <tr>\n",
       "      <th>9</th>\n",
       "      <td>8.839047</td>\n",
       "      <td>2.970512</td>\n",
       "      <td>2.361683</td>\n",
       "      <td>1.0</td>\n",
       "      <td>0.0</td>\n",
       "      <td>0.0</td>\n",
       "      <td>1.0</td>\n",
       "      <td>0.0</td>\n",
       "    </tr>\n",
       "  </tbody>\n",
       "</table>\n",
       "</div>"
      ],
      "text/plain": [
       "   distance_from_home  distance_from_last_transaction   \n",
       "0           57.877857                        0.311140  \\\n",
       "1           10.829943                        0.175592   \n",
       "2            5.091079                        0.805153   \n",
       "3            2.247564                        5.600044   \n",
       "4           44.190936                        0.566486   \n",
       "5            5.586408                       13.261073   \n",
       "6            3.724019                        0.956838   \n",
       "7            4.848247                        0.320735   \n",
       "8            0.876632                        2.503609   \n",
       "9            8.839047                        2.970512   \n",
       "\n",
       "   ratio_to_median_purchase_price  repeat_retailer  used_chip   \n",
       "0                        1.945940              1.0        1.0  \\\n",
       "1                        1.294219              1.0        0.0   \n",
       "2                        0.427715              1.0        0.0   \n",
       "3                        0.362663              1.0        1.0   \n",
       "4                        2.222767              1.0        1.0   \n",
       "5                        0.064768              1.0        0.0   \n",
       "6                        0.278465              1.0        0.0   \n",
       "7                        1.273050              1.0        0.0   \n",
       "8                        1.516999              0.0        0.0   \n",
       "9                        2.361683              1.0        0.0   \n",
       "\n",
       "   used_pin_number  online_order  fraud  \n",
       "0              0.0           0.0    0.0  \n",
       "1              0.0           0.0    0.0  \n",
       "2              0.0           1.0    0.0  \n",
       "3              0.0           1.0    0.0  \n",
       "4              0.0           1.0    0.0  \n",
       "5              0.0           0.0    0.0  \n",
       "6              0.0           1.0    0.0  \n",
       "7              1.0           0.0    0.0  \n",
       "8              0.0           0.0    0.0  \n",
       "9              0.0           1.0    0.0  "
      ]
     },
     "execution_count": 2,
     "metadata": {},
     "output_type": "execute_result"
    }
   ],
   "source": [
    "dataset = pd.read_csv('./card_transdata.csv')\n",
    "dataset = dataset.dropna()\n",
    "dataset.head(10)"
   ]
  },
  {
   "cell_type": "code",
   "execution_count": 3,
   "id": "c79975cb",
   "metadata": {
    "execution": {
     "iopub.execute_input": "2022-06-27T20:48:17.585087Z",
     "iopub.status.busy": "2022-06-27T20:48:17.584819Z",
     "iopub.status.idle": "2022-06-27T20:48:17.616315Z",
     "shell.execute_reply": "2022-06-27T20:48:17.614655Z"
    },
    "papermill": {
     "duration": 0.041812,
     "end_time": "2022-06-27T20:48:17.618945",
     "exception": false,
     "start_time": "2022-06-27T20:48:17.577133",
     "status": "completed"
    },
    "tags": []
   },
   "outputs": [
    {
     "name": "stdout",
     "output_type": "stream",
     "text": [
      "<class 'pandas.core.frame.DataFrame'>\n",
      "RangeIndex: 1000000 entries, 0 to 999999\n",
      "Data columns (total 8 columns):\n",
      " #   Column                          Non-Null Count    Dtype  \n",
      "---  ------                          --------------    -----  \n",
      " 0   distance_from_home              1000000 non-null  float64\n",
      " 1   distance_from_last_transaction  1000000 non-null  float64\n",
      " 2   ratio_to_median_purchase_price  1000000 non-null  float64\n",
      " 3   repeat_retailer                 1000000 non-null  float64\n",
      " 4   used_chip                       1000000 non-null  float64\n",
      " 5   used_pin_number                 1000000 non-null  float64\n",
      " 6   online_order                    1000000 non-null  float64\n",
      " 7   fraud                           1000000 non-null  float64\n",
      "dtypes: float64(8)\n",
      "memory usage: 61.0 MB\n"
     ]
    }
   ],
   "source": [
    "dataset.info()"
   ]
  },
  {
   "cell_type": "code",
   "execution_count": 4,
   "id": "ece6424c",
   "metadata": {},
   "outputs": [
    {
     "data": {
      "text/html": [
       "<div>\n",
       "<style scoped>\n",
       "    .dataframe tbody tr th:only-of-type {\n",
       "        vertical-align: middle;\n",
       "    }\n",
       "\n",
       "    .dataframe tbody tr th {\n",
       "        vertical-align: top;\n",
       "    }\n",
       "\n",
       "    .dataframe thead th {\n",
       "        text-align: right;\n",
       "    }\n",
       "</style>\n",
       "<table border=\"1\" class=\"dataframe\">\n",
       "  <thead>\n",
       "    <tr style=\"text-align: right;\">\n",
       "      <th></th>\n",
       "      <th>distance_from_home</th>\n",
       "      <th>distance_from_last_transaction</th>\n",
       "      <th>ratio_to_median_purchase_price</th>\n",
       "      <th>repeat_retailer</th>\n",
       "      <th>used_chip</th>\n",
       "      <th>used_pin_number</th>\n",
       "      <th>online_order</th>\n",
       "      <th>fraud</th>\n",
       "    </tr>\n",
       "  </thead>\n",
       "  <tbody>\n",
       "    <tr>\n",
       "      <th>count</th>\n",
       "      <td>1000000.000000</td>\n",
       "      <td>1000000.000000</td>\n",
       "      <td>1000000.000000</td>\n",
       "      <td>1000000.000000</td>\n",
       "      <td>1000000.000000</td>\n",
       "      <td>1000000.000000</td>\n",
       "      <td>1000000.000000</td>\n",
       "      <td>1000000.000000</td>\n",
       "    </tr>\n",
       "    <tr>\n",
       "      <th>mean</th>\n",
       "      <td>26.628792</td>\n",
       "      <td>5.036519</td>\n",
       "      <td>1.824182</td>\n",
       "      <td>0.881536</td>\n",
       "      <td>0.350399</td>\n",
       "      <td>0.100608</td>\n",
       "      <td>0.650552</td>\n",
       "      <td>0.087403</td>\n",
       "    </tr>\n",
       "    <tr>\n",
       "      <th>std</th>\n",
       "      <td>65.390784</td>\n",
       "      <td>25.843093</td>\n",
       "      <td>2.799589</td>\n",
       "      <td>0.323157</td>\n",
       "      <td>0.477095</td>\n",
       "      <td>0.300809</td>\n",
       "      <td>0.476796</td>\n",
       "      <td>0.282425</td>\n",
       "    </tr>\n",
       "    <tr>\n",
       "      <th>min</th>\n",
       "      <td>0.004874</td>\n",
       "      <td>0.000118</td>\n",
       "      <td>0.004399</td>\n",
       "      <td>0.000000</td>\n",
       "      <td>0.000000</td>\n",
       "      <td>0.000000</td>\n",
       "      <td>0.000000</td>\n",
       "      <td>0.000000</td>\n",
       "    </tr>\n",
       "    <tr>\n",
       "      <th>25%</th>\n",
       "      <td>3.878008</td>\n",
       "      <td>0.296671</td>\n",
       "      <td>0.475673</td>\n",
       "      <td>1.000000</td>\n",
       "      <td>0.000000</td>\n",
       "      <td>0.000000</td>\n",
       "      <td>0.000000</td>\n",
       "      <td>0.000000</td>\n",
       "    </tr>\n",
       "    <tr>\n",
       "      <th>50%</th>\n",
       "      <td>9.967760</td>\n",
       "      <td>0.998650</td>\n",
       "      <td>0.997717</td>\n",
       "      <td>1.000000</td>\n",
       "      <td>0.000000</td>\n",
       "      <td>0.000000</td>\n",
       "      <td>1.000000</td>\n",
       "      <td>0.000000</td>\n",
       "    </tr>\n",
       "    <tr>\n",
       "      <th>75%</th>\n",
       "      <td>25.743985</td>\n",
       "      <td>3.355748</td>\n",
       "      <td>2.096370</td>\n",
       "      <td>1.000000</td>\n",
       "      <td>1.000000</td>\n",
       "      <td>0.000000</td>\n",
       "      <td>1.000000</td>\n",
       "      <td>0.000000</td>\n",
       "    </tr>\n",
       "    <tr>\n",
       "      <th>max</th>\n",
       "      <td>10632.723672</td>\n",
       "      <td>11851.104565</td>\n",
       "      <td>267.802942</td>\n",
       "      <td>1.000000</td>\n",
       "      <td>1.000000</td>\n",
       "      <td>1.000000</td>\n",
       "      <td>1.000000</td>\n",
       "      <td>1.000000</td>\n",
       "    </tr>\n",
       "  </tbody>\n",
       "</table>\n",
       "</div>"
      ],
      "text/plain": [
       "       distance_from_home  distance_from_last_transaction   \n",
       "count      1000000.000000                  1000000.000000  \\\n",
       "mean            26.628792                        5.036519   \n",
       "std             65.390784                       25.843093   \n",
       "min              0.004874                        0.000118   \n",
       "25%              3.878008                        0.296671   \n",
       "50%              9.967760                        0.998650   \n",
       "75%             25.743985                        3.355748   \n",
       "max          10632.723672                    11851.104565   \n",
       "\n",
       "       ratio_to_median_purchase_price  repeat_retailer       used_chip   \n",
       "count                  1000000.000000   1000000.000000  1000000.000000  \\\n",
       "mean                         1.824182         0.881536        0.350399   \n",
       "std                          2.799589         0.323157        0.477095   \n",
       "min                          0.004399         0.000000        0.000000   \n",
       "25%                          0.475673         1.000000        0.000000   \n",
       "50%                          0.997717         1.000000        0.000000   \n",
       "75%                          2.096370         1.000000        1.000000   \n",
       "max                        267.802942         1.000000        1.000000   \n",
       "\n",
       "       used_pin_number    online_order           fraud  \n",
       "count   1000000.000000  1000000.000000  1000000.000000  \n",
       "mean          0.100608        0.650552        0.087403  \n",
       "std           0.300809        0.476796        0.282425  \n",
       "min           0.000000        0.000000        0.000000  \n",
       "25%           0.000000        0.000000        0.000000  \n",
       "50%           0.000000        1.000000        0.000000  \n",
       "75%           0.000000        1.000000        0.000000  \n",
       "max           1.000000        1.000000        1.000000  "
      ]
     },
     "execution_count": 4,
     "metadata": {},
     "output_type": "execute_result"
    }
   ],
   "source": [
    "dataset.describe()"
   ]
  },
  {
   "cell_type": "code",
   "execution_count": 5,
   "id": "428e7e86",
   "metadata": {
    "execution": {
     "iopub.execute_input": "2022-06-27T20:48:17.634855Z",
     "iopub.status.busy": "2022-06-27T20:48:17.634598Z",
     "iopub.status.idle": "2022-06-27T20:48:17.853006Z",
     "shell.execute_reply": "2022-06-27T20:48:17.851987Z"
    },
    "papermill": {
     "duration": 0.228141,
     "end_time": "2022-06-27T20:48:17.855064",
     "exception": false,
     "start_time": "2022-06-27T20:48:17.626923",
     "status": "completed"
    },
    "tags": []
   },
   "outputs": [
    {
     "data": {
      "text/plain": [
       "fraud\n",
       "0.0    912597\n",
       "1.0     87403\n",
       "Name: count, dtype: int64"
      ]
     },
     "execution_count": 5,
     "metadata": {},
     "output_type": "execute_result"
    },
    {
     "data": {
      "image/png": "[encoded data removed]",
      "text/plain": [
       "<Figure size 640x480 with 1 Axes>"
      ]
     },
     "metadata": {},
     "output_type": "display_data"
    }
   ],
   "source": [
    "dataset.value_counts(\"fraud\").plot.pie(autopct = \"%.1f\")\n",
    "dataset.value_counts(\"fraud\")"
   ]
  },
  {
   "attachments": {},
   "cell_type": "markdown",
   "id": "5f3a3ea6",
   "metadata": {
    "papermill": {
     "duration": 0.013916,
     "end_time": "2022-06-27T20:48:17.882449",
     "exception": false,
     "start_time": "2022-06-27T20:48:17.868533",
     "status": "completed"
    },
    "tags": []
   },
   "source": [
    "`As it indicates, dataset is utterly imbalanced`"
   ]
  },
  {
   "attachments": {},
   "cell_type": "markdown",
   "id": "8347eefd",
   "metadata": {
    "papermill": {
     "duration": 0.007081,
     "end_time": "2022-06-27T20:48:17.897996",
     "exception": false,
     "start_time": "2022-06-27T20:48:17.890915",
     "status": "completed"
    },
    "tags": []
   },
   "source": [
    "We choose all columns as our matrix of features except the last one, which is 'y' column."
   ]
  },
  {
   "cell_type": "code",
   "execution_count": 6,
   "id": "9daadbbc",
   "metadata": {},
   "outputs": [],
   "source": [
    "X = dataset.iloc[:, : -1].values\n",
    "y = dataset.iloc[:, -1].values"
   ]
  },
  {
   "cell_type": "code",
   "execution_count": 7,
   "id": "276b4a4c",
   "metadata": {
    "execution": {
     "iopub.execute_input": "2022-06-27T20:48:17.937898Z",
     "iopub.status.busy": "2022-06-27T20:48:17.936471Z",
     "iopub.status.idle": "2022-06-27T20:48:17.951083Z",
     "shell.execute_reply": "2022-06-27T20:48:17.949725Z"
    },
    "papermill": {
     "duration": 0.024616,
     "end_time": "2022-06-27T20:48:17.953105",
     "exception": false,
     "start_time": "2022-06-27T20:48:17.928489",
     "status": "completed"
    },
    "tags": []
   },
   "outputs": [
    {
     "name": "stdout",
     "output_type": "stream",
     "text": [
      "Shape of X: (1000000, 7)\n",
      "Shape of y: (1000000,)\n"
     ]
    }
   ],
   "source": [
    "dataset.fraud.value_counts()\n",
    "print('Shape of X:', np.shape(X))\n",
    "print('Shape of y:', np.shape(y))"
   ]
  },
  {
   "attachments": {},
   "cell_type": "markdown",
   "id": "c3e4a3fc",
   "metadata": {
    "papermill": {
     "duration": 0.007592,
     "end_time": "2022-06-27T20:48:17.968081",
     "exception": false,
     "start_time": "2022-06-27T20:48:17.960489",
     "status": "completed"
    },
    "tags": []
   },
   "source": [
    "### 1.3- Oversampling and Train, Test split"
   ]
  },
  {
   "cell_type": "code",
   "execution_count": 8,
   "id": "b2645118",
   "metadata": {
    "execution": {
     "iopub.execute_input": "2022-06-27T20:48:17.983281Z",
     "iopub.status.busy": "2022-06-27T20:48:17.983020Z",
     "iopub.status.idle": "2022-06-27T20:48:19.296739Z",
     "shell.execute_reply": "2022-06-27T20:48:19.295745Z"
    },
    "papermill": {
     "duration": 1.324326,
     "end_time": "2022-06-27T20:48:19.299443",
     "exception": false,
     "start_time": "2022-06-27T20:48:17.975117",
     "status": "completed"
    },
    "tags": []
   },
   "outputs": [
    {
     "name": "stdout",
     "output_type": "stream",
     "text": [
      "Original dataset shape Counter({1: 78662, 0: 8741})\n",
      "Resampled dataset shape Counter({1: 78662, 0: 78662})\n",
      "Shape of X: (157324, 20)\n",
      "Shape of y: (157324,)\n",
      "\n",
      "X_train: (110126, 20)\n",
      "y_train: (110126,)\n",
      "X_test: (47198, 20)\n",
      "y_test: (47198,)\n"
     ]
    }
   ],
   "source": [
    "X, y = make_classification(n_classes=2, class_sep=2,\n",
    "                           weights=[0.1, 0.9], n_informative=3, n_redundant=1, flip_y=0,\n",
    "                           n_features=20, n_clusters_per_class=1, n_samples=87403, random_state=10)\n",
    "print('Original dataset shape %s' % Counter(y))\n",
    "\n",
    "sm = SMOTE(random_state=42)\n",
    "X_res, y_res = sm.fit_resample(X, y)\n",
    "print('Resampled dataset shape %s' % Counter(y_res))\n",
    "print('Shape of X:', np.shape(X_res))\n",
    "print('Shape of y:', np.shape(y_res))\n",
    "\n",
    "X_train, X_test, y_train, y_test = train_test_split(X_res, y_res, test_size=0.3, random_state=0)\n",
    "print('\\nX_train:', np.shape(X_train))\n",
    "print('y_train:', np.shape(y_train))\n",
    "print('X_test:', np.shape(X_test))\n",
    "print('y_test:', np.shape(y_test))\n",
    "\n"
   ]
  },
  {
   "cell_type": "code",
   "execution_count": 9,
   "id": "daa5128a",
   "metadata": {},
   "outputs": [],
   "source": [
    "import numpy as np\n",
    "from sklearn.datasets import make_classification\n",
    "\n",
    "np.random.seed(42)\n",
    "X, y = make_classification(n_classes=2, class_sep=2,\n",
    "                           weights=[0.1, 0.9], n_informative=3, n_redundant=1, flip_y=1,\n",
    "                           n_features=20, n_clusters_per_class=1, n_samples=87403, random_state=10)"
   ]
  },
  {
   "cell_type": "code",
   "execution_count": 10,
   "id": "af39a848",
   "metadata": {},
   "outputs": [
    {
     "data": {
      "image/png": "[encoded data removed]",
      "text/plain": [
       "<Figure size 640x480 with 1 Axes>"
      ]
     },
     "metadata": {},
     "output_type": "display_data"
    }
   ],
   "source": [
    "class_counts = Counter(y_res)\n",
    "plt.pie(class_counts.values(), labels=class_counts.keys(), autopct='%1.1f%%') # type: ignore\n",
    "plt.title('Class Distribution after Resampling')\n",
    "plt.show()"
   ]
  },
  {
   "attachments": {},
   "cell_type": "markdown",
   "id": "3a13d4ee",
   "metadata": {
    "papermill": {
     "duration": 0.007314,
     "end_time": "2022-06-27T20:48:19.314905",
     "exception": false,
     "start_time": "2022-06-27T20:48:19.307591",
     "status": "completed"
    },
    "tags": []
   },
   "source": [
    "## **2- Binary Classification**"
   ]
  },
  {
   "cell_type": "code",
   "execution_count": 11,
   "id": "f4d19566",
   "metadata": {
    "execution": {
     "iopub.execute_input": "2022-06-27T20:48:19.331648Z",
     "iopub.status.busy": "2022-06-27T20:48:19.330865Z",
     "iopub.status.idle": "2022-06-27T20:48:19.336690Z",
     "shell.execute_reply": "2022-06-27T20:48:19.335663Z"
    },
    "papermill": {
     "duration": 0.016619,
     "end_time": "2022-06-27T20:48:19.338924",
     "exception": false,
     "start_time": "2022-06-27T20:48:19.322305",
     "status": "completed"
    },
    "tags": []
   },
   "outputs": [],
   "source": [
    "def plt_acc_loss(train, epochs, plttype):\n",
    "    epochstoplot = range(1, epochs + 1)\n",
    "    plt.plot(epochstoplot, train, label='Training ' + plttype)\n",
    "    plt.title('Training ' + plttype)\n",
    "    plt.xlabel('Epochs')\n",
    "    plt.ylabel(plttype)\n",
    "    plt.legend()\n",
    "    plt.show()"
   ]
  },
  {
   "attachments": {},
   "cell_type": "markdown",
   "id": "2bf81e26",
   "metadata": {
    "papermill": {
     "duration": 0.007065,
     "end_time": "2022-06-27T20:48:19.353075",
     "exception": false,
     "start_time": "2022-06-27T20:48:19.346010",
     "status": "completed"
    },
    "tags": []
   },
   "source": [
    "### 2.1- Deep Learning"
   ]
  },
  {
   "attachments": {},
   "cell_type": "markdown",
   "id": "b844bfc2",
   "metadata": {
    "papermill": {
     "duration": 0.006952,
     "end_time": "2022-06-27T20:48:19.367183",
     "exception": false,
     "start_time": "2022-06-27T20:48:19.360231",
     "status": "completed"
    },
    "tags": []
   },
   "source": [
    "`Time to define Hyperparameters`"
   ]
  },
  {
   "cell_type": "code",
   "execution_count": 12,
   "id": "35064e47",
   "metadata": {
    "execution": {
     "iopub.execute_input": "2022-06-27T20:48:19.382655Z",
     "iopub.status.busy": "2022-06-27T20:48:19.382409Z",
     "iopub.status.idle": "2022-06-27T20:48:19.441650Z",
     "shell.execute_reply": "2022-06-27T20:48:19.440713Z"
    },
    "papermill": {
     "duration": 0.069318,
     "end_time": "2022-06-27T20:48:19.443750",
     "exception": false,
     "start_time": "2022-06-27T20:48:19.374432",
     "status": "completed"
    },
    "tags": []
   },
   "outputs": [
    {
     "name": "stdout",
     "output_type": "stream",
     "text": [
      "Device: cuda\n"
     ]
    }
   ],
   "source": [
    "EPOCHS = 100\n",
    "BATCH_SIZE = 64\n",
    "LEARNING_RATE = 0.00146\n",
    "WORKERS = 0\n",
    "WD = 1e-6\n",
    "device = torch.device('cuda' if torch.cuda.is_available() else 'cpu')\n",
    "torch.backends.cudnn.benchmark = False # type: ignore\n",
    "torch.backends.cudnn.deterministic = True # type: ignore\n",
    "print('Device:', device)"
   ]
  },
  {
   "cell_type": "code",
   "execution_count": 13,
   "id": "110b89d1",
   "metadata": {
    "execution": {
     "iopub.execute_input": "2022-06-27T20:48:19.460402Z",
     "iopub.status.busy": "2022-06-27T20:48:19.459619Z",
     "iopub.status.idle": "2022-06-27T20:48:19.504629Z",
     "shell.execute_reply": "2022-06-27T20:48:19.503806Z"
    },
    "papermill": {
     "duration": 0.054978,
     "end_time": "2022-06-27T20:48:19.506514",
     "exception": false,
     "start_time": "2022-06-27T20:48:19.451536",
     "status": "completed"
    },
    "tags": []
   },
   "outputs": [],
   "source": [
    "class TrainData(Dataset):\n",
    "    \n",
    "    def __init__(self, X_data, y_data):\n",
    "        self.X_data = X_data\n",
    "        self.y_data = y_data\n",
    "        \n",
    "    def __getitem__(self, index):\n",
    "        return self.X_data[index], self.y_data[index]\n",
    "        \n",
    "    def __len__ (self):\n",
    "        return len(self.X_data)\n",
    "\n",
    "class TestData(Dataset):\n",
    "    \n",
    "    def __init__(self, X_data, y_data):\n",
    "        self.X_data = X_data\n",
    "        self.y_data = y_data\n",
    "        \n",
    "    def __getitem__(self, index):\n",
    "        return self.X_data[index], self.y_data[index]\n",
    "        \n",
    "    def __len__ (self):\n",
    "        return len(self.X_data)\n",
    "    \n",
    "train_data = TrainData(torch.FloatTensor(X_train), torch.FloatTensor(y_train))\n",
    "test_data = TestData(torch.FloatTensor(X_test), torch.FloatTensor(y_test))\n",
    "\n",
    "train_loader = DataLoader(dataset=train_data, batch_size=BATCH_SIZE, shuffle=True, num_workers=WORKERS)\n",
    "test_loader = DataLoader(dataset=test_data, batch_size=16, shuffle=True, num_workers=WORKERS)"
   ]
  },
  {
   "attachments": {},
   "cell_type": "markdown",
   "id": "7bfd66db",
   "metadata": {
    "papermill": {
     "duration": 0.006994,
     "end_time": "2022-06-27T20:48:19.520717",
     "exception": false,
     "start_time": "2022-06-27T20:48:19.513723",
     "status": "completed"
    },
    "tags": []
   },
   "source": [
    "### 2.2- Neural Network with 3 different layers"
   ]
  },
  {
   "cell_type": "code",
   "execution_count": 14,
   "id": "5d0a429b",
   "metadata": {
    "execution": {
     "iopub.execute_input": "2022-06-27T20:48:19.536232Z",
     "iopub.status.busy": "2022-06-27T20:48:19.535989Z",
     "iopub.status.idle": "2022-06-27T20:48:19.544467Z",
     "shell.execute_reply": "2022-06-27T20:48:19.543663Z"
    },
    "papermill": {
     "duration": 0.01842,
     "end_time": "2022-06-27T20:48:19.546337",
     "exception": false,
     "start_time": "2022-06-27T20:48:19.527917",
     "status": "completed"
    },
    "tags": []
   },
   "outputs": [],
   "source": [
    "class NeuralNet(Module):\n",
    "\n",
    "    def __init__(self):\n",
    "        super(NeuralNet, self).__init__()\n",
    "\n",
    "        # Number of input features is 20.\n",
    "        self.layer_1 = Linear(20, 64) \n",
    "        self.layer_2 = Linear(64, 64)\n",
    "        self.layer_out = Linear(64, 1) \n",
    "\n",
    "        self.relu = ReLU()\n",
    "        self.dropout = Dropout(p=0.1)\n",
    "        self.batchnorm1 = BatchNorm1d(64)\n",
    "        self.batchnorm2 = BatchNorm1d(64)\n",
    "          \n",
    "    def forward(self, inputs):\n",
    "        x = self.relu(self.layer_1(inputs))\n",
    "        x = self.batchnorm1(x)\n",
    "        x = self.relu(self.layer_2(x))\n",
    "        x = self.batchnorm2(x)\n",
    "        x = self.dropout(x)\n",
    "        x = self.layer_out(x)\n",
    "\n",
    "        return x"
   ]
  },
  {
   "cell_type": "code",
   "execution_count": 15,
   "id": "b0c10bc8",
   "metadata": {
    "execution": {
     "iopub.execute_input": "2022-06-27T20:48:19.562028Z",
     "iopub.status.busy": "2022-06-27T20:48:19.561781Z",
     "iopub.status.idle": "2022-06-27T20:48:19.567047Z",
     "shell.execute_reply": "2022-06-27T20:48:19.565989Z"
    },
    "papermill": {
     "duration": 0.015464,
     "end_time": "2022-06-27T20:48:19.569028",
     "exception": false,
     "start_time": "2022-06-27T20:48:19.553564",
     "status": "completed"
    },
    "tags": []
   },
   "outputs": [],
   "source": [
    "def binary_acc(y_pred, y_test):\n",
    "    y_pred_tag = torch.round(torch.sigmoid(y_pred))\n",
    "\n",
    "    correct_results_sum = (y_pred_tag == y_test).sum().float()\n",
    "    acc = correct_results_sum/y_test.shape[0]\n",
    "    acc = torch.round(acc * 100)\n",
    "    \n",
    "    return acc"
   ]
  },
  {
   "attachments": {},
   "cell_type": "markdown",
   "id": "81b4a32e",
   "metadata": {
    "papermill": {
     "duration": 0.00719,
     "end_time": "2022-06-27T20:48:19.583601",
     "exception": false,
     "start_time": "2022-06-27T20:48:19.576411",
     "status": "completed"
    },
    "tags": []
   },
   "source": [
    "### 2.3- Training"
   ]
  },
  {
   "cell_type": "code",
   "execution_count": 16,
   "id": "cdf997dc",
   "metadata": {
    "execution": {
     "iopub.execute_input": "2022-06-27T20:48:19.598967Z",
     "iopub.status.busy": "2022-06-27T20:48:19.598718Z",
     "iopub.status.idle": "2022-06-27T21:01:07.573371Z",
     "shell.execute_reply": "2022-06-27T21:01:07.571130Z"
    },
    "papermill": {
     "duration": 767.990994,
     "end_time": "2022-06-27T21:01:07.581761",
     "exception": false,
     "start_time": "2022-06-27T20:48:19.590767",
     "status": "completed"
    },
    "tags": []
   },
   "outputs": [
    {
     "name": "stdout",
     "output_type": "stream",
     "text": [
      "Epoch 01 / 100: | Loss: 0.1583 | Acc: 96.212\n",
      "Epoch 02 / 100: | Loss: 0.0611 | Acc: 98.264\n",
      "Epoch 03 / 100: | Loss: 0.0464 | Acc: 98.503\n",
      "Epoch 04 / 100: | Loss: 0.0400 | Acc: 98.652\n",
      "Epoch 05 / 100: | Loss: 0.0368 | Acc: 98.740\n",
      "Epoch 06 / 100: | Loss: 0.0330 | Acc: 98.812\n",
      "Epoch 07 / 100: | Loss: 0.0317 | Acc: 98.876\n",
      "Epoch 08 / 100: | Loss: 0.0307 | Acc: 98.924\n",
      "Epoch 09 / 100: | Loss: 0.0297 | Acc: 98.948\n",
      "Epoch 10 / 100: | Loss: 0.0288 | Acc: 98.976\n",
      "Epoch 11 / 100: | Loss: 0.0280 | Acc: 99.013\n",
      "Epoch 12 / 100: | Loss: 0.0273 | Acc: 99.000\n",
      "Epoch 13 / 100: | Loss: 0.0262 | Acc: 99.085\n",
      "Epoch 14 / 100: | Loss: 0.0259 | Acc: 99.146\n",
      "Epoch 15 / 100: | Loss: 0.0263 | Acc: 99.089\n",
      "Epoch 16 / 100: | Loss: 0.0257 | Acc: 99.109\n",
      "Epoch 17 / 100: | Loss: 0.0249 | Acc: 99.150\n",
      "Epoch 18 / 100: | Loss: 0.0250 | Acc: 99.175\n",
      "Epoch 19 / 100: | Loss: 0.0244 | Acc: 99.180\n",
      "Epoch 20 / 100: | Loss: 0.0236 | Acc: 99.202\n",
      "Epoch 21 / 100: | Loss: 0.0231 | Acc: 99.214\n",
      "Epoch 22 / 100: | Loss: 0.0231 | Acc: 99.240\n",
      "Epoch 23 / 100: | Loss: 0.0228 | Acc: 99.257\n",
      "Epoch 24 / 100: | Loss: 0.0231 | Acc: 99.207\n",
      "Epoch 25 / 100: | Loss: 0.0222 | Acc: 99.261\n",
      "Epoch 26 / 100: | Loss: 0.0227 | Acc: 99.241\n",
      "Epoch 27 / 100: | Loss: 0.0224 | Acc: 99.239\n",
      "Epoch 28 / 100: | Loss: 0.0211 | Acc: 99.276\n",
      "Epoch 29 / 100: | Loss: 0.0220 | Acc: 99.277\n",
      "Epoch 30 / 100: | Loss: 0.0217 | Acc: 99.261\n",
      "Epoch 31 / 100: | Loss: 0.0218 | Acc: 99.288\n",
      "Epoch 32 / 100: | Loss: 0.0211 | Acc: 99.306\n",
      "Epoch 33 / 100: | Loss: 0.0214 | Acc: 99.302\n",
      "Epoch 34 / 100: | Loss: 0.0209 | Acc: 99.323\n",
      "Epoch 35 / 100: | Loss: 0.0204 | Acc: 99.328\n",
      "Epoch 36 / 100: | Loss: 0.0205 | Acc: 99.349\n",
      "Epoch 37 / 100: | Loss: 0.0204 | Acc: 99.337\n",
      "Epoch 38 / 100: | Loss: 0.0196 | Acc: 99.381\n",
      "Epoch 39 / 100: | Loss: 0.0199 | Acc: 99.338\n",
      "Epoch 40 / 100: | Loss: 0.0201 | Acc: 99.338\n",
      "Epoch 41 / 100: | Loss: 0.0197 | Acc: 99.338\n",
      "Epoch 42 / 100: | Loss: 0.0193 | Acc: 99.361\n",
      "Epoch 43 / 100: | Loss: 0.0197 | Acc: 99.365\n",
      "Epoch 44 / 100: | Loss: 0.0190 | Acc: 99.386\n",
      "Epoch 45 / 100: | Loss: 0.0192 | Acc: 99.382\n",
      "Epoch 46 / 100: | Loss: 0.0193 | Acc: 99.371\n",
      "Epoch 47 / 100: | Loss: 0.0190 | Acc: 99.389\n",
      "Epoch 48 / 100: | Loss: 0.0188 | Acc: 99.410\n",
      "Epoch 49 / 100: | Loss: 0.0184 | Acc: 99.405\n",
      "Epoch 50 / 100: | Loss: 0.0191 | Acc: 99.367\n",
      "Epoch 51 / 100: | Loss: 0.0182 | Acc: 99.421\n",
      "Epoch 52 / 100: | Loss: 0.0183 | Acc: 99.402\n",
      "Epoch 53 / 100: | Loss: 0.0183 | Acc: 99.415\n",
      "Epoch 54 / 100: | Loss: 0.0177 | Acc: 99.422\n",
      "Epoch 55 / 100: | Loss: 0.0177 | Acc: 99.435\n",
      "Epoch 56 / 100: | Loss: 0.0175 | Acc: 99.433\n",
      "Epoch 57 / 100: | Loss: 0.0170 | Acc: 99.461\n",
      "Epoch 58 / 100: | Loss: 0.0170 | Acc: 99.433\n",
      "Epoch 59 / 100: | Loss: 0.0172 | Acc: 99.451\n",
      "Epoch 60 / 100: | Loss: 0.0169 | Acc: 99.466\n",
      "Epoch 61 / 100: | Loss: 0.0167 | Acc: 99.461\n",
      "Epoch 62 / 100: | Loss: 0.0171 | Acc: 99.441\n",
      "Epoch 63 / 100: | Loss: 0.0170 | Acc: 99.423\n",
      "Epoch 64 / 100: | Loss: 0.0167 | Acc: 99.469\n",
      "Epoch 65 / 100: | Loss: 0.0161 | Acc: 99.473\n",
      "Epoch 66 / 100: | Loss: 0.0163 | Acc: 99.449\n",
      "Epoch 67 / 100: | Loss: 0.0164 | Acc: 99.464\n",
      "Epoch 68 / 100: | Loss: 0.0159 | Acc: 99.490\n",
      "Epoch 69 / 100: | Loss: 0.0156 | Acc: 99.471\n",
      "Epoch 70 / 100: | Loss: 0.0157 | Acc: 99.506\n",
      "Epoch 71 / 100: | Loss: 0.0160 | Acc: 99.465\n",
      "Epoch 72 / 100: | Loss: 0.0155 | Acc: 99.489\n",
      "Epoch 73 / 100: | Loss: 0.0154 | Acc: 99.489\n",
      "Epoch 74 / 100: | Loss: 0.0151 | Acc: 99.500\n",
      "Epoch 75 / 100: | Loss: 0.0150 | Acc: 99.515\n",
      "Epoch 76 / 100: | Loss: 0.0152 | Acc: 99.502\n",
      "Epoch 77 / 100: | Loss: 0.0150 | Acc: 99.508\n",
      "Epoch 78 / 100: | Loss: 0.0148 | Acc: 99.525\n",
      "Epoch 79 / 100: | Loss: 0.0146 | Acc: 99.504\n",
      "Epoch 80 / 100: | Loss: 0.0143 | Acc: 99.532\n",
      "Epoch 81 / 100: | Loss: 0.0151 | Acc: 99.475\n",
      "Epoch 82 / 100: | Loss: 0.0141 | Acc: 99.519\n",
      "Epoch 83 / 100: | Loss: 0.0139 | Acc: 99.533\n",
      "Epoch 84 / 100: | Loss: 0.0137 | Acc: 99.533\n",
      "Epoch 85 / 100: | Loss: 0.0137 | Acc: 99.531\n",
      "Epoch 86 / 100: | Loss: 0.0135 | Acc: 99.531\n",
      "Epoch 87 / 100: | Loss: 0.0131 | Acc: 99.575\n",
      "Epoch 88 / 100: | Loss: 0.0133 | Acc: 99.542\n",
      "Epoch 89 / 100: | Loss: 0.0129 | Acc: 99.582\n",
      "Epoch 90 / 100: | Loss: 0.0126 | Acc: 99.555\n",
      "Epoch 91 / 100: | Loss: 0.0128 | Acc: 99.561\n",
      "Epoch 92 / 100: | Loss: 0.0121 | Acc: 99.600\n",
      "Epoch 93 / 100: | Loss: 0.0118 | Acc: 99.601\n",
      "Epoch 94 / 100: | Loss: 0.0114 | Acc: 99.612\n",
      "Epoch 95 / 100: | Loss: 0.0112 | Acc: 99.606\n",
      "Epoch 96 / 100: | Loss: 0.0109 | Acc: 99.633\n",
      "Epoch 97 / 100: | Loss: 0.0100 | Acc: 99.629\n",
      "Epoch 98 / 100: | Loss: 0.0094 | Acc: 99.661\n",
      "Epoch 99 / 100: | Loss: 0.0090 | Acc: 99.680\n",
      "Epoch 100 / 100: | Loss: 0.0089 | Acc: 99.677\n",
      "\n",
      "Training is completed!\n",
      "_____________________________\n",
      "Total Training Time: 9.30 min\n"
     ]
    }
   ],
   "source": [
    "start_time = time.time()\n",
    "\n",
    "accuracy_stats = []\n",
    "loss_stats = []\n",
    "\n",
    "model = NeuralNet()\n",
    "model.to(device)\n",
    "loss = BCEWithLogitsLoss()\n",
    "optimizer = optim.SGD(model.parameters(), lr=LEARNING_RATE, weight_decay=WD)\n",
    "\n",
    "model.train()\n",
    "\n",
    "for i in range(1, EPOCHS+1):\n",
    "    epoch_loss = 0\n",
    "    epoch_acc = 0\n",
    "    for X_batch, y_batch in train_loader:\n",
    "        X_batch, y_batch = X_batch.to(device), y_batch.to(device)\n",
    "        \n",
    "        y_pred = model(X_batch)\n",
    "        l = loss(y_pred, y_batch.unsqueeze(1))\n",
    "        \n",
    "        optimizer.zero_grad()\n",
    "        l.backward()\n",
    "        optimizer.step()\n",
    "        \n",
    "        acc = binary_acc(y_pred, y_batch.unsqueeze(1))\n",
    "\n",
    "        epoch_loss += l.item()\n",
    "        epoch_acc += acc.item()\n",
    "        \n",
    "\n",
    "    print(f'Epoch {i:02d} / {EPOCHS:02d}: | Loss: {epoch_loss/len(train_loader):.4f} | Acc: {epoch_acc/len(train_loader):.3f}')\n",
    "    loss_stats.append(epoch_loss / len(train_loader))\n",
    "    accuracy_stats.append(epoch_acc / len(train_loader))\n",
    "\n",
    "\n",
    "print('\\nTraining is completed!')\n",
    "print('_____________________________')\n",
    "print(f'Total Training Time: {(time.time() - start_time)/60:.2f} min')"
   ]
  },
  {
   "cell_type": "code",
   "execution_count": 17,
   "id": "a9e914c3",
   "metadata": {
    "execution": {
     "iopub.execute_input": "2022-06-27T21:01:07.599153Z",
     "iopub.status.busy": "2022-06-27T21:01:07.598842Z",
     "iopub.status.idle": "2022-06-27T21:01:07.775022Z",
     "shell.execute_reply": "2022-06-27T21:01:07.774106Z"
    },
    "papermill": {
     "duration": 0.187306,
     "end_time": "2022-06-27T21:01:07.777114",
     "exception": false,
     "start_time": "2022-06-27T21:01:07.589808",
     "status": "completed"
    },
    "tags": []
   },
   "outputs": [
    {
     "data": {
      "image/png": "[encoded data removed]",
      "text/plain": [
       "<Figure size 640x480 with 1 Axes>"
      ]
     },
     "metadata": {},
     "output_type": "display_data"
    }
   ],
   "source": [
    "plt_acc_loss(loss_stats, EPOCHS, 'Loss')"
   ]
  },
  {
   "cell_type": "code",
   "execution_count": 18,
   "id": "035763ad",
   "metadata": {
    "execution": {
     "iopub.execute_input": "2022-06-27T21:01:07.796193Z",
     "iopub.status.busy": "2022-06-27T21:01:07.794632Z",
     "iopub.status.idle": "2022-06-27T21:01:08.110168Z",
     "shell.execute_reply": "2022-06-27T21:01:08.109233Z"
    },
    "papermill": {
     "duration": 0.326556,
     "end_time": "2022-06-27T21:01:08.112133",
     "exception": false,
     "start_time": "2022-06-27T21:01:07.785577",
     "status": "completed"
    },
    "tags": []
   },
   "outputs": [
    {
     "data": {
      "image/png": "[encoded data removed]",
      "text/plain": [
       "<Figure size 640x480 with 1 Axes>"
      ]
     },
     "metadata": {},
     "output_type": "display_data"
    }
   ],
   "source": [
    "plt_acc_loss(accuracy_stats, EPOCHS, 'Accuracy')"
   ]
  },
  {
   "attachments": {},
   "cell_type": "markdown",
   "id": "abc91600",
   "metadata": {
    "papermill": {
     "duration": 0.008235,
     "end_time": "2022-06-27T21:01:08.129310",
     "exception": false,
     "start_time": "2022-06-27T21:01:08.121075",
     "status": "completed"
    },
    "tags": []
   },
   "source": [
    "### 2.4- Testing"
   ]
  },
  {
   "cell_type": "code",
   "execution_count": 19,
   "id": "caec43f4",
   "metadata": {
    "execution": {
     "iopub.execute_input": "2022-06-27T21:01:08.147749Z",
     "iopub.status.busy": "2022-06-27T21:01:08.147463Z",
     "iopub.status.idle": "2022-06-27T21:02:32.164042Z",
     "shell.execute_reply": "2022-06-27T21:02:32.162984Z"
    },
    "papermill": {
     "duration": 84.037694,
     "end_time": "2022-06-27T21:02:32.175754",
     "exception": false,
     "start_time": "2022-06-27T21:01:08.138060",
     "status": "completed"
    },
    "tags": []
   },
   "outputs": [
    {
     "name": "stdout",
     "output_type": "stream",
     "text": [
      "\\Testing is completed!\n",
      "_____________________________\n",
      "Total Testing Time: 0.05 min\n"
     ]
    }
   ],
   "source": [
    "start_time = time.time()\n",
    "\n",
    "y_pred_list = []\n",
    "y_true_list = []\n",
    "model.eval()\n",
    "with torch.no_grad():\n",
    "    for X_batch, y_batch in test_loader:\n",
    "        X_batch_t, y_batch_t = X_batch.to(device), y_batch.to(device)\n",
    "        y_test_pred = model(X_batch_t)\n",
    "        y_test_pred = torch.sigmoid(y_test_pred)\n",
    "        y_pred_tag = torch.round(y_test_pred)\n",
    "        y_pred_list.append(y_pred_tag.cpu().numpy())\n",
    "        y_true_list.append(y_batch_t.cpu().numpy())\n",
    "\n",
    "y_pred_list = [a.squeeze().tolist() for a in y_pred_list]\n",
    "y_pred_list = [i[0] for i in y_pred_list]\n",
    "y_true_list = [i[0] for i in y_true_list]\n",
    "\n",
    "print('\\Testing is completed!')\n",
    "print('_____________________________')\n",
    "print(f'Total Testing Time: {(time.time() - start_time)/60:.2f} min')"
   ]
  },
  {
   "attachments": {},
   "cell_type": "markdown",
   "id": "93e8ce2a",
   "metadata": {
    "papermill": {
     "duration": 0.00827,
     "end_time": "2022-06-27T21:02:32.192520",
     "exception": false,
     "start_time": "2022-06-27T21:02:32.184250",
     "status": "completed"
    },
    "tags": []
   },
   "source": [
    "## **3- Classification Report**"
   ]
  },
  {
   "cell_type": "code",
   "execution_count": 20,
   "id": "cafe2a9d",
   "metadata": {
    "execution": {
     "iopub.execute_input": "2022-06-27T21:02:32.212307Z",
     "iopub.status.busy": "2022-06-27T21:02:32.210870Z",
     "iopub.status.idle": "2022-06-27T21:02:32.471775Z",
     "shell.execute_reply": "2022-06-27T21:02:32.470150Z"
    },
    "papermill": {
     "duration": 0.272417,
     "end_time": "2022-06-27T21:02:32.473772",
     "exception": false,
     "start_time": "2022-06-27T21:02:32.201355",
     "status": "completed"
    },
    "tags": []
   },
   "outputs": [
    {
     "name": "stdout",
     "output_type": "stream",
     "text": [
      "CLASSIFICATION REPORTS\n",
      "\n",
      "              precision    recall  f1-score   support\n",
      "\n",
      "         0.0       1.00      1.00      1.00      1493\n",
      "         1.0       1.00      1.00      1.00      1457\n",
      "\n",
      "    accuracy                           1.00      2950\n",
      "   macro avg       1.00      1.00      1.00      2950\n",
      "weighted avg       1.00      1.00      1.00      2950\n",
      "\n",
      "\n",
      "CONFUSION MATRIX\n",
      "\n",
      "[[1492    1]\n",
      " [   6 1451]]\n"
     ]
    },
    {
     "data": {
      "image/png": "[encoded data removed]",
      "text/plain": [
       "<Figure size 640x480 with 2 Axes>"
      ]
     },
     "metadata": {},
     "output_type": "display_data"
    },
    {
     "name": "stdout",
     "output_type": "stream",
     "text": [
      "\n",
      "MEAN SQUARE ERROR: 0.002\n"
     ]
    }
   ],
   "source": [
    "print('CLASSIFICATION REPORTS\\n')\n",
    "print(classification_report(y_true_list, y_pred_list))\n",
    "print('\\nCONFUSION MATRIX\\n')\n",
    "print(confusion_matrix(y_true_list, y_pred_list))\n",
    "cm=confusion_matrix(y_true_list, y_pred_list)\n",
    "sns.heatmap(cm,annot=True,fmt=\"d\",cmap=\"Blues\")\n",
    "plt.show()\n",
    "print(f'\\nMEAN SQUARE ERROR: {mean_squared_error(y_true_list, y_pred_list) :.3f}')"
   ]
  },
  {
   "cell_type": "code",
   "execution_count": 21,
   "id": "73e6fff8",
   "metadata": {
    "execution": {
     "iopub.execute_input": "2022-06-27T21:02:32.492339Z",
     "iopub.status.busy": "2022-06-27T21:02:32.492056Z",
     "iopub.status.idle": "2022-06-27T21:02:32.959465Z",
     "shell.execute_reply": "2022-06-27T21:02:32.958561Z"
    },
    "papermill": {
     "duration": 0.478954,
     "end_time": "2022-06-27T21:02:32.961454",
     "exception": false,
     "start_time": "2022-06-27T21:02:32.482500",
     "status": "completed"
    },
    "tags": []
   },
   "outputs": [
    {
     "data": {
      "text/plain": [
       "<matplotlib.colorbar.Colorbar at 0x20f0407ad70>"
      ]
     },
     "execution_count": 21,
     "metadata": {},
     "output_type": "execute_result"
    },
    {
     "data": {
      "image/png": "[encoded data removed]",
      "text/plain": [
       "<Figure size 400x600 with 3 Axes>"
      ]
     },
     "metadata": {},
     "output_type": "display_data"
    }
   ],
   "source": [
    "tensor_dict = {\n",
    "    'y_true': torch.FloatTensor(y_true_list[: 30]),\n",
    "    '$\\hat{y}$': torch.FloatTensor(y_pred_list[: 30])\n",
    "    }\n",
    "\n",
    "n = len(tensor_dict)\n",
    "vmax = max(v.abs().max() for v in tensor_dict.values())\n",
    "figsize = (2 * n, 6)\n",
    "fig, axes = plt.subplots(1, n, figsize=figsize, constrained_layout=True, squeeze=True)\n",
    "axes = axes.flat if isinstance(axes, np.ndarray) else (axes,)\n",
    "for (name, v), ax in zip(tensor_dict.items(), axes):\n",
    "    v = torch.squeeze(v.detach())\n",
    "    if v.ndim == 1:\n",
    "        v = v.view(-1, 1)\n",
    "    img = ax.matshow(v, vmin=-vmax, vmax=vmax, cmap=plt.get_cmap('bwr'))\n",
    "    ax.set_xticks([])\n",
    "    ax.set_yticks([])\n",
    "    ax.set_title(name)\n",
    "fig.colorbar(img, cax=fig.add_axes([0.985, 0.25, 0.03, .5]))"
   ]
  }
 ],
 "metadata": {
  "kernelspec": {
   "display_name": "Python 3",
   "language": "python",
   "name": "python3"
  },
  "language_info": {
   "codemirror_mode": {
    "name": "ipython",
    "version": 3
   },
   "file_extension": ".py",
   "mimetype": "text/x-python",
   "name": "python",
   "nbconvert_exporter": "python",
   "pygments_lexer": "ipython3",
   "version": "3.10.10"
  },
  "papermill": {
   "default_parameters": {},
   "duration": 869.267315,
   "end_time": "2022-06-27T21:02:34.093654",
   "environment_variables": {},
   "exception": null,
   "input_path": "__notebook__.ipynb",
   "output_path": "__notebook__.ipynb",
   "parameters": {},
   "start_time": "2022-06-27T20:48:04.826339",
   "version": "2.3.4"
  }
 },
 "nbformat": 4,
 "nbformat_minor": 5
}
