{
 "cells": [
  {
   "attachments": {},
   "cell_type": "markdown",
   "id": "af2bd477",
   "metadata": {
    "papermill": {
     "duration": 0.007537,
     "end_time": "2022-06-27T20:48:12.652408",
     "exception": false,
     "start_time": "2022-06-27T20:48:12.644871",
     "status": "completed"
    },
    "tags": []
   },
   "source": [
    "# **Credit Card Fraud Classification with Deep Learning (PyTorch)**"
   ]
  },
  {
   "attachments": {},
   "cell_type": "markdown",
   "id": "73216be7",
   "metadata": {
    "papermill": {
     "duration": 0.00622,
     "end_time": "2022-06-27T20:48:12.665167",
     "exception": false,
     "start_time": "2022-06-27T20:48:12.658947",
     "status": "completed"
    },
    "tags": []
   },
   "source": [
    "## **1- Data Preprocessing**"
   ]
  },
  {
   "attachments": {},
   "cell_type": "markdown",
   "id": "c8c537a3",
   "metadata": {
    "papermill": {
     "duration": 0.006722,
     "end_time": "2022-06-27T20:48:12.678351",
     "exception": false,
     "start_time": "2022-06-27T20:48:12.671629",
     "status": "completed"
    },
    "tags": []
   },
   "source": [
    "### 1.1-Importing Libraries"
   ]
  },
  {
   "cell_type": "code",
<<<<<<< HEAD
   "execution_count": 36,
=======
   "execution_count": 830,
>>>>>>> a98077fe5c8a8e4f2a56f42ac5c04d00fede971c
   "id": "40fbd051",
   "metadata": {
    "_cell_guid": "b1076dfc-b9ad-4769-8c92-a6c4dae69d19",
    "_uuid": "8f2839f25d086af736a60e9eeb907d3b93b6e0e5",
    "execution": {
     "iopub.execute_input": "2022-06-27T20:48:12.692433Z",
     "iopub.status.busy": "2022-06-27T20:48:12.691992Z",
     "iopub.status.idle": "2022-06-27T20:48:15.603254Z",
     "shell.execute_reply": "2022-06-27T20:48:15.599169Z"
    },
    "papermill": {
     "duration": 2.924516,
     "end_time": "2022-06-27T20:48:15.609060",
     "exception": false,
     "start_time": "2022-06-27T20:48:12.684544",
     "status": "completed"
    },
    "tags": []
   },
   "outputs": [
    {
     "name": "stdout",
     "output_type": "stream",
     "text": [
      "./card_transdata.csv\n",
      "./card_transdata.zip\n",
      "./credit-card-fraud-classification-with-pytorch.ipynb\n"
     ]
    }
   ],
   "source": [
    "# This Python 3 environment comes with many helpful analytics libraries installed\n",
    "# It is defined by the kaggle/python Docker image: https://github.com/kaggle/docker-python\n",
    "# For example, here's several helpful packages to load\n",
    "\n",
    "\n",
    "import os\n",
    "import time\n",
    "\n",
    "import pandas as pd\n",
    "import numpy as np\n",
    "import matplotlib.pyplot as plt\n",
    "\n",
    "import seaborn as sns\n",
    "from imblearn.over_sampling import SMOTE\n",
    "from collections import Counter\n",
    "\n",
    "from sklearn.svm import LinearSVC\n",
    "from sklearn.naive_bayes import GaussianNB\n",
    "from sklearn.neighbors import KNeighborsClassifier\n",
    "from sklearn.ensemble import RandomForestClassifier\n",
    "from sklearn.metrics import confusion_matrix, classification_report, accuracy_score, mean_squared_error, f1_score\n",
    "from sklearn.model_selection import train_test_split\n",
    "from sklearn.preprocessing import StandardScaler\n",
    "from sklearn.datasets import make_classification\n",
    "\n",
    "import torch\n",
    "from torch.nn import ReLU, Linear, BatchNorm1d, Dropout, Sequential, Module, BCEWithLogitsLoss\n",
    "import torch.optim as optim\n",
    "from torch.utils.data import Dataset, DataLoader\n",
    "\n",
    "# Input data files are available in the read-only \"../input/\" directory\n",
    "# For example, running this (by clicking run or pressing Shift+Enter) will list all files under the input directory\n",
    "\n",
    "import os\n",
    "for dirname, _, filenames in os.walk('./'):\n",
    "    for filename in filenames:\n",
    "        print(os.path.join(dirname, filename))\n",
    "\n",
    "# You can write up to 20GB to the current directory (/kaggle/working/) that gets preserved as output when you create a version using \"Save & Run All\" \n",
    "# You can also write temporary files to /kaggle/temp/, but they won't be saved outside of the current session"
   ]
  },
  {
   "attachments": {},
   "cell_type": "markdown",
   "id": "374aaf57",
   "metadata": {
    "papermill": {
     "duration": 0.013369,
     "end_time": "2022-06-27T20:48:15.638184",
     "exception": false,
     "start_time": "2022-06-27T20:48:15.624815",
     "status": "completed"
    },
    "tags": []
   },
   "source": [
    "### 1.2- Improting Dataset"
   ]
  },
  {
   "cell_type": "code",
<<<<<<< HEAD
   "execution_count": 37,
=======
   "execution_count": 831,
>>>>>>> a98077fe5c8a8e4f2a56f42ac5c04d00fede971c
   "id": "387e8a96",
   "metadata": {
    "execution": {
     "iopub.execute_input": "2022-06-27T20:48:15.659098Z",
     "iopub.status.busy": "2022-06-27T20:48:15.658215Z",
     "iopub.status.idle": "2022-06-27T20:48:17.567365Z",
     "shell.execute_reply": "2022-06-27T20:48:17.566465Z"
    },
    "papermill": {
     "duration": 1.921094,
     "end_time": "2022-06-27T20:48:17.569868",
     "exception": false,
     "start_time": "2022-06-27T20:48:15.648774",
     "status": "completed"
    },
    "tags": []
   },
   "outputs": [
    {
     "data": {
      "text/html": [
       "<div>\n",
       "<style scoped>\n",
       "    .dataframe tbody tr th:only-of-type {\n",
       "        vertical-align: middle;\n",
       "    }\n",
       "\n",
       "    .dataframe tbody tr th {\n",
       "        vertical-align: top;\n",
       "    }\n",
       "\n",
       "    .dataframe thead th {\n",
       "        text-align: right;\n",
       "    }\n",
       "</style>\n",
       "<table border=\"1\" class=\"dataframe\">\n",
       "  <thead>\n",
       "    <tr style=\"text-align: right;\">\n",
       "      <th></th>\n",
       "      <th>distance_from_home</th>\n",
       "      <th>distance_from_last_transaction</th>\n",
       "      <th>ratio_to_median_purchase_price</th>\n",
       "      <th>repeat_retailer</th>\n",
       "      <th>used_chip</th>\n",
       "      <th>used_pin_number</th>\n",
       "      <th>online_order</th>\n",
       "      <th>fraud</th>\n",
       "    </tr>\n",
       "  </thead>\n",
       "  <tbody>\n",
       "    <tr>\n",
       "      <th>0</th>\n",
       "      <td>57.877857</td>\n",
       "      <td>0.311140</td>\n",
       "      <td>1.945940</td>\n",
       "      <td>1.0</td>\n",
       "      <td>1.0</td>\n",
       "      <td>0.0</td>\n",
       "      <td>0.0</td>\n",
       "      <td>0.0</td>\n",
       "    </tr>\n",
       "    <tr>\n",
       "      <th>1</th>\n",
       "      <td>10.829943</td>\n",
       "      <td>0.175592</td>\n",
       "      <td>1.294219</td>\n",
       "      <td>1.0</td>\n",
       "      <td>0.0</td>\n",
       "      <td>0.0</td>\n",
       "      <td>0.0</td>\n",
       "      <td>0.0</td>\n",
       "    </tr>\n",
       "    <tr>\n",
       "      <th>2</th>\n",
       "      <td>5.091079</td>\n",
       "      <td>0.805153</td>\n",
       "      <td>0.427715</td>\n",
       "      <td>1.0</td>\n",
       "      <td>0.0</td>\n",
       "      <td>0.0</td>\n",
       "      <td>1.0</td>\n",
       "      <td>0.0</td>\n",
       "    </tr>\n",
       "    <tr>\n",
       "      <th>3</th>\n",
       "      <td>2.247564</td>\n",
       "      <td>5.600044</td>\n",
       "      <td>0.362663</td>\n",
       "      <td>1.0</td>\n",
       "      <td>1.0</td>\n",
       "      <td>0.0</td>\n",
       "      <td>1.0</td>\n",
       "      <td>0.0</td>\n",
       "    </tr>\n",
       "    <tr>\n",
       "      <th>4</th>\n",
       "      <td>44.190936</td>\n",
       "      <td>0.566486</td>\n",
       "      <td>2.222767</td>\n",
       "      <td>1.0</td>\n",
       "      <td>1.0</td>\n",
       "      <td>0.0</td>\n",
       "      <td>1.0</td>\n",
       "      <td>0.0</td>\n",
       "    </tr>\n",
       "    <tr>\n",
       "      <th>5</th>\n",
       "      <td>5.586408</td>\n",
       "      <td>13.261073</td>\n",
       "      <td>0.064768</td>\n",
       "      <td>1.0</td>\n",
       "      <td>0.0</td>\n",
       "      <td>0.0</td>\n",
       "      <td>0.0</td>\n",
       "      <td>0.0</td>\n",
       "    </tr>\n",
       "    <tr>\n",
       "      <th>6</th>\n",
       "      <td>3.724019</td>\n",
       "      <td>0.956838</td>\n",
       "      <td>0.278465</td>\n",
       "      <td>1.0</td>\n",
       "      <td>0.0</td>\n",
       "      <td>0.0</td>\n",
       "      <td>1.0</td>\n",
       "      <td>0.0</td>\n",
       "    </tr>\n",
       "    <tr>\n",
       "      <th>7</th>\n",
       "      <td>4.848247</td>\n",
       "      <td>0.320735</td>\n",
       "      <td>1.273050</td>\n",
       "      <td>1.0</td>\n",
       "      <td>0.0</td>\n",
       "      <td>1.0</td>\n",
       "      <td>0.0</td>\n",
       "      <td>0.0</td>\n",
       "    </tr>\n",
       "    <tr>\n",
       "      <th>8</th>\n",
       "      <td>0.876632</td>\n",
       "      <td>2.503609</td>\n",
       "      <td>1.516999</td>\n",
       "      <td>0.0</td>\n",
       "      <td>0.0</td>\n",
       "      <td>0.0</td>\n",
       "      <td>0.0</td>\n",
       "      <td>0.0</td>\n",
       "    </tr>\n",
       "    <tr>\n",
       "      <th>9</th>\n",
       "      <td>8.839047</td>\n",
       "      <td>2.970512</td>\n",
       "      <td>2.361683</td>\n",
       "      <td>1.0</td>\n",
       "      <td>0.0</td>\n",
       "      <td>0.0</td>\n",
       "      <td>1.0</td>\n",
       "      <td>0.0</td>\n",
       "    </tr>\n",
       "  </tbody>\n",
       "</table>\n",
       "</div>"
      ],
      "text/plain": [
       "   distance_from_home  distance_from_last_transaction  \\\n",
       "0           57.877857                        0.311140   \n",
       "1           10.829943                        0.175592   \n",
       "2            5.091079                        0.805153   \n",
       "3            2.247564                        5.600044   \n",
       "4           44.190936                        0.566486   \n",
       "5            5.586408                       13.261073   \n",
       "6            3.724019                        0.956838   \n",
       "7            4.848247                        0.320735   \n",
       "8            0.876632                        2.503609   \n",
       "9            8.839047                        2.970512   \n",
       "\n",
       "   ratio_to_median_purchase_price  repeat_retailer  used_chip  \\\n",
       "0                        1.945940              1.0        1.0   \n",
       "1                        1.294219              1.0        0.0   \n",
       "2                        0.427715              1.0        0.0   \n",
       "3                        0.362663              1.0        1.0   \n",
       "4                        2.222767              1.0        1.0   \n",
       "5                        0.064768              1.0        0.0   \n",
       "6                        0.278465              1.0        0.0   \n",
       "7                        1.273050              1.0        0.0   \n",
       "8                        1.516999              0.0        0.0   \n",
       "9                        2.361683              1.0        0.0   \n",
       "\n",
       "   used_pin_number  online_order  fraud  \n",
       "0              0.0           0.0    0.0  \n",
       "1              0.0           0.0    0.0  \n",
       "2              0.0           1.0    0.0  \n",
       "3              0.0           1.0    0.0  \n",
       "4              0.0           1.0    0.0  \n",
       "5              0.0           0.0    0.0  \n",
       "6              0.0           1.0    0.0  \n",
       "7              1.0           0.0    0.0  \n",
       "8              0.0           0.0    0.0  \n",
       "9              0.0           1.0    0.0  "
      ]
     },
<<<<<<< HEAD
     "execution_count": 37,
=======
     "execution_count": 831,
>>>>>>> a98077fe5c8a8e4f2a56f42ac5c04d00fede971c
     "metadata": {},
     "output_type": "execute_result"
    }
   ],
   "source": [
    "dataset = pd.read_csv('./card_transdata.csv')\n",
    "dataset = dataset.dropna()\n",
    "dataset.head(10)"
   ]
  },
  {
   "cell_type": "code",
<<<<<<< HEAD
   "execution_count": 38,
=======
   "execution_count": 832,
>>>>>>> a98077fe5c8a8e4f2a56f42ac5c04d00fede971c
   "id": "c79975cb",
   "metadata": {
    "execution": {
     "iopub.execute_input": "2022-06-27T20:48:17.585087Z",
     "iopub.status.busy": "2022-06-27T20:48:17.584819Z",
     "iopub.status.idle": "2022-06-27T20:48:17.616315Z",
     "shell.execute_reply": "2022-06-27T20:48:17.614655Z"
    },
    "papermill": {
     "duration": 0.041812,
     "end_time": "2022-06-27T20:48:17.618945",
     "exception": false,
     "start_time": "2022-06-27T20:48:17.577133",
     "status": "completed"
    },
    "tags": []
   },
   "outputs": [
    {
     "name": "stdout",
     "output_type": "stream",
     "text": [
      "<class 'pandas.core.frame.DataFrame'>\n",
      "RangeIndex: 1000000 entries, 0 to 999999\n",
      "Data columns (total 8 columns):\n",
      " #   Column                          Non-Null Count    Dtype  \n",
      "---  ------                          --------------    -----  \n",
      " 0   distance_from_home              1000000 non-null  float64\n",
      " 1   distance_from_last_transaction  1000000 non-null  float64\n",
      " 2   ratio_to_median_purchase_price  1000000 non-null  float64\n",
      " 3   repeat_retailer                 1000000 non-null  float64\n",
      " 4   used_chip                       1000000 non-null  float64\n",
      " 5   used_pin_number                 1000000 non-null  float64\n",
      " 6   online_order                    1000000 non-null  float64\n",
      " 7   fraud                           1000000 non-null  float64\n",
      "dtypes: float64(8)\n",
      "memory usage: 61.0 MB\n"
     ]
    }
   ],
   "source": [
    "dataset.info()"
   ]
  },
  {
   "cell_type": "code",
<<<<<<< HEAD
   "execution_count": 39,
   "id": "ece6424c",
   "metadata": {},
   "outputs": [
    {
     "data": {
      "text/html": [
       "<div>\n",
       "<style scoped>\n",
       "    .dataframe tbody tr th:only-of-type {\n",
       "        vertical-align: middle;\n",
       "    }\n",
       "\n",
       "    .dataframe tbody tr th {\n",
       "        vertical-align: top;\n",
       "    }\n",
       "\n",
       "    .dataframe thead th {\n",
       "        text-align: right;\n",
       "    }\n",
       "</style>\n",
       "<table border=\"1\" class=\"dataframe\">\n",
       "  <thead>\n",
       "    <tr style=\"text-align: right;\">\n",
       "      <th></th>\n",
       "      <th>distance_from_home</th>\n",
       "      <th>distance_from_last_transaction</th>\n",
       "      <th>ratio_to_median_purchase_price</th>\n",
       "      <th>repeat_retailer</th>\n",
       "      <th>used_chip</th>\n",
       "      <th>used_pin_number</th>\n",
       "      <th>online_order</th>\n",
       "      <th>fraud</th>\n",
       "    </tr>\n",
       "  </thead>\n",
       "  <tbody>\n",
       "    <tr>\n",
       "      <th>count</th>\n",
       "      <td>1000000.000000</td>\n",
       "      <td>1000000.000000</td>\n",
       "      <td>1000000.000000</td>\n",
       "      <td>1000000.000000</td>\n",
       "      <td>1000000.000000</td>\n",
       "      <td>1000000.000000</td>\n",
       "      <td>1000000.000000</td>\n",
       "      <td>1000000.000000</td>\n",
       "    </tr>\n",
       "    <tr>\n",
       "      <th>mean</th>\n",
       "      <td>26.628792</td>\n",
       "      <td>5.036519</td>\n",
       "      <td>1.824182</td>\n",
       "      <td>0.881536</td>\n",
       "      <td>0.350399</td>\n",
       "      <td>0.100608</td>\n",
       "      <td>0.650552</td>\n",
       "      <td>0.087403</td>\n",
       "    </tr>\n",
       "    <tr>\n",
       "      <th>std</th>\n",
       "      <td>65.390784</td>\n",
       "      <td>25.843093</td>\n",
       "      <td>2.799589</td>\n",
       "      <td>0.323157</td>\n",
       "      <td>0.477095</td>\n",
       "      <td>0.300809</td>\n",
       "      <td>0.476796</td>\n",
       "      <td>0.282425</td>\n",
       "    </tr>\n",
       "    <tr>\n",
       "      <th>min</th>\n",
       "      <td>0.004874</td>\n",
       "      <td>0.000118</td>\n",
       "      <td>0.004399</td>\n",
       "      <td>0.000000</td>\n",
       "      <td>0.000000</td>\n",
       "      <td>0.000000</td>\n",
       "      <td>0.000000</td>\n",
       "      <td>0.000000</td>\n",
       "    </tr>\n",
       "    <tr>\n",
       "      <th>25%</th>\n",
       "      <td>3.878008</td>\n",
       "      <td>0.296671</td>\n",
       "      <td>0.475673</td>\n",
       "      <td>1.000000</td>\n",
       "      <td>0.000000</td>\n",
       "      <td>0.000000</td>\n",
       "      <td>0.000000</td>\n",
       "      <td>0.000000</td>\n",
       "    </tr>\n",
       "    <tr>\n",
       "      <th>50%</th>\n",
       "      <td>9.967760</td>\n",
       "      <td>0.998650</td>\n",
       "      <td>0.997717</td>\n",
       "      <td>1.000000</td>\n",
       "      <td>0.000000</td>\n",
       "      <td>0.000000</td>\n",
       "      <td>1.000000</td>\n",
       "      <td>0.000000</td>\n",
       "    </tr>\n",
       "    <tr>\n",
       "      <th>75%</th>\n",
       "      <td>25.743985</td>\n",
       "      <td>3.355748</td>\n",
       "      <td>2.096370</td>\n",
       "      <td>1.000000</td>\n",
       "      <td>1.000000</td>\n",
       "      <td>0.000000</td>\n",
       "      <td>1.000000</td>\n",
       "      <td>0.000000</td>\n",
       "    </tr>\n",
       "    <tr>\n",
       "      <th>max</th>\n",
       "      <td>10632.723672</td>\n",
       "      <td>11851.104565</td>\n",
       "      <td>267.802942</td>\n",
       "      <td>1.000000</td>\n",
       "      <td>1.000000</td>\n",
       "      <td>1.000000</td>\n",
       "      <td>1.000000</td>\n",
       "      <td>1.000000</td>\n",
       "    </tr>\n",
       "  </tbody>\n",
       "</table>\n",
       "</div>"
      ],
      "text/plain": [
       "       distance_from_home  distance_from_last_transaction   \n",
       "count      1000000.000000                  1000000.000000  \\\n",
       "mean            26.628792                        5.036519   \n",
       "std             65.390784                       25.843093   \n",
       "min              0.004874                        0.000118   \n",
       "25%              3.878008                        0.296671   \n",
       "50%              9.967760                        0.998650   \n",
       "75%             25.743985                        3.355748   \n",
       "max          10632.723672                    11851.104565   \n",
       "\n",
       "       ratio_to_median_purchase_price  repeat_retailer       used_chip   \n",
       "count                  1000000.000000   1000000.000000  1000000.000000  \\\n",
       "mean                         1.824182         0.881536        0.350399   \n",
       "std                          2.799589         0.323157        0.477095   \n",
       "min                          0.004399         0.000000        0.000000   \n",
       "25%                          0.475673         1.000000        0.000000   \n",
       "50%                          0.997717         1.000000        0.000000   \n",
       "75%                          2.096370         1.000000        1.000000   \n",
       "max                        267.802942         1.000000        1.000000   \n",
       "\n",
       "       used_pin_number    online_order           fraud  \n",
       "count   1000000.000000  1000000.000000  1000000.000000  \n",
       "mean          0.100608        0.650552        0.087403  \n",
       "std           0.300809        0.476796        0.282425  \n",
       "min           0.000000        0.000000        0.000000  \n",
       "25%           0.000000        0.000000        0.000000  \n",
       "50%           0.000000        1.000000        0.000000  \n",
       "75%           0.000000        1.000000        0.000000  \n",
       "max           1.000000        1.000000        1.000000  "
      ]
     },
     "execution_count": 39,
     "metadata": {},
     "output_type": "execute_result"
    }
   ],
   "source": [
    "dataset.describe()"
   ]
  },
  {
   "cell_type": "code",
   "execution_count": 40,
=======
   "execution_count": 833,
>>>>>>> a98077fe5c8a8e4f2a56f42ac5c04d00fede971c
   "id": "428e7e86",
   "metadata": {
    "execution": {
     "iopub.execute_input": "2022-06-27T20:48:17.634855Z",
     "iopub.status.busy": "2022-06-27T20:48:17.634598Z",
     "iopub.status.idle": "2022-06-27T20:48:17.853006Z",
     "shell.execute_reply": "2022-06-27T20:48:17.851987Z"
    },
    "papermill": {
     "duration": 0.228141,
     "end_time": "2022-06-27T20:48:17.855064",
     "exception": false,
     "start_time": "2022-06-27T20:48:17.626923",
     "status": "completed"
    },
    "tags": []
   },
   "outputs": [
    {
     "data": {
      "text/plain": [
<<<<<<< HEAD
       "fraud\n",
       "0.0    912597\n",
       "1.0     87403\n",
       "Name: count, dtype: int64"
      ]
     },
     "execution_count": 40,
=======
       "<AxesSubplot:xlabel='fraud', ylabel='count'>"
      ]
     },
     "execution_count": 833,
>>>>>>> a98077fe5c8a8e4f2a56f42ac5c04d00fede971c
     "metadata": {},
     "output_type": "execute_result"
    },
    {
     "data": {
<<<<<<< HEAD
      "image/png": "iVBORw0KGgoAAAANSUhEUgAAAZkAAAGFCAYAAAAvsY4uAAAAOXRFWHRTb2Z0d2FyZQBNYXRwbG90bGliIHZlcnNpb24zLjcuMSwgaHR0cHM6Ly9tYXRwbG90bGliLm9yZy/bCgiHAAAACXBIWXMAAA9hAAAPYQGoP6dpAAAvlElEQVR4nO3dd3hUVeI+8HdKZia9kF6A0FsSioBBRAQUwYYNCyuiyLK4VkQRV1F/q9gWdXV1LYhiRVi/gGtBinTDRoRQE0hIQgKkh/RMpt3fHyi7QIBkMnfOvXfez/P4SIbJ5E0yzDvn3nPP0UmSJIGIiEgGetEBiIhIu1gyREQkG5YMERHJhiVDRESyYckQEZFsWDJERCQblgwREcmGJUNERLJhyRARkWxYMkREJBuWDBERyYYlQ0REsmHJEBGRbFgyREQkG5YMERHJhiVDRESyYckQEZFsWDJERCQblgwREcmGJUNERLJhyRARkWxYMkREJBuWDBERyYYlQ0REsmHJEBGRbFgyREQkG5YMERHJhiVDRESyYckQEZFsWDJERCQblgwREcmGJUNERLJhyRARkWxYMkREJBuWDBERyYYlQ0REsmHJEBGRbFgyREQkG5YMERHJhiVDRESyYckQEZFsWDJERCQblgwREcmGJUNERLJhyRARkWyMogMQKZnTJaG0zooGqwNNNgeabU40251osjnRbHOevM3uQrPNgSabE012J6y/3ceg1yHIbESAyYhAs+G0/wed8XGgyYgAswHhASYY9DrR3zaRx7BkyOfVNNlQVN2EouomFFc3//b/kx8fr2mGwyV5LYtRr0NMiAUJ4f5IDPdHYpg/EsMDkBjuj+SoQMSF+nstC5En6CRJ8t6/ICJBbA4XckrrsO9YHQqrGk+VSHF1E+qsDtHx2izAZEByZCC6RwWhW1QgukUFoV9cMLpHBUGn4wiIlIclQ5ojSRIOVzQgq7gWe47WYHdxDbJL62FzuERHk01YgB+GdA7HkK7huKhLBFITQ2HxM4iORcSSIfVzOF3Ye6wWmQXVyCyoxo4jJ1DbbBcdSyiTQY8BCSG4qGsEhnQJx0VdwtEpyCw6FvkglgypUk5pHdYdKENGfhV2FdWgyeYUHUnxkiMDTxXOpb2ikBDG8zskP5YMqYIkSdh9tBar95Xix/2lKKhsFB1J9dISQzEhJQ4TB8Shc6cA0XFIo1gypFhOl4TMgmr8uL8Ua/aX4nitVXQkzeofH4KJKXGYMCAW3aKCRMchDWHJkKLYHC5sO1yJH/eVYu2BMlQ12kRH8jm9Y4IxISUWE1Pi0CsmWHQcUjmWDAknSRI2HarAil3H8FNOOepVNKVY63pEB2HCgFhcnRqHPrEhouOQCrFkSJg6qx3LdxzFZ9uP8ByLCgzpEo67L+mKq/rHwmjgilTUNiwZ8rpDZfVY8nMhVuw6xllhKhQXasEfLu6C24d1RkSgSXQcUjiWDHmF0yVh7YFSfPxzIbbnV4uOQx5gNupxbVo87r6kK/rHh4qOQwrFkiFZVTfa8GVmET7ffoSzwzRsaNdwTBuRjKsGxHKBTzoNS4ZkceB4HRZtzce3e0o0vZwLnS4+1IIpF3fBHcM6I5yH0ggsGfKwI1WN+NuaQ/h2z3HwmeW7LH563HlxF9w3ugfLxsexZMgjyuuteHN9Lr76pRh2J59SdFKQ2YjpI5Nx76XJCLb4iY5DArBkqEPqrHa8t+kwFm8tRLOdM8WodeEBfph5WXdMG9GVq0P7GJYMucVqd+KTjEK8s/Ewapp8e8VjaruYEDMevaI3bh6SCD0nCPgElgy1i9Ml4V+/FuONdbko4WwxclPfuBA8dXVfXNIjUnQUkhlLhtps9b4SvPrjQRyu4NX55Blj+kTjyYl90COaa6RpFUuGLuhIVSOeXLEX2/KqREchDTLqdfjDxV3w+FW9EWAyio5DHsaSoXNyOF14b3M+3vopF1Y7r3UheSVF+OPlm1IxojsPoWkJS4ZatavoBOb9317klNaLjkI+RKcD7hjWGfMm9kWQmaMaLWDJ0GmabU68vDoHn2QUwsVnBgmSEHZyVDOyJ0c1aseSoVN2FFZjzvLdKKxqEh2FCABw+7AkPDmxLy/kVDGWDMFqd2LhmoP4cGsBRy+kOPGhFrx4Uyou6xUlOgq5gSXj47KKazBn+W7klTeIjkJ0XpMvSsRT1/RDCEc1qsKS8WHvbMzDwjWH4OTwhVQiLtSClziqURWWjA9qaHFgzrLdWL2/VHQUonbT64BHxvXC/WN6QKfj0jRKx5LxMYcrGjDz0195eIxUb3z/GLw2eSACOdVZ0VgyPmTN/lI8umw36lscoqMQeUTP6CC8P/UiJEcGio5C58CS8QEul4TX1h7C2xvzuJEYaU6wxYi/3zYQY/rEiI5CrWDJaFxtkx0PLt2FTYcqREchkg3P0ygXS0bDskvqMPPTX1FUzYsryTfwPI3ysGQ0alXWMTzx9V7uVkk+h+dplIUlo0Evfp+N9zbni45BJAzP0ygHS0ZDXC4JT67Yi6W/FIuOQiScXge8dGMqJg9NEh3Fp7FkNMLhdOGRZbvx793HRUchUgydDnj22v64a0RX0VF8FktGA1ocTvz5851Yl10uOgqRIs2b0AczL+suOoZPYsmoXJPNgRmf7ODWyEQX8NDYnnjkil6iY/gcloyK1TbbcfdHmdhZVCM6CpEqzBzVDfMm9hUdw6ewZFSqqqEFd36YiQMldaKjEKnK1PQueO66/rxo00tYMipUWmvFlEXbcbiiUXQUIlW6ZUgiXr4pFXo9i0ZuLBmVKapqwpQPt6O4ull0FCJVuzYtHq9PToPRoBcdRdNYMipSWNmIW9/PQFldi+goRJpwZb8Y/OOOwTAZWTRy4U9WJaoaWnDXR5ksGCIPWnOgDH/+Yid3h5URS0YFmm1O3LNkB45UcaFLIk9be6AMT63cJzqGZrFkFM7pkvDAlzuxu7hGdBQizfoyswivrz0kOoYmsWQUbv6qfbySn8gL/r4+F1/8p0h0DM1hySjY2xvy8Dmf9ERe8/SqfVizv1R0DE1hySjUyl3H8Lc1B0XHIPIpTpeEB5fuQhYPT3sMS0aBfs6rxOP/2gNOLifyPqvdhRmf7MDxGl6L5gksGYXJKa3DzM9+hc3pEh2FyGdV1Ldg+pIdaGxxiI6ieiwZBSmpbcbdH/2Ceiuf2ESiZZfU4aGlu+DiNTQdwpJRiGabE3d/9AtKaq2ioxDRb9Zll2PB99miY6gaS0Yh/rJyL3JK60XHIKIzLNpagFVZx0THUC2WjAJ89UsR/m8nn8RESvWXFftQxBU33MKSESy7pA7PfLNfdAwiOo+GFgceWLoLdk7IaTeWjEANLQ78+fOdsNr5xCVSut3FNXiNS8+0G0tGoCe+3oP8Sm48RqQW7206jG15laJjqApLRpBlvxTj2z0lomMQUTu4JOCRr7JQ3WgTHUU1WDICFFY24rl/8zwMkRqV17fgseW7RcdQDZaMlzmcLjz0VRYabU7RUYjITetzyvHxtgLRMVSBJeNlb6zL5d4wRBqw4IccZJfUiY6heCwZL8osqMY7G/NExyAiD7A5XHjgy11o5lGJ82LJeInV7sSc5bvBZZCItCOvvAH/71ueXz0floyXvLPxMIqqecUwkdZ8mVmM7flVomMoFkvGC45UNeK9TYdFxyAimTyzaj8cXA2gVSwZL3jmm/1ocfAJSKRVB8vqsSTjiOgYisSSkdnqfaXYeLBCdAwiktkbaw+hor5FdAzFYcnIqNnmxF+/PSA6BhF5QX2LAy/+wL1nzsSSkdFbP+XiGPcJJ/IZK3Ydw47CatExFIUlI5PDFQ1YtIVXBBP5EkkC5q/aDyevVTiFJSOTZ7/ZDxtnmxD5nAMldfj8P5wE8DuWjAy+21OCLblcDpzIVy1ccwhVDZwEALBkPK6xxcGT/UQ+rrbZjldWHxQdQxFYMh729oY8lNZZRccgIsGW/VqMLC6Gy5LxpBONNiz5uVB0DCJSAEkCj2qAJeNRH24t4D4xRHTKr0dOIOOwb69rxpLxkDqrHUsyCkXHICKFeXuDb2/vwZLxkI+3FaLe6hAdg4gUZmteJXYVnRAdQxiWjAc0tDiwmFuxEtE5+PJohiXjAZ9mHEFNk110DCJSqPU55T67VTNLpoOabU4s2pIvOgYRKZgk+e5ohiXTQZ//5wiqGm2iYxCRwn2/twT5FQ2iY3gdS6YDWhxOfMBRDBG1gUsC/rnR93bIZcl0wLJfilFWx/WJiKhtVmYd87ntP1gybrI7XXh3E0cxRNR2dqeE9zb51miGJeOmb7KO+9w7EiLquK9+KUZ5ve+sb8iScdNXvxSLjkBEKtTicOGzDN/Zb4Yl44aCykZkcotVInLTsh1HfWb3TJaMG5bv4CiGiNxXWmfFxoPlomN4BUumnZwuCf+385joGESkckt95JA7S6adNudWcFMyIuqwDTnlPjEBgCXTTjxURkSe4HBJWL7jqOgYsmPJtMOJRhvWHfCN46hEJD9feNPKkmmHlVnHYHO6RMcgIo0orGrS/F4zLJl2WOYDQ1si8q6Vu7Q9kUjRJfP222+ja9eusFgsGD58ODIzM897/+XLl6NPnz6wWCxISUnB999/77Es+47V+ux+EEQkn2/3lMCh4SMkii2Zr776CrNnz8YzzzyDnTt3Ii0tDePHj0d5eevnRH7++WfcfvvtmD59Onbt2oVJkyZh0qRJ2Ldvn0fy+MKxUyLyvqpGG7bkVoqOIRudJEmKvOx0+PDhGDp0KP7xj38AAFwuF5KSkvDAAw/giSeeOOv+t956KxobG/Htt9+euu3iiy/GwIED8e6773Yoi83hwrAF67j7JRHJ4vqB8fj7bYNEx5CFIkcyNpsNv/76K8aNG3fqNr1ej3HjxiEjI6PVz8nIyDjt/gAwfvz4c96/PbbnV7FgiEg2a/aXodnmFB1DFoosmcrKSjidTsTExJx2e0xMDEpLS1v9nNLS0nbdvz3WZ5d1+DGIiM6l2e7E9oIq0TFkociSUZqffGSNISISZ/OhCtERZKHIkomMjITBYEBZ2ekjiLKyMsTGxrb6ObGxse26f1sdKqtHcTX3jSEieWn15L8iS8ZkMmHIkCFYv379qdtcLhfWr1+P9PT0Vj8nPT39tPsDwNq1a895/7Zan81RDBHJL6+8ASW12ntDq8iSAYDZs2fjgw8+wJIlS5CdnY1Zs2ahsbERd999NwBg6tSpmDdv3qn7P/TQQ1i9ejUWLlyInJwcPPvss9ixYwfuv//+DuXg+Rgi8hYtHjIzig5wLrfeeisqKiowf/58lJaWYuDAgVi9evWpk/tFRUXQ6//bkSNGjMAXX3yBp556Ck8++SR69uyJlStXYsCAAW5nqG22Y1dxTUe/FSKiNtmcW4lbh3YWHcOjFHudjBKs3leKP332q+gYROQjwgL8sPOpK6DX60RH8RjFHi5Tgm152jwRR0TKVNNkx55jtaJjeBRL5jxYMkTkbVs0dl6GJXMOx2uakV/ZKDoGEfmYzbksGZ+wlaMYIhJgV1EN6q3aWcaKJXMO2w9rc4kHIlI2h0vCzxp6/WHJnMNejZ18IyL1yGDJaJvV7uT5GCIS5oCGNkhkybTiYGk9nC5ePkREYuSwZLRNS+8iiEh96qwOHKvRxjpmil1WRqQDx9VZMq6WJtRs+QxNuRlwNdXCFN0N4eP+CHNcLwBA08GfUZ/1A2yleXBZ6xE37U2YYrqd9zGbDv6M2u3LYD9RArgcMIbHI2ToDQgaMMYb3xKRz8opqUNCmL/oGB3GkmmFWkcyVavfgr3iCCKveRSGoAg07t+AsqVPIf7ed2AMjoTLboU5sR8C+oxE9eq32vSYev8ghKZPhl9EEmAwovlwJqq+fwOGgFD4dxsi83dE5LuyS+owtm/Mhe+ocCyZM0iSpMrjoS57C5oObkPUTU/DknRyUdCwkVPQnJeJ+l0/IHzUnadGH47atq8sbemcetrHfhddj8Z9P6Hl6AGWDJGMskvrRUfwCJ6TOUNhVRMa1bjXtssJSC7oDH6n3awzmtFydL9HvoQkSWguzIK9+ijMSe6vbk1EF5atwje7reFI5gxqPR+jNwfAHN8HtT8vhV+nJBgCw9CYvRktx3NgDI/r0GO7Whpx9O27IDntgE6PTlfOgn/yIA8lJ6LWHKlqgtXuhMXPIDpKh7BkznCgRL0XYXa65lFU/fB3HHvnLkCnhym2OwL7jkJLaV6HHldn8kfc3W9CsllhPZKF6p8+hDEs9qxDaUTkOU6XhENl9UhNDBMdpUNYMmdQ60gGAPzC4xB7x0tw2axw2ZpgDIpAxaqX4RcW26HH1en08AuPBwCYYrrBXnUUtRnLWTJEMssuqVN9yfCczBmyS9R/sk1vssAYFAGntQHNBTvh3/Nijz6+JLlOHjojIllp4fWII5n/UdtkR2mdVXQMtzXnn9zF0xiRAMeJEpzYuBh+EYkIShkHAHA218NZVwFnw8l1kezVRwEAhsBwGILCAQCV3y6EIbgTwi+bBgCozVgGU2zPk+d1HHY05/+Cxv0bEHHlfV7+7oh8jxZO/rNk/sfxWnVfYetqaULN5iVw1FfCYAlGQO8RCBs1FTrDyV9zc95/UPX9G6fuX/nNKwCA0EtuR9jIKQAAR10FoPvvANdlb0H12nfgrK+CzmiCX0QiIq95FIF9R3nvGyPyUXnlDaIjdJhOkiQu0vWbzYcqMHVxpugYREQAAJ0OyH1+AowG9Z7ZUG9yGZTXt4iOQER0iiQB1Y020TE6xK2SGTNmDGpqas66va6uDmPGqHdNqwqWDBEpTEWDul+X3CqZjRs3wmY7u12tViu2bNnS4VCisGSISGkqG9Q9kmnXif89e/ac+vOBAwdQWlp66mOn04nVq1cjISHBc+m8rLxevTPLiEibKlX+5rddJTNw4EDodDrodLpWD4v5+/vjrbfatrqvEnEkQ0RKU6nyw2XtKpmCggJIkoRu3bohMzMTUVFRp/7OZDIhOjoaBoN619lhyRCR0vhUyXTp0gUA4HK5ZAkjGkuGiJTGp87J/K/c3Fxs2LAB5eXlZ5XO/PnzOxzM25ptTtS3OETHICI6jU+NZH73wQcfYNasWYiMjERsbCx0Ot2pv9PpdKosGY5iiEiJ1P7a5FbJPP/883jhhRcwd+5cT+cRhjPLiEiJ1H64zK3rZE6cOIFbbrnF01mEUvuQlIi0qbqxBU6Xelf/cqtkbrnlFqxZs8bTWYRqcWhzMgMRqZtLAmqa1DuacetwWY8ePfD0009j+/btSElJgZ/f6fvKP/jggx4J501cJpSIlMrmVO+bYLdWYU5OTj73A+p0yM/P71AoEVbsOopHvtotOgYR0Vm2PH45kiICRMdwi1sjmYKCAk/nEE6jl/4QkQa4VHyohUv9/0a9v0Ii0jqHik/8uzWSueeee87794sXL3YrjEhqfqdARNqm5tllbpXMiRMnTvvYbrdj3759qKmpUe1+MtwglIiUyuFU7+uTWyWzYsWKs25zuVyYNWsWunfv3uFQIrBjyJMuCq3Hm5ErEG49KjoKaYBevxhAiOgYbnFrdtm5HDx4EKNHj0ZJSYmnHtJrvvhPEZ5csVd0DNKQUD8HPui6CUOPfwqdU73XOZACzPoZiOkvOoVbPHri//Dhw3A41LnIpMRT/+RhtXYjJueOxV3mN1ATO0J0HFIznXq3UHHrcNns2bNP+1iSJJSUlOC7777DXXfd5ZFg3qbi82qkcJurwzCw+n48mzwWd9a9D0NjmehIpDZ6HyuZXbt2nfaxXq9HVFQUFi5ceMGZZ4rFkzIks2cL+uJd88tY3PlH9D26DDrJKToSqYVOvVebuFUyGzZs8HQO4Vgx5A2lLSZMzL0W18cMxwLTxwisyBIdidTAYBKdwG0dqseKigps3boVW7duRUVFhacyCWE2qvedAqnPqrJopB6dg1UJcyCZQ0XHIaXzDxOdwG1uvbI2NjbinnvuQVxcHEaNGoVRo0YhPj4e06dPR1NTk6czekWov3rfKZA6OSU9Hjo8GFc6XsORxOtExyGl0hsBc7DoFG5zq2Rmz56NTZs24d///jdqampQU1ODVatWYdOmTXj00Uc9ndErwgL8LnwnIhnkNvrjsrzb8EzEq2gJ7yU6DimNJUx0gg5x6zqZyMhI/Otf/8Lo0aNPu33Dhg2YPHmyKg+dZZfUYcLft4iOQT7O3+DEO922Y3TpR9DZ1XlUgDysU0/ggR2iU7jNrZFMU1MTYmJizro9OjpatYfLOJIhJWh2GnB37iW4Sf86yuPHio5DSqDi8zGAmyWTnp6OZ555Blar9dRtzc3NeO6555Cenu6xcN4UxnMypCA7a4MxLH863or5KxzBiaLjkEj+4aITdIhbh8v27t2Lq666Ci0tLUhLSwMA7N69G2azGWvWrEH//upc/qD3Uz9wG2ZSnHA/BxZ13YDBxz6DzmUXHYe8LfVW4Mb3Radwm9trlzU1NeHzzz9HTk4OAKBv376YMmUK/P39PRrQmy556Sccq2kWHYOoVWM6ncDrQZ8itGy76CjkTcNmAhNfEZ3CbW5djPniiy8iJiYGM2bMOO32xYsXo6KiAnPnzvVIOG+LCTGzZEixfqoKR1rVg3i+21jcUfMe9E2VoiORN6j8cJlb52Tee+899OnT56zb+/fvj3fffbfDoUSJDraIjkB0QU/l98elTa/iYNJkSCpeboTaKDBSdIIOcesZWlpairi4uLNuj4qKUuUy/7+LDjGLjkDUJsesZozPnYQ5IQvRFJkiOg7JKbyr6AQd4lbJJCUlYdu2bWfdvm3bNsTHx3c4lCjRwSwZUpevy2KQcmwuvk18BJJZnZta0QWEJ4tO0CFunZOZMWMGHn74Ydjt9lPbLa9fvx6PP/64aq/4B4DoEB4uI/VxSnrcnzcU/wjqjw8SVyDp6HeiI5Gn6AxAWGfRKTrErZJ57LHHUFVVhfvuuw8228kd/ywWC+bOnYt58+Z5NKA3JYard2YcUU5DAC7Nm4I/Jl6KOY4PYKo5LDpSmzldEp7d2ILP9tpR2iAhPliHaWkmPDXKBJ1O1+rnTFvZjCW7z57S3S9Kj/33Bckd2TtCEwCjuq/h69D2yw0NDcjOzoa/vz969uwJs1ndh5uqGlow5Pl1omMQdVigwYV3u23FyJIl0DmUP2NywZYWvJZhw5JJFvSPNmDHcSfuXtWMF8aY8eDw1l9Xaq0Smh3/fflyuIC0dxvxwDA/PDtaI0clki8D7vpGdIoOcWsk87ugoCAMHTrUU1mE6xRkRmSQGZUNLaKjEHVIo1OPO3NHYVjYQLwTvRSRxzeKjnRePxc7cX1vI67udXJ5p65heny5z47MY+e+ODrUokMo/jvKWZljx4lmCXcPVPc7/9NEqPt8DNDB/WS0qE+sepfUJjpTZk0ILsr/I/4Z8xwcwQmi45zTiCQD1hc4cKjq5G6hu0ud2FrkxIQebX8f/OEuO8Z1M6BLmIZe1iK6iU7QYR0ayWhR79hgbM3jRW6kLS8f6YlFpgVY3GUdUo99CZ3LITrSaZ4YaUJdi4Q+/2iEQQ84XcALY8yYktq2hWuP17vwQ64DX9yksfOqKp9ZBrBkztKbIxnSqCqbH67PnYArI4djYcDHCC5XzvLxy/Y78PleO764yR/9o/TIKnXi4R9bEB+sw11tOPy1JMuOMIsOk/po7CWNh8u0h4fLSOvWVEYgtfgRLI2fB5d/J9FxAACPrbXiiUvMuG2AH1JiDLgzzYRHLjbhxa22C36uJElYnGXHnal+MBlan4mmSjq9Jg6XsWTO0DM6GHoNPU+JWiNJOjyRn4LR1leRl3QTJIh90jfZcda/O4MOcLVh7uumI07kVbswfbDG9oSK7AWYAkWn6DCWzBn8TQZ0jggQHYPIK4qaLRiXexOeCF+I5k7itui4tpcRL2xpwXeH7CiscWFFth2vbbfhhv85/DVvnRVTV5w9HfvDXXYMTzBgQLTBm5HlFz9YdAKPYMm0gudlyNd8VRKL1JIn8WPiQ5BM3r+Q8a0JFtzczw/3fW9F37cbMGetFTOH+OGvY/57jUxJg4Si2tOnNNdaJXx9wI7pgzQ2igGABG2UTIcuxtSq19Yewpvrc0XHIBKif3AjPoj+GvHHVouO4ttm/AQkDBGdosM4kmkFT/6TL9tfH4gRh6fi5agFsIeqf3aTKhlMQIw2VtdmybSCh8uIgH8Wd8XAqv+HjKQ/QjKoe8ko1YkZoPo1y37HkmlFcqdABFs0Nt+eyA2NDgNuzx2NP5jeQHXsSNFxfIcGDpP9jiXTCr1eh/Ruyrh+gEgJtp0IxeDC+7Ao9hk4A2NFx9E+jZz0B1gy53RpT3VveUokh+cLeyO94WXsTZoCSaexKcNKwpGM9o3sGSU6ApEilbf44drcq/HnoNfREKWdd9yKYQkFOvUUncJjWDLnkBwZiIQwjS22R+RB31dEIuXoo/g64TG4LOGi42hH8ihAr52XZu18JzLgITOi85MkHR49PAjjbAtRkDRJ+PI0mtB9jOgEHsWSOY+RLBmiNslvsuDy3MmYH/EKWiJ6i46jbt0uF53Ao1gy53FJ90gulknUDp8eT0Bq6dNYl3g/JA0s7uh14V07tLz/5s2bce211yI+Ph46nQ4rV6684Ods3LgRgwcPhtlsRo8ePfDxxx+7/fVbw5I5j/BAE/rHh4qOQaQqLS497s0bgevxOkoTrhAdR106eKissbERaWlpePvtt9t0/4KCAlx99dW4/PLLkZWVhYcffhj33nsvfvzxxw7l+F9cu+wCXl6dg39uPCw6BpFqPdQ5Hw9Y34exrkh0FOW7/Sug91UeeSidTocVK1Zg0qRJ57zP3Llz8d1332Hfvn2nbrvttttQU1OD1as9s3YdRzIXcGkPnpch6oi/F3XDkBPPIzNpOiSDNpZKkYXRH+h2mVe/ZEZGBsaNG3fabePHj0dGRobHvgZL5gKGdA2HxY8/JqKOqLUbMTl3LO4yv4Ga2BGi4yhT8qWAn3cvmygtLUVMTMxpt8XExKCurg7NzWfv3eMOvnpegNlowLBkLjFD5Ambq8MwsPB+fBz3NJyB0aLjKEvPK0UnkAVLpg3G94+58J2IqM2eLeiLkY2vIDvpNi5PAwA6PdDnaq9/2djYWJSVlZ12W1lZGUJCQuDv75lRFUumDa5JjYfJyB8VkSeVWE2YkHsdHg5ZiKbINNFxxOpyCRAS7/Uvm56ejvXr159229q1a5Genu6xr8FXzjYI9ffDFX05miGSw6qyaKQcewyrEuZAMvvoJQOpt3rkYRoaGpCVlYWsrCwAJ6coZ2Vloajo5My+efPmYerUqafu/6c//Qn5+fl4/PHHkZOTg3feeQfLli3DI4884pE8AEumzW4cnCA6ApFmOSU9Hjo8GFc6XsORxOtEx/EuowXo55nveceOHRg0aBAGDRoEAJg9ezYGDRqE+fPnAwBKSkpOFQ4AJCcn47vvvsPatWuRlpaGhQsXYtGiRRg/frxH8gC8TqbNHE4XLn5xPSobbKKjEGnetPijmCctgvnEIdFR5NfvemDyJ6JTyIYjmTYyGvS4Ns37x0yJfNHHxxMxsPxpbEy6D5JfgOg48kqZLDqBrFgy7XDT4ETREYh8RrPTgGm5I3GT/nWUx48VHUceljDNTl3+HUumHQYkhKJ3TLDoGEQ+ZWdtMIblT8db0X+FI1hjb/T6TwKM2l4FgSXTTjdwAgCREAuLumNozQLs7DwNkt5PdBzP8NCsMiVjybTTDYMSYOD6/0RCnLAbceOhK3Gv/+uoixkuOk7HhHYGOnvuehSlYsm0U0yIBSO6c5kZIpHWV0Ug9chD+Dz+SbgCVLqI7dB7AJ3237CyZNzACQBEyvCX/AG4tOlVHEyaDEmnopczvwBgyDTRKbxCRb8V5RjfPxah/ho5JkykcsesZozPnYTHQheiOXKA6Dhtk3Yb4B8uOoVXsGTc4G8y4I7hnUXHIKL/8a/SGKQen4fvEx+GZA4RHec8dMDwWaJDeA1Lxk13j+gKk4E/PiIlsbt0uC9vGCY4X8PRRO+vatwmPcYCUb1Ep/Aavkq6KTrEgkmDuAIAkRLlNARgZN4ULIh8Cbaw7qLjnM6HRjEAS6ZDZlzazRcmhxCp1vtHO2NQxXPYmjQTktG7u062KrL3yZGMD2HJdEDPmGBc3pu7+xEpWaNTjz/kXoZbja+jKu4ysWGGz/SJacv/iyXTQTNHdRMdgYjaILMmBEMKZuLdmGfhDBJwqNs/HEi73ftfVzCWTAcN79YJw5IjRMcgojZ66UgvXFz3InZ3vhOS3ui9Lzx8FmDS+IrSrWDJeMCDY3qKjkBE7VBh88P1hyZgZsAbqI++SP4vGNAJSL9P/q+jQCwZDxjZMxJDuvjGhVVEWrKmMgKpxY/gq/gn4PKXcbmokY8AZt9cwZ0l4yEPjOkhOgIRuUGSdJibn4rR1leRl3QTJHj4xHxwPDB0hmcfU0VYMh4yunc00pLCRMcgIjcVNVswLvcmzAv/G6yd+nnugUfNAfwsnns8lWHJeNDsK3znKl4irVpaEoeUkr/gx8SHIJmCOvZg4V2BwVM9kkutWDIedFmvKIztw+tmiNTO7tJhZt5wXCe9juMJV7n/QKPnAQbfXkxXJ0mSJDqElhypasQVr2+GzeESHYWIPOTPSYV42PYB/GoL2v5JUX2BWT8Det9+L+/b370MunQKxIxLk0XHICIPeru4KwZXPYftSTMgGcxt+6TLn/T5ggE4kpFFk82BsQs3oaTWKjoKEXnYJeG1eCv0c0SUbj33nTqPAO75wXuhFIw1K4MAkxHzJvYVHYOIZLDtRCgGF96HD2PnwxkYe/YddAZg4qveD6ZQLBmZXJcWz+VmiDTsr4V9kN7wMvYlTYGkM/z3L4beC8SqZIdOL+DhMhlll9Thmre2wunij5hIy66JqsRLlo8Q1HQUeOBXwBIqOpJisGRkNn/VPnyScUR0DCKSmU4n4d+3x2NA6mDRURSFh8tk9ugVvREe4Nvz5Il8QXq3SBZMK1gyMgsN8MOc8b1FxyAiGZmNeiy4IUV0DEViyXjB7UM7Y0BCiOgYRCSTB8f2RNfIQNExFIkl4wV6vQ4LbxkIs5E/biKt6RMbjD9yh9xz4quel/SODca8CX1ExyAiD9LrgAU3psDPwJfSc+FPxoumXZKMMVxAk0gzZo3ujsGduWHh+bBkvOzVm1MRGdTGtY+ISLGGdg3H7Cs4qedCWDJe1inIjL/dkgqdhzffIyLvCQ/ww5u3D4JBz3/IF8KSEWB072hMG9FVdAwicoNOB7w2eSDiQv1FR1EFlowgT0zog75xnNZMpDb3jkzG5Ty32mYsGUHMRgPevG0gLH78FRCpxcCkMDx+FWeJtgdf4QTqGROMv3BLACJVCLEY8dbtgzhduZ340xLszvSuGNc3RnQMIrqAV25OQ1JEgOgYqsOSUYBXbk5FXKhFdAwiOoe70rvgqgGtbFBGF8SSUYCIQBMWTxuKILNRdBQiOsOAhBA8eTUPa7uLJaMQfeNC8NYdnHdPpCQhFiP+cftgmI2GC9+ZWsWSUZDLe0fj2ev6i45BRABMRj0W3TWUqyt3EEtGYe68uAvuHZksOgaRT9PrgDduHYhhyRGio6geS0aBnpzYF1f150lGIlHmX9MPE1PiRMfQBJaMAun1Orxx20CkJYWJjkLkc2Ze1g3TLuHRBE9hySiUxc+ARVMvQmI410ci8pYbBiXgCV7R71EsGQWLCjbjo2lDEWzh1GYiuY3sEYlXbk6FjkukexRLRuF6xgTj3T8MgZ+BT3wiufSLC8G7dw7hkjEy4E9UBS7pEYkFN6RwDxoiGSSG++Pje3gxtFxYMipxy0VJeH7SABYNkQeFB/hhyT3DEB3MZZ3kwpJRkSnDu7BoiDwk2GzEh9OGontUkOgomsbxocpMGd4FAPDUyn2QJMFhiFQqItCET+4ZhgEJoaKjaB5LRoVYNETuiwu14NPpw9EjmiMYb9BJEl+m1GppZhGeXLEXLv4Gidqka6cAfHbvcCSGc18Yb2HJqNw3u4/j0WVZsDv5ayQ6nz6xwfhkOk/yextLRgN+yinDrM92osXhEh2FSJEGdQ7Dx9OGITTAT3QUn8OS0YiMw1WY8ckONLQ4REchUpSRPSLx/tQhCDDxFLQILBkN2V1cg2kfZeJEk110FCJFuLJfDN66YxA3HROIJaMxRVVNmPHJDhwsqxcdhUioGwcn4NWb07jbrGAsGQ1qbHFg9rIs/Li/THQUIiHuHZmMv1zdl4tdKgBLRqMkScKb6/PwxvpDvJaGfIbZqMcLN6Tg5iGJoqPQb1gyGrdmfylmL9vNCQGkeXGhFrz7hyHc7E9hWDI+ILesHjM+2YHCqibRUYhkcVGXcPzzD0MQFWwWHYXOwJLxEbVNdjywdBc2H6oQHYXIo6YM74xnr+vPvWAUiiXjQ5wuCS+vzsH7m/NFRyHqsACTAQtuSMGkQQmio9B5sGR80KqsY5j79R5Y7VwhgNSpV0wQ3pkyGD2ig0VHoQtgyfio7JI6zF62G9kldaKjELXLjYMT8MKkFPibeIGlGrBkfJjd6cKb63Pxz42H4eBSzqRwASYDnrm2H24d2ll0FGoHlgxh79FazFm+m6sEkGJd2jMSC25IQVIEl+hXG5YMAQBsDhfeWHcI723Oh5OjGlKIsAA/PHV1P15cqWIsGTrN7uIaPLp8N/LKG0RHIR93dUocnr2uP699UTmWDJ2lxeHEa2sPYdGWAo5qyOtiQsz46/UDcGX/WNFRyANYMnROO4tOYM7y3civaBQdhXyATgfcNjQJ8yb2RYiFm4tpBUuGzstqd+KNdblYvK0ANu68STLp2ikAL96YivTunURHIQ9jyVCbFFc34dUfD+Lfe45zVWfyGKNeh3tGJmP2Fb1g8eN1L1rEkqF22XO0Bgu+z8b2/GrRUUjFdLqTJ/ZnX9EL3aKCRMchGbFkyC0/5ZThpR9ycKiMs9CofS7vHYU543ujf3yo6CjkBSwZcpvTJWH5jmK8vu4QyupaRMchhRvaNRyPje+DYckRoqOQF7FkqMOabU4s2pKP9zbnc3M0Oku/uBA8dlVvXN47WnQUEoAlQx5T2dCCv6/LxZeZRVwLjdAtMhCzr+yFq1PioNPpRMchQVgy5HHHa5qxeGsBlv5SzJGND4oPteDBsT1x85BEGLmRmM9jyZBs6qx2fPGfIny8rRCldVbRcUhmgzqHYWp6F0xMiYPZyOnIdBJLhmRnd7rwTdZxLNpawP1rNMbfz4Dr0uJxZ3oXDEjgbDE6G0uGvGpHYTU+yTiCH/aVwO7kU0+tkiMDMWV4Z9xyURJC/bkEDJ0bS4aEKK+3YmlmMb74TxEPpamEQa/D5b2jMTW9Cy7tGcmT+dQmLBkSyuF0YcPBCny35zjWZZdzooACdQo04dahSZhycRckhPmLjkMqw5IhxbDandh8qALf7S3BehaOUMFmI8b2jcbElDhc1juKJ/LJbSwZUiSr3YlNhyrwPQvHa4ItRlzRNwYTUuIwqlcki4U8giVDisfCkU98qAWX94nGuL4xuKRHJExGXtdCnsWSIVX5vXC25FZgR+EJHCyr59YD7aDXAamJYRjbJxpj+8agX3yI6EikcSwZUrXaJjt2HKnGL4Un8EthNfYerYXNyc3VfhdoMiAlMRSDOodjUFIYhnQJR6cgs+hY5ENYMqQpVrsTu4tr8EthNTILT2DXkROo95HDazod0D0qCAOTwjCocxgGJYWjd2wwDHpONSZxWDKkaU6XhOySOuworMah8gYUVjaisLIRJXVW1R9mCw/wQ1rSyTIZ1DkMaUlhvDCSFIclQz7JaneiqLoJBb+VTmFV429/bkJZvTIKKMhsRGK4/2//BSAx3B9JEQGnPmahkBqwZIjO0GxzorDqZPlUNLSgpsmO2mb7qf/XNttQ1+xAk92BZpsLVrsTzXYnnGdsb6DTARajARY/PSx+Bvj7GWD2++1jowH+pv/+OdhiREK4P5LCA04VSnigSdBPgMhzWDJEHmJzuNBsdwISYP6tWIh8HUuGiIhkwyuviIhINiwZIiKSDUuGiIhkw5IhIiLZsGSIiEg2LBkiIpINS4aIiGTDkiEiItmwZIiISDYsGSIikg1LhoiIZMOSISIi2bBkiIhINiwZIiKSDUuGiIhkw5IhIiLZsGSIiEg2LBkiIpINS4aIiGTDkiEiItmwZIiISDYsGSIikg1LhoiIZMOSISIi2bBkiIhINiwZIiKSDUuGiIhkw5IhIiLZsGSIiEg2LBkiIpINS4aIiGTDkiEiItmwZIiISDYsGSIikg1LhoiIZMOSISIi2bBkiIhINiwZIiKSDUuGiIhkw5IhIiLZsGSIiEg2LBkiIpINS4aIiGTDkiEiItmwZIiISDb/H6nh2DsC2HWyAAAAAElFTkSuQmCC",
=======
      "image/png": "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",
>>>>>>> a98077fe5c8a8e4f2a56f42ac5c04d00fede971c
      "text/plain": [
       "<Figure size 432x288 with 1 Axes>"
      ]
     },
     "metadata": {},
     "output_type": "display_data"
    }
   ],
   "source": [
    "dataset.value_counts(\"fraud\").plot.pie(autopct = \"%.1f\")\n",
    "dataset.value_counts(\"fraud\")"
   ]
  },
  {
   "attachments": {},
   "cell_type": "markdown",
   "id": "5f3a3ea6",
   "metadata": {
    "papermill": {
     "duration": 0.013916,
     "end_time": "2022-06-27T20:48:17.882449",
     "exception": false,
     "start_time": "2022-06-27T20:48:17.868533",
     "status": "completed"
    },
    "tags": []
   },
   "source": [
    "`As it indicates, dataset is utterly imbalanced`"
   ]
  },
  {
   "attachments": {},
   "cell_type": "markdown",
   "id": "8347eefd",
   "metadata": {
    "papermill": {
     "duration": 0.007081,
     "end_time": "2022-06-27T20:48:17.897996",
     "exception": false,
     "start_time": "2022-06-27T20:48:17.890915",
     "status": "completed"
    },
    "tags": []
   },
   "source": [
    "We choose all columns as our matrix of features except the last one, which is 'y' column."
   ]
  },
  {
   "cell_type": "code",
<<<<<<< HEAD
   "execution_count": 41,
=======
   "execution_count": 834,
>>>>>>> a98077fe5c8a8e4f2a56f42ac5c04d00fede971c
   "id": "9daadbbc",
   "metadata": {},
   "outputs": [],
   "source": [
<<<<<<< HEAD
    "X = dataset.iloc[:, : -1].values\n",
    "y = dataset.iloc[:, -1].values"
=======
    "real = dataset[dataset[\"fraud\"]==0]\n",
    "fraud = dataset[dataset[\"fraud\"]==1]\n",
    "\n",
    "real_resample = real.sample(n=87403, random_state=42) #87403\n",
    "fraud_resample = fraud.sample(n = 87403, random_state=42) #87403\n",
    "\n",
    "dataset = pd.concat([real_resample, fraud_resample], axis = 0)"
   ]
  },
  {
   "cell_type": "code",
   "execution_count": 835,
   "id": "0ccf2c31",
   "metadata": {
    "execution": {
     "iopub.execute_input": "2022-06-27T20:48:17.914802Z",
     "iopub.status.busy": "2022-06-27T20:48:17.914163Z",
     "iopub.status.idle": "2022-06-27T20:48:17.919526Z",
     "shell.execute_reply": "2022-06-27T20:48:17.918469Z"
    },
    "papermill": {
     "duration": 0.016095,
     "end_time": "2022-06-27T20:48:17.921467",
     "exception": false,
     "start_time": "2022-06-27T20:48:17.905372",
     "status": "completed"
    },
    "tags": []
   },
   "outputs": [],
   "source": [
    "X = fraud.iloc[:, :-1].values\n",
    "y = real.iloc[:, -1].values"
>>>>>>> a98077fe5c8a8e4f2a56f42ac5c04d00fede971c
   ]
  },
  {
   "cell_type": "code",
<<<<<<< HEAD
   "execution_count": 42,
=======
   "execution_count": 836,
>>>>>>> a98077fe5c8a8e4f2a56f42ac5c04d00fede971c
   "id": "276b4a4c",
   "metadata": {
    "execution": {
     "iopub.execute_input": "2022-06-27T20:48:17.937898Z",
     "iopub.status.busy": "2022-06-27T20:48:17.936471Z",
     "iopub.status.idle": "2022-06-27T20:48:17.951083Z",
     "shell.execute_reply": "2022-06-27T20:48:17.949725Z"
    },
    "papermill": {
     "duration": 0.024616,
     "end_time": "2022-06-27T20:48:17.953105",
     "exception": false,
     "start_time": "2022-06-27T20:48:17.928489",
     "status": "completed"
    },
    "tags": []
   },
   "outputs": [
    {
     "name": "stdout",
     "output_type": "stream",
     "text": [
<<<<<<< HEAD
      "Shape of X: (1000000, 7)\n",
      "Shape of y: (1000000,)\n"
=======
      "Shape of X: (87403, 7)\n",
      "Shape of y: (912597,)\n"
>>>>>>> a98077fe5c8a8e4f2a56f42ac5c04d00fede971c
     ]
    }
   ],
   "source": [
    "dataset.fraud.value_counts()\n",
    "print('Shape of X:', np.shape(X))\n",
    "print('Shape of y:', np.shape(y))"
   ]
  },
  {
<<<<<<< HEAD
=======
   "cell_type": "code",
   "execution_count": 837,
   "id": "37afcf88",
   "metadata": {},
   "outputs": [
    {
     "data": {
      "image/png": "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",
      "text/plain": [
       "<Figure size 432x288 with 1 Axes>"
      ]
     },
     "metadata": {},
     "output_type": "display_data"
    }
   ],
   "source": [
    "dataset.value_counts(\"fraud\").plot.pie(autopct = \"%.1f\") \n",
    "dataset.value_counts(\"fraud\")\n",
    "X = fraud_resample.iloc[:, : -1].values\n",
    "y = real_resample.iloc[:, -1].values"
   ]
  },
  {
>>>>>>> a98077fe5c8a8e4f2a56f42ac5c04d00fede971c
   "attachments": {},
   "cell_type": "markdown",
   "id": "c3e4a3fc",
   "metadata": {
    "papermill": {
     "duration": 0.007592,
     "end_time": "2022-06-27T20:48:17.968081",
     "exception": false,
     "start_time": "2022-06-27T20:48:17.960489",
     "status": "completed"
    },
    "tags": []
   },
   "source": [
    "### 1.3- Oversampling and Train, Test split"
   ]
  },
  {
   "cell_type": "code",
<<<<<<< HEAD
   "execution_count": 43,
=======
   "execution_count": 838,
>>>>>>> a98077fe5c8a8e4f2a56f42ac5c04d00fede971c
   "id": "b2645118",
   "metadata": {
    "execution": {
     "iopub.execute_input": "2022-06-27T20:48:17.983281Z",
     "iopub.status.busy": "2022-06-27T20:48:17.983020Z",
     "iopub.status.idle": "2022-06-27T20:48:19.296739Z",
     "shell.execute_reply": "2022-06-27T20:48:19.295745Z"
    },
    "papermill": {
     "duration": 1.324326,
     "end_time": "2022-06-27T20:48:19.299443",
     "exception": false,
     "start_time": "2022-06-27T20:48:17.975117",
     "status": "completed"
    },
    "tags": []
   },
   "outputs": [
    {
     "name": "stdout",
     "output_type": "stream",
     "text": [
<<<<<<< HEAD
      "Original dataset shape Counter({1: 78662, 0: 8741})\n",
      "Resampled dataset shape Counter({1: 78662, 0: 78662})\n",
      "Shape of X: (157324, 20)\n",
      "Shape of y: (157324,)\n",
      "\n",
      "X_train: (110126, 20)\n",
      "y_train: (110126,)\n",
      "X_test: (47198, 20)\n"
=======
      "Shape of X: (87403, 7)\n",
      "Shape of y: (87403,)\n",
      "\n",
      "X_train: (69922, 7)\n",
      "y_train: (69922,)\n",
      "X_test: (17481, 7)\n",
      "y_test: (17481,)\n"
>>>>>>> a98077fe5c8a8e4f2a56f42ac5c04d00fede971c
     ]
    }
   ],
   "source": [
<<<<<<< HEAD
    "X, y = make_classification(n_classes=2, class_sep=2,\n",
    "                           weights=[0.1, 0.9], n_informative=3, n_redundant=1, flip_y=0,\n",
    "                           n_features=20, n_clusters_per_class=1, n_samples=87403, random_state=10)\n",
    "print('Original dataset shape %s' % Counter(y))\n",
    "\n",
    "sm = SMOTE(random_state=42)\n",
    "X_res, y_res = sm.fit_resample(X, y)\n",
    "print('Resampled dataset shape %s' % Counter(y_res))\n",
    "print('Shape of X:', np.shape(X_res))\n",
    "print('Shape of y:', np.shape(y_res))\n",
    "\n",
    "X_train, X_test, y_train, y_test = train_test_split(X_res, y_res, test_size=0.3, random_state=0)\n",
=======
    "\n",
    "print('Shape of X:', np.shape(X))\n",
    "print('Shape of y:', np.shape(y))\n",
    "\n",
    "X_train, X_test, y_train, y_test = train_test_split(X, y, test_size=0.2, random_state=42)\n",
>>>>>>> a98077fe5c8a8e4f2a56f42ac5c04d00fede971c
    "print('\\nX_train:', np.shape(X_train))\n",
    "print('y_train:', np.shape(y_train))\n",
    "print('X_test:', np.shape(X_test))\n",
    "print('y_test:', np.shape(y_test))\n",
    "\n"
   ]
  },
  {
   "cell_type": "code",
   "execution_count": 44,
   "id": "daa5128a",
   "metadata": {},
   "outputs": [],
   "source": [
    "import numpy as np\n",
    "from sklearn.datasets import make_classification\n",
    "\n",
    "np.random.seed(42)\n",
    "X, y = make_classification(n_classes=2, class_sep=2,\n",
    "                           weights=[0.1, 0.9], n_informative=3, n_redundant=1, flip_y=1,\n",
    "                           n_features=20, n_clusters_per_class=1, n_samples=87403, random_state=10)"
   ]
  },
  {
   "cell_type": "code",
   "execution_count": 45,
   "id": "af39a848",
   "metadata": {},
   "outputs": [
    {
     "data": {
      "image/png": "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",
      "text/plain": [
       "<Figure size 640x480 with 1 Axes>"
      ]
     },
     "metadata": {},
     "output_type": "display_data"
    }
   ],
   "source": [
    "class_counts = Counter(y_res)\n",
    "plt.pie(class_counts.values(), labels=class_counts.keys(), autopct='%1.1f%%') # type: ignore\n",
    "plt.title('Class Distribution after Resampling')\n",
    "plt.show()"
   ]
  },
  {
   "attachments": {},
   "cell_type": "markdown",
   "id": "3a13d4ee",
   "metadata": {
    "papermill": {
     "duration": 0.007314,
     "end_time": "2022-06-27T20:48:19.314905",
     "exception": false,
     "start_time": "2022-06-27T20:48:19.307591",
     "status": "completed"
    },
    "tags": []
   },
   "source": [
    "## **2- Binary Classification**"
   ]
  },
  {
   "cell_type": "code",
<<<<<<< HEAD
   "execution_count": 46,
=======
   "execution_count": 839,
>>>>>>> a98077fe5c8a8e4f2a56f42ac5c04d00fede971c
   "id": "f4d19566",
   "metadata": {
    "execution": {
     "iopub.execute_input": "2022-06-27T20:48:19.331648Z",
     "iopub.status.busy": "2022-06-27T20:48:19.330865Z",
     "iopub.status.idle": "2022-06-27T20:48:19.336690Z",
     "shell.execute_reply": "2022-06-27T20:48:19.335663Z"
    },
    "papermill": {
     "duration": 0.016619,
     "end_time": "2022-06-27T20:48:19.338924",
     "exception": false,
     "start_time": "2022-06-27T20:48:19.322305",
     "status": "completed"
    },
    "tags": []
   },
   "outputs": [],
   "source": [
    "def plt_acc_loss(train, epochs, plttype):\n",
    "    epochstoplot = range(1, epochs + 1)\n",
    "    plt.plot(epochstoplot, train, label='Training ' + plttype)\n",
    "    plt.title('Training ' + plttype)\n",
    "    plt.xlabel('Epochs')\n",
    "    plt.ylabel(plttype)\n",
    "    plt.legend()\n",
    "    plt.show()"
   ]
  },
  {
   "attachments": {},
   "cell_type": "markdown",
   "id": "2bf81e26",
   "metadata": {
    "papermill": {
     "duration": 0.007065,
     "end_time": "2022-06-27T20:48:19.353075",
     "exception": false,
     "start_time": "2022-06-27T20:48:19.346010",
     "status": "completed"
    },
    "tags": []
   },
   "source": [
    "### 2.1- Deep Learning"
   ]
  },
  {
   "attachments": {},
   "cell_type": "markdown",
   "id": "b844bfc2",
   "metadata": {
    "papermill": {
     "duration": 0.006952,
     "end_time": "2022-06-27T20:48:19.367183",
     "exception": false,
     "start_time": "2022-06-27T20:48:19.360231",
     "status": "completed"
    },
    "tags": []
   },
   "source": [
    "`Time to define Hyperparameters`"
   ]
  },
  {
   "cell_type": "code",
<<<<<<< HEAD
   "execution_count": 47,
=======
   "execution_count": 840,
>>>>>>> a98077fe5c8a8e4f2a56f42ac5c04d00fede971c
   "id": "35064e47",
   "metadata": {
    "execution": {
     "iopub.execute_input": "2022-06-27T20:48:19.382655Z",
     "iopub.status.busy": "2022-06-27T20:48:19.382409Z",
     "iopub.status.idle": "2022-06-27T20:48:19.441650Z",
     "shell.execute_reply": "2022-06-27T20:48:19.440713Z"
    },
    "papermill": {
     "duration": 0.069318,
     "end_time": "2022-06-27T20:48:19.443750",
     "exception": false,
     "start_time": "2022-06-27T20:48:19.374432",
     "status": "completed"
    },
    "tags": []
   },
   "outputs": [
    {
     "name": "stdout",
     "output_type": "stream",
     "text": [
      "Device: cuda\n"
     ]
    }
   ],
   "source": [
    "EPOCHS = 10\n",
    "BATCH_SIZE = 64\n",
    "LEARNING_RATE = 0.0146\n",
    "WORKERS = 0\n",
    "WD = 1e-6\n",
    "device = torch.device('cuda' if torch.cuda.is_available() else 'cpu')\n",
    "torch.backends.cudnn.benchmark = False # type: ignore\n",
    "torch.backends.cudnn.deterministic = True # type: ignore\n",
    "print('Device:', device)"
   ]
  },
  {
   "cell_type": "code",
<<<<<<< HEAD
   "execution_count": 48,
=======
   "execution_count": 841,
>>>>>>> a98077fe5c8a8e4f2a56f42ac5c04d00fede971c
   "id": "110b89d1",
   "metadata": {
    "execution": {
     "iopub.execute_input": "2022-06-27T20:48:19.460402Z",
     "iopub.status.busy": "2022-06-27T20:48:19.459619Z",
     "iopub.status.idle": "2022-06-27T20:48:19.504629Z",
     "shell.execute_reply": "2022-06-27T20:48:19.503806Z"
    },
    "papermill": {
     "duration": 0.054978,
     "end_time": "2022-06-27T20:48:19.506514",
     "exception": false,
     "start_time": "2022-06-27T20:48:19.451536",
     "status": "completed"
    },
    "tags": []
   },
   "outputs": [],
   "source": [
    "import torch\n",
    "from torch.utils.data import Dataset, DataLoader\n",
    "\n",
    "class TrainData(Dataset):\n",
    "    \n",
    "    def __init__(self, X_data, y_data):\n",
    "        self.X_data = torch.tensor(X_data, dtype=torch.float32)\n",
    "        self.y_data = torch.tensor(y_data, dtype=torch.float32)\n",
    "        \n",
    "    def __getitem__(self, index):\n",
    "        return self.X_data[index], self.y_data[index]\n",
    "        \n",
    "    def __len__ (self):\n",
    "        return len(self.X_data)\n",
    "\n",
    "class TestData(Dataset):\n",
    "    \n",
    "    def __init__(self, X_data, y_data):\n",
    "        self.X_data = torch.tensor(X_data, dtype=torch.float32)\n",
    "        self.y_data = torch.tensor(y_data, dtype=torch.float32)\n",
    "        \n",
    "    def __getitem__(self, index):\n",
    "        return self.X_data[index], self.y_data[index]\n",
    "        \n",
    "    def __len__ (self):\n",
    "        return len(self.X_data)\n",
    "    \n",
    "train_data = TrainData(X_train, y_train)\n",
    "test_data = TestData(X_test, y_test)\n",
    "\n",
    "train_loader = DataLoader(dataset=train_data, batch_size=BATCH_SIZE, shuffle=True, num_workers=WORKERS)\n",
    "test_loader = DataLoader(dataset=test_data, batch_size=16, shuffle=True, num_workers=WORKERS)"
   ]
  },
  {
   "attachments": {},
   "cell_type": "markdown",
   "id": "7bfd66db",
   "metadata": {
    "papermill": {
     "duration": 0.006994,
     "end_time": "2022-06-27T20:48:19.520717",
     "exception": false,
     "start_time": "2022-06-27T20:48:19.513723",
     "status": "completed"
    },
    "tags": []
   },
   "source": [
    "### 2.2- Neural Network with 3 different layers"
   ]
  },
  {
   "cell_type": "code",
<<<<<<< HEAD
   "execution_count": 49,
=======
   "execution_count": 842,
>>>>>>> a98077fe5c8a8e4f2a56f42ac5c04d00fede971c
   "id": "5d0a429b",
   "metadata": {
    "execution": {
     "iopub.execute_input": "2022-06-27T20:48:19.536232Z",
     "iopub.status.busy": "2022-06-27T20:48:19.535989Z",
     "iopub.status.idle": "2022-06-27T20:48:19.544467Z",
     "shell.execute_reply": "2022-06-27T20:48:19.543663Z"
    },
    "papermill": {
     "duration": 0.01842,
     "end_time": "2022-06-27T20:48:19.546337",
     "exception": false,
     "start_time": "2022-06-27T20:48:19.527917",
     "status": "completed"
    },
    "tags": []
   },
   "outputs": [],
   "source": [
    "class NeuralNet(Module):\n",
    "\n",
    "    def __init__(self):\n",
    "        super(NeuralNet, self).__init__()\n",
    "\n",
    "        # Number of input features is 20.\n",
    "        self.layer_1 = Linear(20, 64) \n",
    "        self.layer_2 = Linear(64, 64)\n",
    "        self.layer_out = Linear(64, 1) \n",
    "\n",
    "        self.relu = ReLU()\n",
    "        self.dropout = Dropout(p=0.1)\n",
    "        self.batchnorm1 = BatchNorm1d(64)\n",
    "        self.batchnorm2 = BatchNorm1d(64)\n",
    "          \n",
    "    def forward(self, inputs):\n",
    "        x = self.relu(self.layer_1(inputs))\n",
    "        x = self.batchnorm1(x)\n",
    "        x = self.relu(self.layer_2(x))\n",
    "        x = self.batchnorm2(x)\n",
    "        x = self.dropout(x)\n",
    "        x = self.layer_out(x)\n",
    "\n",
    "        return x"
   ]
  },
  {
   "cell_type": "code",
<<<<<<< HEAD
   "execution_count": 50,
=======
   "execution_count": 843,
>>>>>>> a98077fe5c8a8e4f2a56f42ac5c04d00fede971c
   "id": "b0c10bc8",
   "metadata": {
    "execution": {
     "iopub.execute_input": "2022-06-27T20:48:19.562028Z",
     "iopub.status.busy": "2022-06-27T20:48:19.561781Z",
     "iopub.status.idle": "2022-06-27T20:48:19.567047Z",
     "shell.execute_reply": "2022-06-27T20:48:19.565989Z"
    },
    "papermill": {
     "duration": 0.015464,
     "end_time": "2022-06-27T20:48:19.569028",
     "exception": false,
     "start_time": "2022-06-27T20:48:19.553564",
     "status": "completed"
    },
    "tags": []
   },
   "outputs": [],
   "source": [
    "def binary_acc(y_pred, y_test):\n",
    "    y_pred_tag = torch.round(torch.sigmoid(y_pred))\n",
    "\n",
    "    correct_results_sum = (y_pred_tag == y_test).sum().float()\n",
    "    acc = correct_results_sum/y_test.shape[0]\n",
    "    acc = torch.round(acc * 100)\n",
    "    \n",
    "    return acc"
   ]
  },
  {
   "attachments": {},
   "cell_type": "markdown",
   "id": "81b4a32e",
   "metadata": {
    "papermill": {
     "duration": 0.00719,
     "end_time": "2022-06-27T20:48:19.583601",
     "exception": false,
     "start_time": "2022-06-27T20:48:19.576411",
     "status": "completed"
    },
    "tags": []
   },
   "source": [
    "### 2.3- Training"
   ]
  },
  {
   "cell_type": "code",
<<<<<<< HEAD
   "execution_count": 51,
=======
   "execution_count": 844,
>>>>>>> a98077fe5c8a8e4f2a56f42ac5c04d00fede971c
   "id": "cdf997dc",
   "metadata": {
    "execution": {
     "iopub.execute_input": "2022-06-27T20:48:19.598967Z",
     "iopub.status.busy": "2022-06-27T20:48:19.598718Z",
     "iopub.status.idle": "2022-06-27T21:01:07.573371Z",
     "shell.execute_reply": "2022-06-27T21:01:07.571130Z"
    },
    "papermill": {
     "duration": 767.990994,
     "end_time": "2022-06-27T21:01:07.581761",
     "exception": false,
     "start_time": "2022-06-27T20:48:19.590767",
     "status": "completed"
    },
    "tags": []
   },
   "outputs": [
    {
     "name": "stdout",
     "output_type": "stream",
     "text": [
<<<<<<< HEAD
      "Epoch 01 / 100: | Loss: 0.1768 | Acc: 95.657\n",
      "Epoch 02 / 100: | Loss: 0.0632 | Acc: 98.306\n",
      "Epoch 03 / 100: | Loss: 0.0478 | Acc: 98.526\n",
      "Epoch 04 / 100: | Loss: 0.0406 | Acc: 98.666\n",
      "Epoch 05 / 100: | Loss: 0.0371 | Acc: 98.744\n",
      "Epoch 06 / 100: | Loss: 0.0348 | Acc: 98.794\n",
      "Epoch 07 / 100: | Loss: 0.0327 | Acc: 98.844\n",
      "Epoch 08 / 100: | Loss: 0.0315 | Acc: 98.916\n",
      "Epoch 09 / 100: | Loss: 0.0303 | Acc: 98.910\n",
      "Epoch 10 / 100: | Loss: 0.0286 | Acc: 98.981\n",
      "Epoch 11 / 100: | Loss: 0.0280 | Acc: 99.012\n",
      "Epoch 12 / 100: | Loss: 0.0272 | Acc: 99.071\n",
      "Epoch 13 / 100: | Loss: 0.0276 | Acc: 99.051\n",
      "Epoch 14 / 100: | Loss: 0.0263 | Acc: 99.079\n",
      "Epoch 15 / 100: | Loss: 0.0260 | Acc: 99.109\n",
      "Epoch 16 / 100: | Loss: 0.0252 | Acc: 99.144\n",
      "Epoch 17 / 100: | Loss: 0.0257 | Acc: 99.117\n",
      "Epoch 18 / 100: | Loss: 0.0263 | Acc: 99.124\n",
      "Epoch 19 / 100: | Loss: 0.0244 | Acc: 99.156\n",
      "Epoch 20 / 100: | Loss: 0.0245 | Acc: 99.171\n",
      "Epoch 21 / 100: | Loss: 0.0238 | Acc: 99.195\n",
      "Epoch 22 / 100: | Loss: 0.0238 | Acc: 99.202\n",
      "Epoch 23 / 100: | Loss: 0.0244 | Acc: 99.162\n",
      "Epoch 24 / 100: | Loss: 0.0234 | Acc: 99.228\n",
      "Epoch 25 / 100: | Loss: 0.0226 | Acc: 99.257\n",
      "Epoch 26 / 100: | Loss: 0.0225 | Acc: 99.257\n",
      "Epoch 27 / 100: | Loss: 0.0230 | Acc: 99.243\n",
      "Epoch 28 / 100: | Loss: 0.0227 | Acc: 99.217\n",
      "Epoch 29 / 100: | Loss: 0.0224 | Acc: 99.267\n",
      "Epoch 30 / 100: | Loss: 0.0225 | Acc: 99.266\n",
      "Epoch 31 / 100: | Loss: 0.0218 | Acc: 99.306\n",
      "Epoch 32 / 100: | Loss: 0.0217 | Acc: 99.299\n",
      "Epoch 33 / 100: | Loss: 0.0217 | Acc: 99.312\n",
      "Epoch 34 / 100: | Loss: 0.0211 | Acc: 99.322\n",
      "Epoch 35 / 100: | Loss: 0.0214 | Acc: 99.329\n",
      "Epoch 36 / 100: | Loss: 0.0204 | Acc: 99.379\n",
      "Epoch 37 / 100: | Loss: 0.0206 | Acc: 99.347\n",
      "Epoch 38 / 100: | Loss: 0.0209 | Acc: 99.358\n",
      "Epoch 39 / 100: | Loss: 0.0209 | Acc: 99.359\n",
      "Epoch 40 / 100: | Loss: 0.0207 | Acc: 99.352\n",
      "Epoch 41 / 100: | Loss: 0.0202 | Acc: 99.404\n",
      "Epoch 42 / 100: | Loss: 0.0201 | Acc: 99.372\n",
      "Epoch 43 / 100: | Loss: 0.0198 | Acc: 99.400\n",
      "Epoch 44 / 100: | Loss: 0.0197 | Acc: 99.396\n",
      "Epoch 45 / 100: | Loss: 0.0201 | Acc: 99.411\n",
      "Epoch 46 / 100: | Loss: 0.0193 | Acc: 99.394\n",
      "Epoch 47 / 100: | Loss: 0.0195 | Acc: 99.411\n",
      "Epoch 48 / 100: | Loss: 0.0191 | Acc: 99.449\n",
      "Epoch 49 / 100: | Loss: 0.0187 | Acc: 99.443\n",
      "Epoch 50 / 100: | Loss: 0.0184 | Acc: 99.447\n",
      "Epoch 51 / 100: | Loss: 0.0186 | Acc: 99.445\n",
      "Epoch 52 / 100: | Loss: 0.0185 | Acc: 99.443\n",
      "Epoch 53 / 100: | Loss: 0.0180 | Acc: 99.454\n",
      "Epoch 54 / 100: | Loss: 0.0171 | Acc: 99.479\n",
      "Epoch 55 / 100: | Loss: 0.0172 | Acc: 99.499\n",
      "Epoch 56 / 100: | Loss: 0.0160 | Acc: 99.511\n",
      "Epoch 57 / 100: | Loss: 0.0152 | Acc: 99.523\n",
      "Epoch 58 / 100: | Loss: 0.0153 | Acc: 99.545\n",
      "Epoch 59 / 100: | Loss: 0.0150 | Acc: 99.543\n",
      "Epoch 60 / 100: | Loss: 0.0142 | Acc: 99.577\n",
      "Epoch 61 / 100: | Loss: 0.0134 | Acc: 99.579\n",
      "Epoch 62 / 100: | Loss: 0.0128 | Acc: 99.608\n",
      "Epoch 63 / 100: | Loss: 0.0123 | Acc: 99.613\n",
      "Epoch 64 / 100: | Loss: 0.0127 | Acc: 99.583\n",
      "Epoch 65 / 100: | Loss: 0.0124 | Acc: 99.593\n",
      "Epoch 66 / 100: | Loss: 0.0113 | Acc: 99.643\n",
      "Epoch 67 / 100: | Loss: 0.0114 | Acc: 99.632\n",
      "Epoch 68 / 100: | Loss: 0.0114 | Acc: 99.626\n",
      "Epoch 69 / 100: | Loss: 0.0109 | Acc: 99.627\n",
      "Epoch 70 / 100: | Loss: 0.0093 | Acc: 99.683\n",
      "Epoch 71 / 100: | Loss: 0.0097 | Acc: 99.675\n",
      "Epoch 72 / 100: | Loss: 0.0102 | Acc: 99.650\n",
      "Epoch 73 / 100: | Loss: 0.0106 | Acc: 99.675\n",
      "Epoch 74 / 100: | Loss: 0.0104 | Acc: 99.666\n",
      "Epoch 75 / 100: | Loss: 0.0098 | Acc: 99.657\n",
      "Epoch 76 / 100: | Loss: 0.0087 | Acc: 99.714\n",
      "Epoch 77 / 100: | Loss: 0.0085 | Acc: 99.708\n",
      "Epoch 78 / 100: | Loss: 0.0089 | Acc: 99.697\n",
      "Epoch 79 / 100: | Loss: 0.0098 | Acc: 99.652\n",
      "Epoch 80 / 100: | Loss: 0.0080 | Acc: 99.722\n",
      "Epoch 81 / 100: | Loss: 0.0083 | Acc: 99.727\n",
      "Epoch 82 / 100: | Loss: 0.0078 | Acc: 99.723\n",
      "Epoch 83 / 100: | Loss: 0.0074 | Acc: 99.741\n",
      "Epoch 84 / 100: | Loss: 0.0074 | Acc: 99.739\n",
      "Epoch 85 / 100: | Loss: 0.0073 | Acc: 99.765\n",
      "Epoch 86 / 100: | Loss: 0.0069 | Acc: 99.764\n",
      "Epoch 87 / 100: | Loss: 0.0071 | Acc: 99.765\n",
      "Epoch 88 / 100: | Loss: 0.0077 | Acc: 99.727\n",
      "Epoch 89 / 100: | Loss: 0.0072 | Acc: 99.761\n",
      "Epoch 90 / 100: | Loss: 0.0073 | Acc: 99.754\n",
      "Epoch 91 / 100: | Loss: 0.0068 | Acc: 99.750\n",
      "Epoch 92 / 100: | Loss: 0.0072 | Acc: 99.762\n",
      "Epoch 93 / 100: | Loss: 0.0068 | Acc: 99.767\n",
      "Epoch 94 / 100: | Loss: 0.0069 | Acc: 99.768\n",
      "Epoch 95 / 100: | Loss: 0.0069 | Acc: 99.770\n",
      "Epoch 96 / 100: | Loss: 0.0068 | Acc: 99.781\n",
      "Epoch 97 / 100: | Loss: 0.0067 | Acc: 99.761\n",
      "Epoch 98 / 100: | Loss: 0.0060 | Acc: 99.803\n",
      "Epoch 99 / 100: | Loss: 0.0062 | Acc: 99.793\n",
      "Epoch 100 / 100: | Loss: 0.0062 | Acc: 99.788\n",
      "\n",
      "Training is completed!\n",
      "_____________________________\n",
      "Total Training Time: 9.43 min\n"
=======
      "Epoch 01 / 10: | Loss: 0.1314 | Acc: 98.975\n",
      "Epoch 02 / 10: | Loss: 0.0127 | Acc: 99.991\n",
      "Epoch 03 / 10: | Loss: 0.0056 | Acc: 99.996\n",
      "Epoch 04 / 10: | Loss: 0.0035 | Acc: 99.995\n",
      "Epoch 05 / 10: | Loss: 0.0025 | Acc: 99.996\n",
      "Epoch 06 / 10: | Loss: 0.0018 | Acc: 100.000\n",
      "Epoch 07 / 10: | Loss: 0.0015 | Acc: 100.000\n",
      "Epoch 08 / 10: | Loss: 0.0012 | Acc: 100.000\n",
      "Epoch 09 / 10: | Loss: 0.0011 | Acc: 99.998\n",
      "Epoch 10 / 10: | Loss: 0.0009 | Acc: 99.996\n",
      "\n",
      "Training is completed!\n",
      "_____________________________\n",
      "Total Training Time: 0.34 min\n"
>>>>>>> a98077fe5c8a8e4f2a56f42ac5c04d00fede971c
     ]
    }
   ],
   "source": [
    "start_time = time.time()\n",
    "\n",
    "accuracy_stats = []\n",
    "loss_stats = []\n",
    "\n",
    "model = NeuralNet()\n",
    "model.to(device)\n",
    "loss = BCEWithLogitsLoss()\n",
    "optimizer = optim.SGD(model.parameters(), lr=LEARNING_RATE, weight_decay=WD)\n",
    "\n",
    "model.train()\n",
    "\n",
    "for i in range(1, EPOCHS+1):\n",
    "    epoch_loss = 0\n",
    "    epoch_acc = 0\n",
    "    for X_batch, y_batch in train_loader:\n",
    "        X_batch, y_batch = X_batch.to(device), y_batch.to(device)\n",
    "        \n",
    "        y_pred = model(X_batch)\n",
    "        l = loss(y_pred, y_batch.unsqueeze(1))\n",
    "        \n",
    "        optimizer.zero_grad()\n",
    "        l.backward()\n",
    "        optimizer.step()\n",
    "        \n",
    "        acc = binary_acc(y_pred, y_batch.unsqueeze(1))\n",
    "\n",
    "        epoch_loss += l.item()\n",
    "        epoch_acc += acc.item()\n",
    "        \n",
    "\n",
    "    print(f'Epoch {i:02d} / {EPOCHS:02d}: | Loss: {epoch_loss/len(train_loader):.4f} | Acc: {epoch_acc/len(train_loader):.3f}')\n",
    "    loss_stats.append(epoch_loss / len(train_loader))\n",
    "    accuracy_stats.append(epoch_acc / len(train_loader))\n",
    "\n",
    "\n",
    "print('\\nTraining is completed!')\n",
    "print('_____________________________')\n",
    "print(f'Total Training Time: {(time.time() - start_time)/60:.2f} min')"
   ]
  },
  {
   "cell_type": "code",
<<<<<<< HEAD
   "execution_count": 52,
=======
   "execution_count": 845,
>>>>>>> a98077fe5c8a8e4f2a56f42ac5c04d00fede971c
   "id": "a9e914c3",
   "metadata": {
    "execution": {
     "iopub.execute_input": "2022-06-27T21:01:07.599153Z",
     "iopub.status.busy": "2022-06-27T21:01:07.598842Z",
     "iopub.status.idle": "2022-06-27T21:01:07.775022Z",
     "shell.execute_reply": "2022-06-27T21:01:07.774106Z"
    },
    "papermill": {
     "duration": 0.187306,
     "end_time": "2022-06-27T21:01:07.777114",
     "exception": false,
     "start_time": "2022-06-27T21:01:07.589808",
     "status": "completed"
    },
    "tags": []
   },
   "outputs": [
    {
     "data": {
<<<<<<< HEAD
      "image/png": "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",
=======
      "image/png": "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",
>>>>>>> a98077fe5c8a8e4f2a56f42ac5c04d00fede971c
      "text/plain": [
       "<Figure size 432x288 with 1 Axes>"
      ]
     },
     "metadata": {},
     "output_type": "display_data"
    }
   ],
   "source": [
    "plt_acc_loss(loss_stats, EPOCHS, 'Loss')"
   ]
  },
  {
   "cell_type": "code",
<<<<<<< HEAD
   "execution_count": 53,
=======
   "execution_count": 846,
>>>>>>> a98077fe5c8a8e4f2a56f42ac5c04d00fede971c
   "id": "035763ad",
   "metadata": {
    "execution": {
     "iopub.execute_input": "2022-06-27T21:01:07.796193Z",
     "iopub.status.busy": "2022-06-27T21:01:07.794632Z",
     "iopub.status.idle": "2022-06-27T21:01:08.110168Z",
     "shell.execute_reply": "2022-06-27T21:01:08.109233Z"
    },
    "papermill": {
     "duration": 0.326556,
     "end_time": "2022-06-27T21:01:08.112133",
     "exception": false,
     "start_time": "2022-06-27T21:01:07.785577",
     "status": "completed"
    },
    "tags": []
   },
   "outputs": [
    {
     "data": {
<<<<<<< HEAD
      "image/png": "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",
=======
      "image/png": "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",
>>>>>>> a98077fe5c8a8e4f2a56f42ac5c04d00fede971c
      "text/plain": [
       "<Figure size 432x288 with 1 Axes>"
      ]
     },
     "metadata": {},
     "output_type": "display_data"
    }
   ],
   "source": [
    "plt_acc_loss(accuracy_stats, EPOCHS, 'Accuracy')"
   ]
  },
  {
   "attachments": {},
   "cell_type": "markdown",
   "id": "abc91600",
   "metadata": {
    "papermill": {
     "duration": 0.008235,
     "end_time": "2022-06-27T21:01:08.129310",
     "exception": false,
     "start_time": "2022-06-27T21:01:08.121075",
     "status": "completed"
    },
    "tags": []
   },
   "source": [
    "### 2.4- Testing"
   ]
  },
  {
   "cell_type": "code",
<<<<<<< HEAD
   "execution_count": 54,
=======
   "execution_count": 847,
>>>>>>> a98077fe5c8a8e4f2a56f42ac5c04d00fede971c
   "id": "caec43f4",
   "metadata": {
    "execution": {
     "iopub.execute_input": "2022-06-27T21:01:08.147749Z",
     "iopub.status.busy": "2022-06-27T21:01:08.147463Z",
     "iopub.status.idle": "2022-06-27T21:02:32.164042Z",
     "shell.execute_reply": "2022-06-27T21:02:32.162984Z"
    },
    "papermill": {
     "duration": 84.037694,
     "end_time": "2022-06-27T21:02:32.175754",
     "exception": false,
     "start_time": "2022-06-27T21:01:08.138060",
     "status": "completed"
    },
    "tags": []
   },
   "outputs": [
    {
     "name": "stdout",
     "output_type": "stream",
     "text": [
      "\\Testing is completed!\n",
      "_____________________________\n",
<<<<<<< HEAD
      "Total Testing Time: 0.06 min\n"
=======
      "Total Testing Time: 0.01 min\n"
>>>>>>> a98077fe5c8a8e4f2a56f42ac5c04d00fede971c
     ]
    }
   ],
   "source": [
    "start_time = time.time()\n",
    "\n",
    "y_pred_list = []\n",
    "y_true_list = []\n",
    "model.eval()\n",
    "with torch.no_grad():\n",
    "    for X_batch, y_batch in test_loader:\n",
    "        X_batch_t, y_batch_t = X_batch.to(device), y_batch.to(device)\n",
    "        y_test_pred = model(X_batch_t)\n",
    "        y_test_pred = torch.sigmoid(y_test_pred)\n",
    "        y_pred_tag = torch.round(y_test_pred)\n",
    "        y_pred_list.append(y_pred_tag.cpu().numpy())\n",
    "        y_true_list.append(y_batch_t.cpu().numpy())\n",
    "\n",
    "y_pred_list = [a.squeeze().tolist() for a in y_pred_list]\n",
    "y_pred_list = [i[0] for i in y_pred_list]\n",
    "y_true_list = [i[0] for i in y_true_list]\n",
    "\n",
    "print('\\Testing is completed!')\n",
    "print('_____________________________')\n",
    "print(f'Total Testing Time: {(time.time() - start_time)/60:.2f} min')"
   ]
  },
  {
   "attachments": {},
   "cell_type": "markdown",
   "id": "93e8ce2a",
   "metadata": {
    "papermill": {
     "duration": 0.00827,
     "end_time": "2022-06-27T21:02:32.192520",
     "exception": false,
     "start_time": "2022-06-27T21:02:32.184250",
     "status": "completed"
    },
    "tags": []
   },
   "source": [
    "## **3- Classification Report**"
   ]
  },
  {
   "cell_type": "code",
<<<<<<< HEAD
   "execution_count": 55,
=======
   "execution_count": 848,
>>>>>>> a98077fe5c8a8e4f2a56f42ac5c04d00fede971c
   "id": "cafe2a9d",
   "metadata": {
    "execution": {
     "iopub.execute_input": "2022-06-27T21:02:32.212307Z",
     "iopub.status.busy": "2022-06-27T21:02:32.210870Z",
     "iopub.status.idle": "2022-06-27T21:02:32.471775Z",
     "shell.execute_reply": "2022-06-27T21:02:32.470150Z"
    },
    "papermill": {
     "duration": 0.272417,
     "end_time": "2022-06-27T21:02:32.473772",
     "exception": false,
     "start_time": "2022-06-27T21:02:32.201355",
     "status": "completed"
    },
    "tags": []
   },
   "outputs": [
    {
     "name": "stdout",
     "output_type": "stream",
     "text": [
      "CLASSIFICATION REPORTS\n",
      "\n",
      "              precision    recall  f1-score   support\n",
      "\n",
<<<<<<< HEAD
      "         0.0       1.00      1.00      1.00      1492\n",
      "         1.0       1.00      1.00      1.00      1458\n",
      "\n",
      "    accuracy                           1.00      2950\n",
      "   macro avg       1.00      1.00      1.00      2950\n",
      "weighted avg       1.00      1.00      1.00      2950\n",
=======
      "         0.0       1.00      1.00      1.00      1093\n",
      "\n",
      "    accuracy                           1.00      1093\n",
      "   macro avg       1.00      1.00      1.00      1093\n",
      "weighted avg       1.00      1.00      1.00      1093\n",
>>>>>>> a98077fe5c8a8e4f2a56f42ac5c04d00fede971c
      "\n",
      "\n",
      "CONFUSION MATRIX\n",
      "\n",
<<<<<<< HEAD
      "[[1492    0]\n",
      " [   3 1455]]\n"
=======
      "[[1093]]\n"
>>>>>>> a98077fe5c8a8e4f2a56f42ac5c04d00fede971c
     ]
    },
    {
     "data": {
<<<<<<< HEAD
      "image/png": "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",
      "text/plain": [
       "<Figure size 640x480 with 2 Axes>"
=======
      "image/png": "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",
      "text/plain": [
       "<Figure size 432x288 with 2 Axes>"
>>>>>>> a98077fe5c8a8e4f2a56f42ac5c04d00fede971c
      ]
     },
     "metadata": {},
     "output_type": "display_data"
    },
    {
     "name": "stdout",
     "output_type": "stream",
     "text": [
      "\n",
<<<<<<< HEAD
      "MEAN SQUARE ERROR: 0.001\n"
=======
      "MEAN SQUARE ERROR: 0.000\n"
>>>>>>> a98077fe5c8a8e4f2a56f42ac5c04d00fede971c
     ]
    }
   ],
   "source": [
    "print('CLASSIFICATION REPORTS\\n')\n",
    "print(classification_report(y_true_list, y_pred_list))\n",
    "print('\\nCONFUSION MATRIX\\n')\n",
    "print(confusion_matrix(y_true_list, y_pred_list))\n",
<<<<<<< HEAD
    "cm=confusion_matrix(y_true_list, y_pred_list)\n",
    "sns.heatmap(cm,annot=True,fmt=\"d\",cmap=\"Blues\")\n",
    "plt.show()\n",
=======
    "cm2 = confusion_matrix(y_true_list, y_pred_list)\n",
    "sns.heatmap(cm2, annot=True, fmt='d', cmap='Blues')\n",
    "plt.title('Confusion Matrix')\n",
    "plt.show()\n",
    "\n",
>>>>>>> a98077fe5c8a8e4f2a56f42ac5c04d00fede971c
    "print(f'\\nMEAN SQUARE ERROR: {mean_squared_error(y_true_list, y_pred_list) :.3f}')"
   ]
  },
  {
   "cell_type": "code",
<<<<<<< HEAD
   "execution_count": 56,
=======
   "execution_count": 849,
>>>>>>> a98077fe5c8a8e4f2a56f42ac5c04d00fede971c
   "id": "73e6fff8",
   "metadata": {
    "execution": {
     "iopub.execute_input": "2022-06-27T21:02:32.492339Z",
     "iopub.status.busy": "2022-06-27T21:02:32.492056Z",
     "iopub.status.idle": "2022-06-27T21:02:32.959465Z",
     "shell.execute_reply": "2022-06-27T21:02:32.958561Z"
    },
    "papermill": {
     "duration": 0.478954,
     "end_time": "2022-06-27T21:02:32.961454",
     "exception": false,
     "start_time": "2022-06-27T21:02:32.482500",
     "status": "completed"
    },
    "tags": []
   },
   "outputs": [
    {
     "data": {
      "text/plain": [
<<<<<<< HEAD
       "<matplotlib.colorbar.Colorbar at 0x168a290c9d0>"
      ]
     },
     "execution_count": 56,
=======
       "<matplotlib.colorbar.Colorbar at 0x2727593dee0>"
      ]
     },
     "execution_count": 849,
>>>>>>> a98077fe5c8a8e4f2a56f42ac5c04d00fede971c
     "metadata": {},
     "output_type": "execute_result"
    },
    {
     "data": {
<<<<<<< HEAD
      "image/png": "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",
=======
      "image/png": "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",
>>>>>>> a98077fe5c8a8e4f2a56f42ac5c04d00fede971c
      "text/plain": [
       "<Figure size 288x432 with 3 Axes>"
      ]
     },
     "metadata": {},
     "output_type": "display_data"
    }
   ],
   "source": [
    "tensor_dict = {\n",
    "    'y_true': torch.FloatTensor(y_true_list[: 30]),\n",
    "    '$\\hat{y}$': torch.FloatTensor(y_pred_list[: 30])\n",
    "    }\n",
    "\n",
    "n = len(tensor_dict)\n",
    "vmax = max(v.abs().max() for v in tensor_dict.values())\n",
    "figsize = (2 * n, 6)\n",
    "fig, axes = plt.subplots(1, n, figsize=figsize, constrained_layout=True, squeeze=True)\n",
    "axes = axes.flat if isinstance(axes, np.ndarray) else (axes,)\n",
    "for (name, v), ax in zip(tensor_dict.items(), axes):\n",
    "    v = torch.squeeze(v.detach())\n",
    "    if v.ndim == 1:\n",
    "        v = v.view(-1, 1)\n",
    "    img = ax.matshow(v, vmin=-vmax, vmax=vmax, cmap=plt.get_cmap('bwr'))\n",
    "    ax.set_xticks([])\n",
    "    ax.set_yticks([])\n",
    "    ax.set_title(name)\n",
    "fig.colorbar(img, cax=fig.add_axes([0.985, 0.25, 0.03, .5]))"
   ]
  }
 ],
 "metadata": {
  "kernelspec": {
   "display_name": "base",
   "language": "python",
   "name": "python3"
  },
  "language_info": {
   "codemirror_mode": {
    "name": "ipython",
    "version": 3
   },
   "file_extension": ".py",
   "mimetype": "text/x-python",
   "name": "python",
   "nbconvert_exporter": "python",
   "pygments_lexer": "ipython3",
   "version": "3.9.12"
  },
  "papermill": {
   "default_parameters": {},
   "duration": 869.267315,
   "end_time": "2022-06-27T21:02:34.093654",
   "environment_variables": {},
   "exception": null,
   "input_path": "__notebook__.ipynb",
   "output_path": "__notebook__.ipynb",
   "parameters": {},
   "start_time": "2022-06-27T20:48:04.826339",
   "version": "2.3.4"
  },
  "vscode": {
   "interpreter": {
    "hash": "260f019dbdd165b2a66e5fc9588a8f81e21ca9655b1d8c64e54a883dbdaf6a75"
   }
  }
 },
 "nbformat": 4,
 "nbformat_minor": 5
}
