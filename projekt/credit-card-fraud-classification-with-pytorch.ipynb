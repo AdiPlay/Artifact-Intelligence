{
 "cells": [
  {
   "cell_type": "markdown",
   "id": "af2bd477",
   "metadata": {
    "papermill": {
     "duration": 0.007537,
     "end_time": "2022-06-27T20:48:12.652408",
     "exception": false,
     "start_time": "2022-06-27T20:48:12.644871",
     "status": "completed"
    },
    "tags": []
   },
   "source": [
    "# **Credit Card Fraud Classification with Deep Learning (PyTorch)**"
   ]
  },
  {
   "cell_type": "markdown",
   "id": "73216be7",
   "metadata": {
    "papermill": {
     "duration": 0.00622,
     "end_time": "2022-06-27T20:48:12.665167",
     "exception": false,
     "start_time": "2022-06-27T20:48:12.658947",
     "status": "completed"
    },
    "tags": []
   },
   "source": [
    "## **1- Data Preprocessing**"
   ]
  },
  {
   "cell_type": "markdown",
   "id": "c8c537a3",
   "metadata": {
    "papermill": {
     "duration": 0.006722,
     "end_time": "2022-06-27T20:48:12.678351",
     "exception": false,
     "start_time": "2022-06-27T20:48:12.671629",
     "status": "completed"
    },
    "tags": []
   },
   "source": [
    "### 1.1-Importing Libraries"
   ]
  },
  {
   "cell_type": "code",
   "execution_count": 2,
   "id": "40fbd051",
   "metadata": {
    "_cell_guid": "b1076dfc-b9ad-4769-8c92-a6c4dae69d19",
    "_uuid": "8f2839f25d086af736a60e9eeb907d3b93b6e0e5",
    "execution": {
     "iopub.execute_input": "2022-06-27T20:48:12.692433Z",
     "iopub.status.busy": "2022-06-27T20:48:12.691992Z",
     "iopub.status.idle": "2022-06-27T20:48:15.603254Z",
     "shell.execute_reply": "2022-06-27T20:48:15.599169Z"
    },
    "papermill": {
     "duration": 2.924516,
     "end_time": "2022-06-27T20:48:15.609060",
     "exception": false,
     "start_time": "2022-06-27T20:48:12.684544",
     "status": "completed"
    },
    "tags": []
   },
   "outputs": [
    {
     "name": "stdout",
     "output_type": "stream",
     "text": [
      "./card_transdata.csv\n",
      "./credit-card-fraud-classification-with-pytorch.ipynb\n",
      "./projekt.ipynb\n"
     ]
    }
   ],
   "source": [
    "# This Python 3 environment comes with many helpful analytics libraries installed\n",
    "# It is defined by the kaggle/python Docker image: https://github.com/kaggle/docker-python\n",
    "# For example, here's several helpful packages to load\n",
    "\n",
    "\n",
    "import os\n",
    "import time\n",
    "\n",
    "import pandas as pd\n",
    "import numpy as np\n",
    "import matplotlib.pyplot as plt\n",
    "\n",
    "import seaborn as sns\n",
    "from imblearn.over_sampling import SMOTE\n",
    "\n",
    "from sklearn.svm import LinearSVC\n",
    "from sklearn.naive_bayes import GaussianNB\n",
    "from sklearn.neighbors import KNeighborsClassifier\n",
    "from sklearn.ensemble import RandomForestClassifier\n",
    "from sklearn.metrics import confusion_matrix, classification_report, accuracy_score, mean_squared_error, f1_score\n",
    "from sklearn.model_selection import train_test_split\n",
    "from sklearn.preprocessing import StandardScaler\n",
    "\n",
    "import torch\n",
    "from torch.nn import ReLU, Linear, BatchNorm1d, Dropout, Sequential, Module, BCEWithLogitsLoss\n",
    "import torch.optim as optim\n",
    "from torch.utils.data import Dataset, DataLoader\n",
    "\n",
    "# Input data files are available in the read-only \"../input/\" directory\n",
    "# For example, running this (by clicking run or pressing Shift+Enter) will list all files under the input directory\n",
    "\n",
    "import os\n",
    "for dirname, _, filenames in os.walk('./'):\n",
    "    for filename in filenames:\n",
    "        print(os.path.join(dirname, filename))\n",
    "\n",
    "# You can write up to 20GB to the current directory (/kaggle/working/) that gets preserved as output when you create a version using \"Save & Run All\" \n",
    "# You can also write temporary files to /kaggle/temp/, but they won't be saved outside of the current session"
   ]
  },
  {
   "cell_type": "markdown",
   "id": "374aaf57",
   "metadata": {
    "papermill": {
     "duration": 0.013369,
     "end_time": "2022-06-27T20:48:15.638184",
     "exception": false,
     "start_time": "2022-06-27T20:48:15.624815",
     "status": "completed"
    },
    "tags": []
   },
   "source": [
    "### 1.2- Improting Dataset"
   ]
  },
  {
   "cell_type": "code",
   "execution_count": 3,
   "id": "387e8a96",
   "metadata": {
    "execution": {
     "iopub.execute_input": "2022-06-27T20:48:15.659098Z",
     "iopub.status.busy": "2022-06-27T20:48:15.658215Z",
     "iopub.status.idle": "2022-06-27T20:48:17.567365Z",
     "shell.execute_reply": "2022-06-27T20:48:17.566465Z"
    },
    "papermill": {
     "duration": 1.921094,
     "end_time": "2022-06-27T20:48:17.569868",
     "exception": false,
     "start_time": "2022-06-27T20:48:15.648774",
     "status": "completed"
    },
    "tags": []
   },
   "outputs": [
    {
     "data": {
      "text/html": [
       "<div>\n",
       "<style scoped>\n",
       "    .dataframe tbody tr th:only-of-type {\n",
       "        vertical-align: middle;\n",
       "    }\n",
       "\n",
       "    .dataframe tbody tr th {\n",
       "        vertical-align: top;\n",
       "    }\n",
       "\n",
       "    .dataframe thead th {\n",
       "        text-align: right;\n",
       "    }\n",
       "</style>\n",
       "<table border=\"1\" class=\"dataframe\">\n",
       "  <thead>\n",
       "    <tr style=\"text-align: right;\">\n",
       "      <th></th>\n",
       "      <th>distance_from_home</th>\n",
       "      <th>distance_from_last_transaction</th>\n",
       "      <th>ratio_to_median_purchase_price</th>\n",
       "      <th>repeat_retailer</th>\n",
       "      <th>used_chip</th>\n",
       "      <th>used_pin_number</th>\n",
       "      <th>online_order</th>\n",
       "      <th>fraud</th>\n",
       "    </tr>\n",
       "  </thead>\n",
       "  <tbody>\n",
       "    <tr>\n",
       "      <th>0</th>\n",
       "      <td>57.877857</td>\n",
       "      <td>0.311140</td>\n",
       "      <td>1.945940</td>\n",
       "      <td>1.0</td>\n",
       "      <td>1.0</td>\n",
       "      <td>0.0</td>\n",
       "      <td>0.0</td>\n",
       "      <td>0.0</td>\n",
       "    </tr>\n",
       "    <tr>\n",
       "      <th>1</th>\n",
       "      <td>10.829943</td>\n",
       "      <td>0.175592</td>\n",
       "      <td>1.294219</td>\n",
       "      <td>1.0</td>\n",
       "      <td>0.0</td>\n",
       "      <td>0.0</td>\n",
       "      <td>0.0</td>\n",
       "      <td>0.0</td>\n",
       "    </tr>\n",
       "    <tr>\n",
       "      <th>2</th>\n",
       "      <td>5.091079</td>\n",
       "      <td>0.805153</td>\n",
       "      <td>0.427715</td>\n",
       "      <td>1.0</td>\n",
       "      <td>0.0</td>\n",
       "      <td>0.0</td>\n",
       "      <td>1.0</td>\n",
       "      <td>0.0</td>\n",
       "    </tr>\n",
       "    <tr>\n",
       "      <th>3</th>\n",
       "      <td>2.247564</td>\n",
       "      <td>5.600044</td>\n",
       "      <td>0.362663</td>\n",
       "      <td>1.0</td>\n",
       "      <td>1.0</td>\n",
       "      <td>0.0</td>\n",
       "      <td>1.0</td>\n",
       "      <td>0.0</td>\n",
       "    </tr>\n",
       "    <tr>\n",
       "      <th>4</th>\n",
       "      <td>44.190936</td>\n",
       "      <td>0.566486</td>\n",
       "      <td>2.222767</td>\n",
       "      <td>1.0</td>\n",
       "      <td>1.0</td>\n",
       "      <td>0.0</td>\n",
       "      <td>1.0</td>\n",
       "      <td>0.0</td>\n",
       "    </tr>\n",
       "    <tr>\n",
       "      <th>5</th>\n",
       "      <td>5.586408</td>\n",
       "      <td>13.261073</td>\n",
       "      <td>0.064768</td>\n",
       "      <td>1.0</td>\n",
       "      <td>0.0</td>\n",
       "      <td>0.0</td>\n",
       "      <td>0.0</td>\n",
       "      <td>0.0</td>\n",
       "    </tr>\n",
       "    <tr>\n",
       "      <th>6</th>\n",
       "      <td>3.724019</td>\n",
       "      <td>0.956838</td>\n",
       "      <td>0.278465</td>\n",
       "      <td>1.0</td>\n",
       "      <td>0.0</td>\n",
       "      <td>0.0</td>\n",
       "      <td>1.0</td>\n",
       "      <td>0.0</td>\n",
       "    </tr>\n",
       "    <tr>\n",
       "      <th>7</th>\n",
       "      <td>4.848247</td>\n",
       "      <td>0.320735</td>\n",
       "      <td>1.273050</td>\n",
       "      <td>1.0</td>\n",
       "      <td>0.0</td>\n",
       "      <td>1.0</td>\n",
       "      <td>0.0</td>\n",
       "      <td>0.0</td>\n",
       "    </tr>\n",
       "    <tr>\n",
       "      <th>8</th>\n",
       "      <td>0.876632</td>\n",
       "      <td>2.503609</td>\n",
       "      <td>1.516999</td>\n",
       "      <td>0.0</td>\n",
       "      <td>0.0</td>\n",
       "      <td>0.0</td>\n",
       "      <td>0.0</td>\n",
       "      <td>0.0</td>\n",
       "    </tr>\n",
       "    <tr>\n",
       "      <th>9</th>\n",
       "      <td>8.839047</td>\n",
       "      <td>2.970512</td>\n",
       "      <td>2.361683</td>\n",
       "      <td>1.0</td>\n",
       "      <td>0.0</td>\n",
       "      <td>0.0</td>\n",
       "      <td>1.0</td>\n",
       "      <td>0.0</td>\n",
       "    </tr>\n",
       "  </tbody>\n",
       "</table>\n",
       "</div>"
      ],
      "text/plain": [
       "   distance_from_home  distance_from_last_transaction  \\\n",
       "0           57.877857                        0.311140   \n",
       "1           10.829943                        0.175592   \n",
       "2            5.091079                        0.805153   \n",
       "3            2.247564                        5.600044   \n",
       "4           44.190936                        0.566486   \n",
       "5            5.586408                       13.261073   \n",
       "6            3.724019                        0.956838   \n",
       "7            4.848247                        0.320735   \n",
       "8            0.876632                        2.503609   \n",
       "9            8.839047                        2.970512   \n",
       "\n",
       "   ratio_to_median_purchase_price  repeat_retailer  used_chip  \\\n",
       "0                        1.945940              1.0        1.0   \n",
       "1                        1.294219              1.0        0.0   \n",
       "2                        0.427715              1.0        0.0   \n",
       "3                        0.362663              1.0        1.0   \n",
       "4                        2.222767              1.0        1.0   \n",
       "5                        0.064768              1.0        0.0   \n",
       "6                        0.278465              1.0        0.0   \n",
       "7                        1.273050              1.0        0.0   \n",
       "8                        1.516999              0.0        0.0   \n",
       "9                        2.361683              1.0        0.0   \n",
       "\n",
       "   used_pin_number  online_order  fraud  \n",
       "0              0.0           0.0    0.0  \n",
       "1              0.0           0.0    0.0  \n",
       "2              0.0           1.0    0.0  \n",
       "3              0.0           1.0    0.0  \n",
       "4              0.0           1.0    0.0  \n",
       "5              0.0           0.0    0.0  \n",
       "6              0.0           1.0    0.0  \n",
       "7              1.0           0.0    0.0  \n",
       "8              0.0           0.0    0.0  \n",
       "9              0.0           1.0    0.0  "
      ]
     },
     "execution_count": 3,
     "metadata": {},
     "output_type": "execute_result"
    }
   ],
   "source": [
    "dataset = pd.read_csv('./card_transdata.csv')\n",
    "dataset = dataset.dropna()\n",
    "dataset.head(10)"
   ]
  },
  {
   "cell_type": "code",
   "execution_count": 4,
   "id": "c79975cb",
   "metadata": {
    "execution": {
     "iopub.execute_input": "2022-06-27T20:48:17.585087Z",
     "iopub.status.busy": "2022-06-27T20:48:17.584819Z",
     "iopub.status.idle": "2022-06-27T20:48:17.616315Z",
     "shell.execute_reply": "2022-06-27T20:48:17.614655Z"
    },
    "papermill": {
     "duration": 0.041812,
     "end_time": "2022-06-27T20:48:17.618945",
     "exception": false,
     "start_time": "2022-06-27T20:48:17.577133",
     "status": "completed"
    },
    "tags": []
   },
   "outputs": [
    {
     "name": "stdout",
     "output_type": "stream",
     "text": [
      "<class 'pandas.core.frame.DataFrame'>\n",
      "RangeIndex: 1000000 entries, 0 to 999999\n",
      "Data columns (total 8 columns):\n",
      " #   Column                          Non-Null Count    Dtype  \n",
      "---  ------                          --------------    -----  \n",
      " 0   distance_from_home              1000000 non-null  float64\n",
      " 1   distance_from_last_transaction  1000000 non-null  float64\n",
      " 2   ratio_to_median_purchase_price  1000000 non-null  float64\n",
      " 3   repeat_retailer                 1000000 non-null  float64\n",
      " 4   used_chip                       1000000 non-null  float64\n",
      " 5   used_pin_number                 1000000 non-null  float64\n",
      " 6   online_order                    1000000 non-null  float64\n",
      " 7   fraud                           1000000 non-null  float64\n",
      "dtypes: float64(8)\n",
      "memory usage: 61.0 MB\n"
     ]
    }
   ],
   "source": [
    "dataset.info()"
   ]
  },
  {
   "cell_type": "code",
   "execution_count": 5,
   "id": "428e7e86",
   "metadata": {
    "execution": {
     "iopub.execute_input": "2022-06-27T20:48:17.634855Z",
     "iopub.status.busy": "2022-06-27T20:48:17.634598Z",
     "iopub.status.idle": "2022-06-27T20:48:17.853006Z",
     "shell.execute_reply": "2022-06-27T20:48:17.851987Z"
    },
    "papermill": {
     "duration": 0.228141,
     "end_time": "2022-06-27T20:48:17.855064",
     "exception": false,
     "start_time": "2022-06-27T20:48:17.626923",
     "status": "completed"
    },
    "tags": []
   },
   "outputs": [
    {
     "data": {
      "text/plain": [
       "<AxesSubplot:xlabel='fraud', ylabel='count'>"
      ]
     },
     "execution_count": 5,
     "metadata": {},
     "output_type": "execute_result"
    },
    {
     "data": {
      "image/png": "[encoded data removed]",
      "text/plain": [
       "<Figure size 432x288 with 1 Axes>"
      ]
     },
     "metadata": {},
     "output_type": "display_data"
    }
   ],
   "source": [
    "sns.set_context('paper', font_scale = 1)\n",
    "sns.set_style('ticks')\n",
    "sns.countplot(x ='fraud', data = dataset, palette ='deep')"
   ]
  },
  {
   "cell_type": "markdown",
   "id": "5f3a3ea6",
   "metadata": {
    "papermill": {
     "duration": 0.013916,
     "end_time": "2022-06-27T20:48:17.882449",
     "exception": false,
     "start_time": "2022-06-27T20:48:17.868533",
     "status": "completed"
    },
    "tags": []
   },
   "source": [
    "`As it indicates, dataset is utterly imbalanced`"
   ]
  },
  {
   "cell_type": "markdown",
   "id": "8347eefd",
   "metadata": {
    "papermill": {
     "duration": 0.007081,
     "end_time": "2022-06-27T20:48:17.897996",
     "exception": false,
     "start_time": "2022-06-27T20:48:17.890915",
     "status": "completed"
    },
    "tags": []
   },
   "source": [
    "We choose all columns as our matrix of features except the last one, which is 'y' column."
   ]
  },
  {
   "cell_type": "code",
   "execution_count": 10,
   "id": "9daadbbc",
   "metadata": {},
   "outputs": [],
   "source": [
    "real = dataset[dataset[\"fraud\"]==0]\n",
    "fraud = dataset[dataset[\"fraud\"]==1]\n",
    "\n",
    "real_resample = real.sample(n=87403, random_state=123)\n",
    "fraud_resample = fraud.sample(n = 87403, random_state=123)\n",
    "\n",
    "dataset = pd.concat([real_resample, fraud_resample], axis = 0)"
   ]
  },
  {
   "cell_type": "code",
   "execution_count": 11,
   "id": "0ccf2c31",
   "metadata": {
    "execution": {
     "iopub.execute_input": "2022-06-27T20:48:17.914802Z",
     "iopub.status.busy": "2022-06-27T20:48:17.914163Z",
     "iopub.status.idle": "2022-06-27T20:48:17.919526Z",
     "shell.execute_reply": "2022-06-27T20:48:17.918469Z"
    },
    "papermill": {
     "duration": 0.016095,
     "end_time": "2022-06-27T20:48:17.921467",
     "exception": false,
     "start_time": "2022-06-27T20:48:17.905372",
     "status": "completed"
    },
    "tags": []
   },
   "outputs": [],
   "source": [
    "X = dataset.iloc[:, : -1].values\n",
    "y = dataset.iloc[:, -1].values"
   ]
  },
  {
   "cell_type": "code",
   "execution_count": 12,
   "id": "276b4a4c",
   "metadata": {
    "execution": {
     "iopub.execute_input": "2022-06-27T20:48:17.937898Z",
     "iopub.status.busy": "2022-06-27T20:48:17.936471Z",
     "iopub.status.idle": "2022-06-27T20:48:17.951083Z",
     "shell.execute_reply": "2022-06-27T20:48:17.949725Z"
    },
    "papermill": {
     "duration": 0.024616,
     "end_time": "2022-06-27T20:48:17.953105",
     "exception": false,
     "start_time": "2022-06-27T20:48:17.928489",
     "status": "completed"
    },
    "tags": []
   },
   "outputs": [
    {
     "name": "stdout",
     "output_type": "stream",
     "text": [
      "Shape of X: (174806, 7)\n",
      "Shape of y: (174806,)\n"
     ]
    }
   ],
   "source": [
    "dataset.fraud.value_counts()\n",
    "print('Shape of X:', np.shape(X))\n",
    "print('Shape of y:', np.shape(y))"
   ]
  },
  {
   "cell_type": "code",
   "execution_count": 13,
   "id": "37afcf88",
   "metadata": {},
   "outputs": [
    {
     "data": {
      "text/plain": [
       "fraud\n",
       "0.0    87403\n",
       "1.0    87403\n",
       "dtype: int64"
      ]
     },
     "execution_count": 13,
     "metadata": {},
     "output_type": "execute_result"
    },
    {
     "data": {
      "image/png": "[encoded data removed]",
      "text/plain": [
       "<Figure size 432x288 with 1 Axes>"
      ]
     },
     "metadata": {},
     "output_type": "display_data"
    }
   ],
   "source": [
    "dataset0.value_counts(\"fraud\").plot.pie(autopct = \"%.1f\")\n",
    "dataset0.value_counts(\"fraud\")"
   ]
  },
  {
   "cell_type": "markdown",
   "id": "c3e4a3fc",
   "metadata": {
    "papermill": {
     "duration": 0.007592,
     "end_time": "2022-06-27T20:48:17.968081",
     "exception": false,
     "start_time": "2022-06-27T20:48:17.960489",
     "status": "completed"
    },
    "tags": []
   },
   "source": [
    "### 1.3- Oversampling and Train, Test split"
   ]
  },
  {
   "cell_type": "code",
   "execution_count": 14,
   "id": "b2645118",
   "metadata": {
    "execution": {
     "iopub.execute_input": "2022-06-27T20:48:17.983281Z",
     "iopub.status.busy": "2022-06-27T20:48:17.983020Z",
     "iopub.status.idle": "2022-06-27T20:48:19.296739Z",
     "shell.execute_reply": "2022-06-27T20:48:19.295745Z"
    },
    "papermill": {
     "duration": 1.324326,
     "end_time": "2022-06-27T20:48:19.299443",
     "exception": false,
     "start_time": "2022-06-27T20:48:17.975117",
     "status": "completed"
    },
    "tags": []
   },
   "outputs": [
    {
     "name": "stdout",
     "output_type": "stream",
     "text": [
      "Shape of X: (174806, 7)\n",
      "Shape of y: (174806,)\n",
      "\n",
      "X_train: (122364, 7)\n",
      "y_train: (122364,)\n",
      "X_test: (52442, 7)\n",
      "y_test: (52442,)\n"
     ]
    }
   ],
   "source": [
    "X, y = SMOTE().fit_resample(X, y)\n",
    "print('Shape of X:', np.shape(X))\n",
    "print('Shape of y:', np.shape(y))\n",
    "\n",
    "X_train, X_test, y_train, y_test = train_test_split(X, y, test_size = 0.3, random_state=0)\n",
    "print('\\nX_train:', np.shape(X_train))\n",
    "print('y_train:', np.shape(y_train))\n",
    "print('X_test:', np.shape(X_test))\n",
    "print('y_test:', np.shape(y_test))"
   ]
  },
  {
   "cell_type": "markdown",
   "id": "3a13d4ee",
   "metadata": {
    "papermill": {
     "duration": 0.007314,
     "end_time": "2022-06-27T20:48:19.314905",
     "exception": false,
     "start_time": "2022-06-27T20:48:19.307591",
     "status": "completed"
    },
    "tags": []
   },
   "source": [
    "## **2- Binary Classification**"
   ]
  },
  {
   "cell_type": "code",
   "execution_count": 15,
   "id": "f4d19566",
   "metadata": {
    "execution": {
     "iopub.execute_input": "2022-06-27T20:48:19.331648Z",
     "iopub.status.busy": "2022-06-27T20:48:19.330865Z",
     "iopub.status.idle": "2022-06-27T20:48:19.336690Z",
     "shell.execute_reply": "2022-06-27T20:48:19.335663Z"
    },
    "papermill": {
     "duration": 0.016619,
     "end_time": "2022-06-27T20:48:19.338924",
     "exception": false,
     "start_time": "2022-06-27T20:48:19.322305",
     "status": "completed"
    },
    "tags": []
   },
   "outputs": [],
   "source": [
    "def plt_acc_loss(train, epochs, plttype):\n",
    "    epochstoplot = range(1, epochs + 1)\n",
    "    plt.plot(epochstoplot, train, label='Training ' + plttype)\n",
    "    plt.title('Training ' + plttype)\n",
    "    plt.xlabel('Epochs')\n",
    "    plt.ylabel(plttype)\n",
    "    plt.legend()\n",
    "    plt.show()"
   ]
  },
  {
   "cell_type": "markdown",
   "id": "2bf81e26",
   "metadata": {
    "papermill": {
     "duration": 0.007065,
     "end_time": "2022-06-27T20:48:19.353075",
     "exception": false,
     "start_time": "2022-06-27T20:48:19.346010",
     "status": "completed"
    },
    "tags": []
   },
   "source": [
    "### 2.1- Deep Learning"
   ]
  },
  {
   "cell_type": "markdown",
   "id": "b844bfc2",
   "metadata": {
    "papermill": {
     "duration": 0.006952,
     "end_time": "2022-06-27T20:48:19.367183",
     "exception": false,
     "start_time": "2022-06-27T20:48:19.360231",
     "status": "completed"
    },
    "tags": []
   },
   "source": [
    "`Time to define Hyperparameters`"
   ]
  },
  {
   "cell_type": "code",
   "execution_count": 22,
   "id": "35064e47",
   "metadata": {
    "execution": {
     "iopub.execute_input": "2022-06-27T20:48:19.382655Z",
     "iopub.status.busy": "2022-06-27T20:48:19.382409Z",
     "iopub.status.idle": "2022-06-27T20:48:19.441650Z",
     "shell.execute_reply": "2022-06-27T20:48:19.440713Z"
    },
    "papermill": {
     "duration": 0.069318,
     "end_time": "2022-06-27T20:48:19.443750",
     "exception": false,
     "start_time": "2022-06-27T20:48:19.374432",
     "status": "completed"
    },
    "tags": []
   },
   "outputs": [
    {
     "name": "stdout",
     "output_type": "stream",
     "text": [
      "Device: cuda\n"
     ]
    }
   ],
   "source": [
    "EPOCHS = 100\n",
    "BATCH_SIZE = 64\n",
    "LEARNING_RATE = 0.00146\n",
    "WORKERS = 0\n",
    "WD = 1e-6\n",
    "device = torch.device('cuda' if torch.cuda.is_available() else 'cpu')\n",
    "torch.backends.cudnn.benchmark = False\n",
    "torch.backends.cudnn.deterministic = True\n",
    "print('Device:', device)"
   ]
  },
  {
   "cell_type": "code",
   "execution_count": 23,
   "id": "110b89d1",
   "metadata": {
    "execution": {
     "iopub.execute_input": "2022-06-27T20:48:19.460402Z",
     "iopub.status.busy": "2022-06-27T20:48:19.459619Z",
     "iopub.status.idle": "2022-06-27T20:48:19.504629Z",
     "shell.execute_reply": "2022-06-27T20:48:19.503806Z"
    },
    "papermill": {
     "duration": 0.054978,
     "end_time": "2022-06-27T20:48:19.506514",
     "exception": false,
     "start_time": "2022-06-27T20:48:19.451536",
     "status": "completed"
    },
    "tags": []
   },
   "outputs": [],
   "source": [
    "class TrainData(Dataset):\n",
    "    \n",
    "    def __init__(self, X_data, y_data):\n",
    "        self.X_data = X_data\n",
    "        self.y_data = y_data\n",
    "        \n",
    "    def __getitem__(self, index):\n",
    "        return self.X_data[index], self.y_data[index]\n",
    "        \n",
    "    def __len__ (self):\n",
    "        return len(self.X_data)\n",
    "\n",
    "class TestData(Dataset):\n",
    "    \n",
    "    def __init__(self, X_data, y_data):\n",
    "        self.X_data = X_data\n",
    "        self.y_data = y_data\n",
    "        \n",
    "    def __getitem__(self, index):\n",
    "        return self.X_data[index], self.y_data[index]\n",
    "        \n",
    "    def __len__ (self):\n",
    "        return len(self.X_data)\n",
    "    \n",
    "train_data = TrainData(torch.FloatTensor(X_train), torch.FloatTensor(y_train))\n",
    "test_data = TestData(torch.FloatTensor(X_test), torch.FloatTensor(y_test))\n",
    "\n",
    "train_loader = DataLoader(dataset=train_data, batch_size=BATCH_SIZE, shuffle=True, num_workers=WORKERS)\n",
    "test_loader = DataLoader(dataset=test_data, batch_size=16, shuffle=True, num_workers=WORKERS)"
   ]
  },
  {
   "cell_type": "markdown",
   "id": "7bfd66db",
   "metadata": {
    "papermill": {
     "duration": 0.006994,
     "end_time": "2022-06-27T20:48:19.520717",
     "exception": false,
     "start_time": "2022-06-27T20:48:19.513723",
     "status": "completed"
    },
    "tags": []
   },
   "source": [
    "### 2.2- Neural Network with 3 different layers"
   ]
  },
  {
   "cell_type": "code",
   "execution_count": 24,
   "id": "5d0a429b",
   "metadata": {
    "execution": {
     "iopub.execute_input": "2022-06-27T20:48:19.536232Z",
     "iopub.status.busy": "2022-06-27T20:48:19.535989Z",
     "iopub.status.idle": "2022-06-27T20:48:19.544467Z",
     "shell.execute_reply": "2022-06-27T20:48:19.543663Z"
    },
    "papermill": {
     "duration": 0.01842,
     "end_time": "2022-06-27T20:48:19.546337",
     "exception": false,
     "start_time": "2022-06-27T20:48:19.527917",
     "status": "completed"
    },
    "tags": []
   },
   "outputs": [],
   "source": [
    "class NeuralNet(Module):\n",
    "\n",
    "    def __init__(self):\n",
    "        super(NeuralNet, self).__init__()\n",
    "\n",
    "        # Number of input features is 7.\n",
    "        self.layer_1 = Linear(7, 64) \n",
    "        self.layer_2 = Linear(64, 64)\n",
    "        self.layer_out = Linear(64, 1) \n",
    "\n",
    "        self.relu = ReLU()\n",
    "        self.dropout = Dropout(p=0.1)\n",
    "        self.batchnorm1 = BatchNorm1d(64)\n",
    "        self.batchnorm2 = BatchNorm1d(64)\n",
    "          \n",
    "    def forward(self, inputs):\n",
    "        x = self.relu(self.layer_1(inputs))\n",
    "        x = self.batchnorm1(x)\n",
    "        x = self.relu(self.layer_2(x))\n",
    "        x = self.batchnorm2(x)\n",
    "        x = self.dropout(x)\n",
    "        x = self.layer_out(x)\n",
    "\n",
    "        return x"
   ]
  },
  {
   "cell_type": "code",
   "execution_count": 25,
   "id": "b0c10bc8",
   "metadata": {
    "execution": {
     "iopub.execute_input": "2022-06-27T20:48:19.562028Z",
     "iopub.status.busy": "2022-06-27T20:48:19.561781Z",
     "iopub.status.idle": "2022-06-27T20:48:19.567047Z",
     "shell.execute_reply": "2022-06-27T20:48:19.565989Z"
    },
    "papermill": {
     "duration": 0.015464,
     "end_time": "2022-06-27T20:48:19.569028",
     "exception": false,
     "start_time": "2022-06-27T20:48:19.553564",
     "status": "completed"
    },
    "tags": []
   },
   "outputs": [],
   "source": [
    "def binary_acc(y_pred, y_test):\n",
    "    y_pred_tag = torch.round(torch.sigmoid(y_pred))\n",
    "\n",
    "    correct_results_sum = (y_pred_tag == y_test).sum().float()\n",
    "    acc = correct_results_sum/y_test.shape[0]\n",
    "    acc = torch.round(acc * 100)\n",
    "    \n",
    "    return acc"
   ]
  },
  {
   "cell_type": "markdown",
   "id": "81b4a32e",
   "metadata": {
    "papermill": {
     "duration": 0.00719,
     "end_time": "2022-06-27T20:48:19.583601",
     "exception": false,
     "start_time": "2022-06-27T20:48:19.576411",
     "status": "completed"
    },
    "tags": []
   },
   "source": [
    "### 2.3- Training"
   ]
  },
  {
   "cell_type": "code",
   "execution_count": 26,
   "id": "cdf997dc",
   "metadata": {
    "execution": {
     "iopub.execute_input": "2022-06-27T20:48:19.598967Z",
     "iopub.status.busy": "2022-06-27T20:48:19.598718Z",
     "iopub.status.idle": "2022-06-27T21:01:07.573371Z",
     "shell.execute_reply": "2022-06-27T21:01:07.571130Z"
    },
    "papermill": {
     "duration": 767.990994,
     "end_time": "2022-06-27T21:01:07.581761",
     "exception": false,
     "start_time": "2022-06-27T20:48:19.590767",
     "status": "completed"
    },
    "tags": []
   },
   "outputs": [
    {
     "name": "stdout",
     "output_type": "stream",
     "text": [
      "Epoch 01 / 100: | Loss: 0.2972 | Acc: 89.780\n",
      "Epoch 02 / 100: | Loss: 0.2337 | Acc: 92.261\n",
      "Epoch 03 / 100: | Loss: 0.2222 | Acc: 92.510\n",
      "Epoch 04 / 100: | Loss: 0.2093 | Acc: 92.835\n",
      "Epoch 05 / 100: | Loss: 0.1987 | Acc: 93.012\n",
      "Epoch 06 / 100: | Loss: 0.1902 | Acc: 93.184\n",
      "Epoch 07 / 100: | Loss: 0.1878 | Acc: 93.242\n",
      "Epoch 08 / 100: | Loss: 0.1823 | Acc: 93.332\n",
      "Epoch 09 / 100: | Loss: 0.1693 | Acc: 93.851\n",
      "Epoch 10 / 100: | Loss: 0.1656 | Acc: 93.885\n",
      "Epoch 11 / 100: | Loss: 0.1572 | Acc: 94.212\n",
      "Epoch 12 / 100: | Loss: 0.1532 | Acc: 94.402\n",
      "Epoch 13 / 100: | Loss: 0.1590 | Acc: 94.039\n",
      "Epoch 14 / 100: | Loss: 0.1505 | Acc: 94.418\n",
      "Epoch 15 / 100: | Loss: 0.1573 | Acc: 94.068\n",
      "Epoch 16 / 100: | Loss: 0.1477 | Acc: 94.473\n",
      "Epoch 17 / 100: | Loss: 0.1441 | Acc: 94.645\n",
      "Epoch 18 / 100: | Loss: 0.1393 | Acc: 94.815\n",
      "Epoch 19 / 100: | Loss: 0.1409 | Acc: 94.746\n",
      "Epoch 20 / 100: | Loss: 0.1313 | Acc: 95.115\n",
      "Epoch 21 / 100: | Loss: 0.1354 | Acc: 94.870\n",
      "Epoch 22 / 100: | Loss: 0.1323 | Acc: 95.099\n",
      "Epoch 23 / 100: | Loss: 0.1273 | Acc: 95.287\n",
      "Epoch 24 / 100: | Loss: 0.1283 | Acc: 95.240\n",
      "Epoch 25 / 100: | Loss: 0.1272 | Acc: 95.147\n",
      "Epoch 26 / 100: | Loss: 0.1286 | Acc: 95.144\n",
      "Epoch 27 / 100: | Loss: 0.1211 | Acc: 95.466\n",
      "Epoch 28 / 100: | Loss: 0.1209 | Acc: 95.421\n",
      "Epoch 29 / 100: | Loss: 0.1163 | Acc: 95.703\n",
      "Epoch 30 / 100: | Loss: 0.1150 | Acc: 95.720\n",
      "Epoch 31 / 100: | Loss: 0.1145 | Acc: 95.709\n",
      "Epoch 32 / 100: | Loss: 0.1135 | Acc: 95.732\n",
      "Epoch 33 / 100: | Loss: 0.1126 | Acc: 95.696\n",
      "Epoch 34 / 100: | Loss: 0.1101 | Acc: 95.809\n",
      "Epoch 35 / 100: | Loss: 0.1140 | Acc: 95.654\n",
      "Epoch 36 / 100: | Loss: 0.1197 | Acc: 95.487\n",
      "Epoch 37 / 100: | Loss: 0.1133 | Acc: 95.761\n",
      "Epoch 38 / 100: | Loss: 0.1153 | Acc: 95.592\n",
      "Epoch 39 / 100: | Loss: 0.1128 | Acc: 95.700\n",
      "Epoch 40 / 100: | Loss: 0.1081 | Acc: 95.942\n",
      "Epoch 41 / 100: | Loss: 0.1160 | Acc: 95.597\n",
      "Epoch 42 / 100: | Loss: 0.1206 | Acc: 95.427\n",
      "Epoch 43 / 100: | Loss: 0.1116 | Acc: 95.780\n",
      "Epoch 44 / 100: | Loss: 0.1106 | Acc: 95.790\n",
      "Epoch 45 / 100: | Loss: 0.1084 | Acc: 95.929\n",
      "Epoch 46 / 100: | Loss: 0.1096 | Acc: 95.846\n",
      "Epoch 47 / 100: | Loss: 0.1089 | Acc: 95.839\n",
      "Epoch 48 / 100: | Loss: 0.1099 | Acc: 95.824\n",
      "Epoch 49 / 100: | Loss: 0.1101 | Acc: 95.829\n",
      "Epoch 50 / 100: | Loss: 0.1079 | Acc: 95.867\n",
      "Epoch 51 / 100: | Loss: 0.1107 | Acc: 95.778\n",
      "Epoch 52 / 100: | Loss: 0.1060 | Acc: 95.941\n",
      "Epoch 53 / 100: | Loss: 0.1040 | Acc: 96.053\n",
      "Epoch 54 / 100: | Loss: 0.1057 | Acc: 95.958\n",
      "Epoch 55 / 100: | Loss: 0.1012 | Acc: 96.093\n",
      "Epoch 56 / 100: | Loss: 0.1017 | Acc: 96.113\n",
      "Epoch 57 / 100: | Loss: 0.1024 | Acc: 96.148\n",
      "Epoch 58 / 100: | Loss: 0.1059 | Acc: 95.889\n",
      "Epoch 59 / 100: | Loss: 0.1015 | Acc: 96.119\n",
      "Epoch 60 / 100: | Loss: 0.0991 | Acc: 96.252\n",
      "Epoch 61 / 100: | Loss: 0.1076 | Acc: 95.872\n",
      "Epoch 62 / 100: | Loss: 0.1086 | Acc: 95.851\n",
      "Epoch 63 / 100: | Loss: 0.1048 | Acc: 95.937\n",
      "Epoch 64 / 100: | Loss: 0.1078 | Acc: 95.929\n",
      "Epoch 65 / 100: | Loss: 0.1088 | Acc: 95.834\n",
      "Epoch 66 / 100: | Loss: 0.1083 | Acc: 95.921\n",
      "Epoch 67 / 100: | Loss: 0.1100 | Acc: 95.791\n",
      "Epoch 68 / 100: | Loss: 0.1112 | Acc: 95.804\n",
      "Epoch 69 / 100: | Loss: 0.1027 | Acc: 96.141\n",
      "Epoch 70 / 100: | Loss: 0.1095 | Acc: 95.871\n",
      "Epoch 71 / 100: | Loss: 0.0995 | Acc: 96.200\n",
      "Epoch 72 / 100: | Loss: 0.1009 | Acc: 96.173\n",
      "Epoch 73 / 100: | Loss: 0.0955 | Acc: 96.428\n",
      "Epoch 74 / 100: | Loss: 0.0937 | Acc: 96.416\n",
      "Epoch 75 / 100: | Loss: 0.0932 | Acc: 96.356\n",
      "Epoch 76 / 100: | Loss: 0.0925 | Acc: 96.508\n",
      "Epoch 77 / 100: | Loss: 0.0937 | Acc: 96.440\n",
      "Epoch 78 / 100: | Loss: 0.0950 | Acc: 96.391\n",
      "Epoch 79 / 100: | Loss: 0.0914 | Acc: 96.491\n",
      "Epoch 80 / 100: | Loss: 0.0908 | Acc: 96.454\n",
      "Epoch 81 / 100: | Loss: 0.0896 | Acc: 96.566\n",
      "Epoch 82 / 100: | Loss: 0.0908 | Acc: 96.565\n",
      "Epoch 83 / 100: | Loss: 0.0914 | Acc: 96.499\n",
      "Epoch 84 / 100: | Loss: 0.0878 | Acc: 96.643\n",
      "Epoch 85 / 100: | Loss: 0.0862 | Acc: 96.714\n",
      "Epoch 86 / 100: | Loss: 0.0956 | Acc: 96.389\n",
      "Epoch 87 / 100: | Loss: 0.0891 | Acc: 96.621\n",
      "Epoch 88 / 100: | Loss: 0.0879 | Acc: 96.599\n",
      "Epoch 89 / 100: | Loss: 0.0845 | Acc: 96.801\n",
      "Epoch 90 / 100: | Loss: 0.0882 | Acc: 96.613\n",
      "Epoch 91 / 100: | Loss: 0.0923 | Acc: 96.499\n",
      "Epoch 92 / 100: | Loss: 0.0874 | Acc: 96.709\n",
      "Epoch 93 / 100: | Loss: 0.0890 | Acc: 96.627\n",
      "Epoch 94 / 100: | Loss: 0.0893 | Acc: 96.628\n",
      "Epoch 95 / 100: | Loss: 0.0862 | Acc: 96.723\n",
      "Epoch 96 / 100: | Loss: 0.0798 | Acc: 97.011\n",
      "Epoch 97 / 100: | Loss: 0.0814 | Acc: 96.958\n",
      "Epoch 98 / 100: | Loss: 0.0937 | Acc: 96.493\n",
      "Epoch 99 / 100: | Loss: 0.0868 | Acc: 96.646\n",
      "Epoch 100 / 100: | Loss: 0.0985 | Acc: 96.263\n",
      "\n",
      "Training is completed!\n",
      "_____________________________\n",
      "Total Training Time: 6.61 min\n"
     ]
    }
   ],
   "source": [
    "start_time = time.time()\n",
    "\n",
    "accuracy_stats = []\n",
    "loss_stats = []\n",
    "\n",
    "model = NeuralNet()\n",
    "model.to(device)\n",
    "loss = BCEWithLogitsLoss()\n",
    "optimizer = optim.SGD(model.parameters(), lr=LEARNING_RATE, weight_decay=WD)\n",
    "\n",
    "model.train()\n",
    "\n",
    "for i in range(1, EPOCHS+1):\n",
    "    epoch_loss = 0\n",
    "    epoch_acc = 0\n",
    "    for X_batch, y_batch in train_loader:\n",
    "        X_batch, y_batch = X_batch.to(device), y_batch.to(device)\n",
    "        \n",
    "        y_pred = model(X_batch)\n",
    "        l = loss(y_pred, y_batch.unsqueeze(1))\n",
    "        \n",
    "        optimizer.zero_grad()\n",
    "        l.backward()\n",
    "        optimizer.step()\n",
    "        \n",
    "        acc = binary_acc(y_pred, y_batch.unsqueeze(1))\n",
    "\n",
    "        epoch_loss += l.item()\n",
    "        epoch_acc += acc.item()\n",
    "        \n",
    "\n",
    "    print(f'Epoch {i:02d} / {EPOCHS:02d}: | Loss: {epoch_loss/len(train_loader):.4f} | Acc: {epoch_acc/len(train_loader):.3f}')\n",
    "    loss_stats.append(epoch_loss / len(train_loader))\n",
    "    accuracy_stats.append(epoch_acc / len(train_loader))\n",
    "\n",
    "\n",
    "print('\\nTraining is completed!')\n",
    "print('_____________________________')\n",
    "print(f'Total Training Time: {(time.time() - start_time)/60:.2f} min')"
   ]
  },
  {
   "cell_type": "code",
   "execution_count": 27,
   "id": "a9e914c3",
   "metadata": {
    "execution": {
     "iopub.execute_input": "2022-06-27T21:01:07.599153Z",
     "iopub.status.busy": "2022-06-27T21:01:07.598842Z",
     "iopub.status.idle": "2022-06-27T21:01:07.775022Z",
     "shell.execute_reply": "2022-06-27T21:01:07.774106Z"
    },
    "papermill": {
     "duration": 0.187306,
     "end_time": "2022-06-27T21:01:07.777114",
     "exception": false,
     "start_time": "2022-06-27T21:01:07.589808",
     "status": "completed"
    },
    "tags": []
   },
   "outputs": [
    {
     "data": {
      "image/png": "[encoded data removed]",
      "text/plain": [
       "<Figure size 432x288 with 1 Axes>"
      ]
     },
     "metadata": {},
     "output_type": "display_data"
    }
   ],
   "source": [
    "plt_acc_loss(loss_stats, EPOCHS, 'Loss')"
   ]
  },
  {
   "cell_type": "code",
   "execution_count": 28,
   "id": "035763ad",
   "metadata": {
    "execution": {
     "iopub.execute_input": "2022-06-27T21:01:07.796193Z",
     "iopub.status.busy": "2022-06-27T21:01:07.794632Z",
     "iopub.status.idle": "2022-06-27T21:01:08.110168Z",
     "shell.execute_reply": "2022-06-27T21:01:08.109233Z"
    },
    "papermill": {
     "duration": 0.326556,
     "end_time": "2022-06-27T21:01:08.112133",
     "exception": false,
     "start_time": "2022-06-27T21:01:07.785577",
     "status": "completed"
    },
    "tags": []
   },
   "outputs": [
    {
     "data": {
      "image/png": "[encoded data removed]",
      "text/plain": [
       "<Figure size 432x288 with 1 Axes>"
      ]
     },
     "metadata": {},
     "output_type": "display_data"
    }
   ],
   "source": [
    "plt_acc_loss(accuracy_stats, EPOCHS, 'Accuracy')"
   ]
  },
  {
   "cell_type": "markdown",
   "id": "abc91600",
   "metadata": {
    "papermill": {
     "duration": 0.008235,
     "end_time": "2022-06-27T21:01:08.129310",
     "exception": false,
     "start_time": "2022-06-27T21:01:08.121075",
     "status": "completed"
    },
    "tags": []
   },
   "source": [
    "### 2.4- Testing"
   ]
  },
  {
   "cell_type": "code",
   "execution_count": 29,
   "id": "caec43f4",
   "metadata": {
    "execution": {
     "iopub.execute_input": "2022-06-27T21:01:08.147749Z",
     "iopub.status.busy": "2022-06-27T21:01:08.147463Z",
     "iopub.status.idle": "2022-06-27T21:02:32.164042Z",
     "shell.execute_reply": "2022-06-27T21:02:32.162984Z"
    },
    "papermill": {
     "duration": 84.037694,
     "end_time": "2022-06-27T21:02:32.175754",
     "exception": false,
     "start_time": "2022-06-27T21:01:08.138060",
     "status": "completed"
    },
    "tags": []
   },
   "outputs": [
    {
     "name": "stdout",
     "output_type": "stream",
     "text": [
      "\\Testing is completed!\n",
      "_____________________________\n",
      "Total Testing Time: 0.03 min\n"
     ]
    }
   ],
   "source": [
    "start_time = time.time()\n",
    "\n",
    "y_pred_list = []\n",
    "y_true_list = []\n",
    "model.eval()\n",
    "with torch.no_grad():\n",
    "    for X_batch, y_batch in test_loader:\n",
    "        X_batch_t, y_batch_t = X_batch.to(device), y_batch.to(device)\n",
    "        y_test_pred = model(X_batch_t)\n",
    "        y_test_pred = torch.sigmoid(y_test_pred)\n",
    "        y_pred_tag = torch.round(y_test_pred)\n",
    "        y_pred_list.append(y_pred_tag.cpu().numpy())\n",
    "        y_true_list.append(y_batch_t.cpu().numpy())\n",
    "\n",
    "y_pred_list = [a.squeeze().tolist() for a in y_pred_list]\n",
    "y_pred_list = [i[0] for i in y_pred_list]\n",
    "y_true_list = [i[0] for i in y_true_list]\n",
    "\n",
    "print('\\Testing is completed!')\n",
    "print('_____________________________')\n",
    "print(f'Total Testing Time: {(time.time() - start_time)/60:.2f} min')"
   ]
  },
  {
   "cell_type": "markdown",
   "id": "93e8ce2a",
   "metadata": {
    "papermill": {
     "duration": 0.00827,
     "end_time": "2022-06-27T21:02:32.192520",
     "exception": false,
     "start_time": "2022-06-27T21:02:32.184250",
     "status": "completed"
    },
    "tags": []
   },
   "source": [
    "## **3- Classification Report**"
   ]
  },
  {
   "cell_type": "code",
   "execution_count": 30,
   "id": "cafe2a9d",
   "metadata": {
    "execution": {
     "iopub.execute_input": "2022-06-27T21:02:32.212307Z",
     "iopub.status.busy": "2022-06-27T21:02:32.210870Z",
     "iopub.status.idle": "2022-06-27T21:02:32.471775Z",
     "shell.execute_reply": "2022-06-27T21:02:32.470150Z"
    },
    "papermill": {
     "duration": 0.272417,
     "end_time": "2022-06-27T21:02:32.473772",
     "exception": false,
     "start_time": "2022-06-27T21:02:32.201355",
     "status": "completed"
    },
    "tags": []
   },
   "outputs": [
    {
     "name": "stdout",
     "output_type": "stream",
     "text": [
      "CLASSIFICATION REPORTS\n",
      "\n",
      "              precision    recall  f1-score   support\n",
      "\n",
      "         0.0       0.99      0.95      0.97      1593\n",
      "         1.0       0.96      0.99      0.97      1685\n",
      "\n",
      "    accuracy                           0.97      3278\n",
      "   macro avg       0.97      0.97      0.97      3278\n",
      "weighted avg       0.97      0.97      0.97      3278\n",
      "\n",
      "\n",
      "CONFUSION MATRIX\n",
      "\n",
      "[[1520   73]\n",
      " [  19 1666]]\n",
      "\n",
      "MEAN SQUARE ERROR: 0.028\n"
     ]
    }
   ],
   "source": [
    "print('CLASSIFICATION REPORTS\\n')\n",
    "print(classification_report(y_true_list, y_pred_list))\n",
    "print('\\nCONFUSION MATRIX\\n')\n",
    "print(confusion_matrix(y_true_list, y_pred_list))\n",
    "print(f'\\nMEAN SQUARE ERROR: {mean_squared_error(y_true_list, y_pred_list) :.3f}')"
   ]
  },
  {
   "cell_type": "code",
   "execution_count": 31,
   "id": "73e6fff8",
   "metadata": {
    "execution": {
     "iopub.execute_input": "2022-06-27T21:02:32.492339Z",
     "iopub.status.busy": "2022-06-27T21:02:32.492056Z",
     "iopub.status.idle": "2022-06-27T21:02:32.959465Z",
     "shell.execute_reply": "2022-06-27T21:02:32.958561Z"
    },
    "papermill": {
     "duration": 0.478954,
     "end_time": "2022-06-27T21:02:32.961454",
     "exception": false,
     "start_time": "2022-06-27T21:02:32.482500",
     "status": "completed"
    },
    "tags": []
   },
   "outputs": [
    {
     "data": {
      "text/plain": [
       "<matplotlib.colorbar.Colorbar at 0x201948f2df0>"
      ]
     },
     "execution_count": 31,
     "metadata": {},
     "output_type": "execute_result"
    },
    {
     "data": {
      "image/png": "[encoded data removed]",
      "text/plain": [
       "<Figure size 288x432 with 3 Axes>"
      ]
     },
     "metadata": {},
     "output_type": "display_data"
    }
   ],
   "source": [
    "tensor_dict = {\n",
    "    'y_true': torch.FloatTensor(y_true_list[: 30]),\n",
    "    '$\\hat{y}$': torch.FloatTensor(y_pred_list[: 30])\n",
    "    }\n",
    "\n",
    "n = len(tensor_dict)\n",
    "vmax = max(v.abs().max() for v in tensor_dict.values())\n",
    "figsize = (2 * n, 6)\n",
    "fig, axes = plt.subplots(1, n, figsize=figsize, constrained_layout=True, squeeze=True)\n",
    "axes = axes.flat if isinstance(axes, np.ndarray) else (axes,)\n",
    "for (name, v), ax in zip(tensor_dict.items(), axes):\n",
    "    v = torch.squeeze(v.detach())\n",
    "    if v.ndim == 1:\n",
    "        v = v.view(-1, 1)\n",
    "    img = ax.matshow(v, vmin=-vmax, vmax=vmax, cmap=plt.get_cmap('bwr'))\n",
    "    ax.set_xticks([])\n",
    "    ax.set_yticks([])\n",
    "    ax.set_title(name)\n",
    "fig.colorbar(img, cax=fig.add_axes([0.985, 0.25, 0.03, .5]))"
   ]
  }
 ],
 "metadata": {
  "kernelspec": {
   "display_name": "Python 3",
   "language": "python",
   "name": "python3"
  },
  "language_info": {
   "codemirror_mode": {
    "name": "ipython",
    "version": 3
   },
   "file_extension": ".py",
   "mimetype": "text/x-python",
   "name": "python",
   "nbconvert_exporter": "python",
   "pygments_lexer": "ipython3",
   "version": "3.9.12"
  },
  "papermill": {
   "default_parameters": {},
   "duration": 869.267315,
   "end_time": "2022-06-27T21:02:34.093654",
   "environment_variables": {},
   "exception": null,
   "input_path": "__notebook__.ipynb",
   "output_path": "__notebook__.ipynb",
   "parameters": {},
   "start_time": "2022-06-27T20:48:04.826339",
   "version": "2.3.4"
  }
 },
 "nbformat": 4,
 "nbformat_minor": 5
}
